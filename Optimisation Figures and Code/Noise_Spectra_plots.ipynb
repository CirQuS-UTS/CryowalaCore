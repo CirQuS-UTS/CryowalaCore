{
 "cells": [
  {
   "cell_type": "code",
   "execution_count": null,
   "metadata": {},
   "outputs": [],
   "source": [
    "from model_functions import *\n",
    "from param_functions import *\n",
    "import numpy as np\n",
    "import pandas as pd\n",
    "from IPython import display as ipd\n",
    "from matplotlib import pyplot as plt\n",
    "import matplotlib as mpl\n",
    "mpl.rcParams['figure.dpi'] = 100\n",
    "\n",
    "%matplotlib qt"
   ]
  },
  {
   "cell_type": "markdown",
   "metadata": {},
   "source": [
    "-----------------------"
   ]
  },
  {
   "cell_type": "code",
   "execution_count": null,
   "metadata": {},
   "outputs": [],
   "source": [
    "h = 6.626e-34\n",
    "k_B = 1.381e-23\n",
    "c = 3e8\n",
    "\n",
    "f = np.logspace(3, 15, 500)\n",
    "attenuation = [0, 20, 0, 20, 20]\n",
    "\n",
    "\n",
    "data = drive_noise(f, fridge_ours['labels'], [300, 50, 4, 0.9, 0.1, 0.01], attenuation, [0]*5, [1]*5)\n",
    "# data = data*"
   ]
  },
  {
   "cell_type": "code",
   "execution_count": null,
   "metadata": {},
   "outputs": [],
   "source": [
    "plt.plot(f, data[0])\n",
    "\n",
    "plt.xscale('log')\n",
    "plt.yscale('log')\n",
    "\n",
    "plt.xlim((1e3, 1e15))\n",
    "# plt.ylim((1e-11, 1e1))\n",
    "plt.xticks(np.logspace(3, 15, 13))\n",
    "# plt.yticks(np.logspace(-10, 0, 6))\n",
    "\n",
    "plt.grid(True, 'major', 'both')\n",
    "\n",
    "plt.title('Boltzmann Distribution for Different Temperature Stages')\n",
    "plt.ylabel('Power Spectral Density (norm.)')\n",
    "plt.xlabel('Frequency (Hz)')\n",
    "# plt.vlines(5.75e9, 0,1, 'grey', alpha=0.45, lw=9)\n",
    "# plt.legend(labels +['Attenuated\\nMicrowave Line'])\n",
    "\n",
    "plt.show()"
   ]
  },
  {
   "cell_type": "markdown",
   "metadata": {},
   "source": [
    "## From Scratch"
   ]
  },
  {
   "cell_type": "code",
   "execution_count": null,
   "metadata": {},
   "outputs": [],
   "source": [
    "# making the data (from scratch)\n",
    "h = 6.626e-34\n",
    "k_B = 1.381e-23\n",
    "c = 3e8\n",
    "\n",
    "NPS = lambda T, f: 1 / ( np.exp( h*f / (k_B*T) ) - 1 )                          # noise photons per second\n",
    "Planck = lambda T, f: h*f / ( np.exp( h*f / (k_B*T) ) - 1 )                     # noise power\n",
    "Planck_norm = lambda T, f: ( h*f / (k_B*T) ) / ( np.exp( h*f / (k_B*T) ) - 1 )  # noise power (norm.)    \n",
    "Planck_3d = lambda T, f: 2*(h*f**3/c**2) / ( np.exp( h*f / (k_B*T) ) - 1 )      # 3d blackbody, in W/(sr m^2 Hz)\n",
    "\n",
    "f = np.logspace(2, 16, 400)\n",
    "# T = [300, 35, 2.85, 0.882, 0.082, 0.006]\n",
    "T = [300, 50, 4, 0.9, 0.1, 0.01]\n",
    "# labels = ['RT', '50K', '4K', 'Still', 'CP', 'MXC']\n",
    "labels = ['300K', '50K', '4K', '900mK', '100mK', '10mK']\n",
    "\n",
    "nps_data = [NPS(t, f) for t in T]\n",
    "data = [Planck(t, f) for t in T]\n",
    "data_norm = [Planck_norm(t, f) for t in T]\n",
    "data_3d = [Planck_3d(t, f) for t in T]\n",
    "data_3d_norm = [d / np.max(d) for d in data_3d]"
   ]
  },
  {
   "cell_type": "code",
   "execution_count": null,
   "metadata": {},
   "outputs": [],
   "source": [
    "# making the attenuated noise plot\n",
    "total_noise = data[0]\n",
    "att = [0, 20, 0, 20, 20]\n",
    "\n",
    "for d, a in zip(data[1:], att):\n",
    "    A = 10**(a/10)\n",
    "    total_noise = total_noise / A\n",
    "    total_noise = total_noise + d*((A-1)/A)"
   ]
  },
  {
   "cell_type": "code",
   "execution_count": null,
   "metadata": {},
   "outputs": [],
   "source": [
    "#noise photons\n",
    "for i in range(len(T)): \n",
    "    plt.plot(f, nps_data[i])\n",
    "\n",
    "plt.xscale('log')\n",
    "plt.xlim((1e3, 1e15))\n",
    "plt.xticks(np.logspace(3, 15, 13))\n",
    "\n",
    "plt.yscale('linear')\n",
    "plt.ylim((0, 1e9))\n",
    "# plt.yticks(np.logspace(-6, 9, 6))\n",
    "\n",
    "# plt.yscale('log')\n",
    "# plt.ylim((1e-6, 1e9))\n",
    "# plt.yticks(np.logspace(-6, 9, 6))\n",
    "\n",
    "plt.grid(True, 'major', 'both')\n",
    "\n",
    "plt.title('Bose-Einstein Distribution')\n",
    "plt.ylabel(r'Noise Photons per second ($s^{-1}$)')\n",
    "plt.xlabel('Frequency (Hz)')\n",
    "# plt.vlines(5.75e9, 0,1, 'grey', alpha=0.45, lw=9)\n",
    "plt.legend(labels)\n",
    "\n",
    "plt.show()"
   ]
  },
  {
   "cell_type": "code",
   "execution_count": null,
   "metadata": {},
   "outputs": [],
   "source": [
    "# noise power \n",
    "for i in range(len(T)): \n",
    "    plt.plot(f, data[i])\n",
    "\n",
    "plt.xscale('log')\n",
    "plt.xlim((1e3, 1e15))\n",
    "plt.xticks(np.logspace(3, 15, 13))\n",
    "\n",
    "plt.yscale('log')\n",
    "plt.ylim((1e-33, 1e-18))\n",
    "plt.yticks(np.logspace(-33, -18, 6))\n",
    "\n",
    "plt.grid(True, 'major', 'both')\n",
    "\n",
    "plt.title('Boltzmann Distribution')\n",
    "plt.ylabel('Power Spectral Density (W/Hz)')\n",
    "plt.xlabel('Frequency (Hz)')\n",
    "# plt.vlines(5.75e9, 0,1, 'grey', alpha=0.45, lw=9)\n",
    "# plt.legend(labels +['Attenuated\\nMicrowave Line'])\n",
    "\n",
    "plt.show()"
   ]
  },
  {
   "cell_type": "code",
   "execution_count": null,
   "metadata": {},
   "outputs": [],
   "source": [
    "#noise power (norm.)\n",
    "for i in range(len(T)): \n",
    "    plt.plot(f, data_norm[i])\n",
    "\n",
    "plt.xscale('log')\n",
    "plt.xlim((1e3, 1e15))\n",
    "plt.xticks(np.logspace(3, 15, 13))\n",
    "\n",
    "plt.yscale('log')\n",
    "plt.ylim((1e-10, 1e1))\n",
    "# plt.yticks(np.logspace(-10, 0, 6))\n",
    "\n",
    "plt.grid(True, 'major', 'both')\n",
    "\n",
    "plt.title('Boltzmann Distribution for Different Temperature Stages')\n",
    "plt.ylabel('Power Spectral Density (norm.)')\n",
    "plt.xlabel('Frequency (Hz)')\n",
    "# plt.vlines(5.75e9, 0,1, 'grey', alpha=0.45, lw=9)\n",
    "# plt.legend(labels +['Attenuated\\nMicrowave Line'])\n",
    "\n",
    "plt.show()"
   ]
  },
  {
   "cell_type": "code",
   "execution_count": null,
   "metadata": {},
   "outputs": [],
   "source": [
    "# 3d Blackbody\n",
    "for i in range(len(T)): \n",
    "    plt.plot(f, data_3d[i])\n",
    "\n",
    "plt.xscale('log')\n",
    "plt.xlim((1e3, 1e15))\n",
    "plt.xticks(np.logspace(3, 15, 13))\n",
    "\n",
    "# plt.yscale('log')\n",
    "# plt.ylim((1e-3, 1e10))\n",
    "# plt.yticks(np.logspace(-10, 0, 6))\n",
    "\n",
    "plt.grid(True, 'major', 'both')\n",
    "\n",
    "plt.title('Boltzmann Distribution for Different Temperature Stages')\n",
    "plt.ylabel(r'Power Spectral Density ($W sr^{-1} m^{-2} Hz^{-1}$)')\n",
    "plt.xlabel('Frequency (Hz)')\n",
    "# plt.vlines(5.75e9, 0,1, 'grey', alpha=0.45, lw=9)\n",
    "# plt.legend(labels +['Attenuated\\nMicrowave Line'])\n",
    "\n",
    "plt.show()"
   ]
  },
  {
   "cell_type": "code",
   "execution_count": null,
   "metadata": {},
   "outputs": [],
   "source": [
    "# 3d Blackbody norm\n",
    "for i in range(len(T)): \n",
    "    plt.plot(f, data_3d_norm[i])\n",
    "\n",
    "plt.xscale('log')\n",
    "plt.xlim((1e3, 1e15))\n",
    "plt.xticks(np.logspace(3, 15, 13))\n",
    "\n",
    "# plt.yscale('log')\n",
    "# plt.ylim((1e-3, 1e10))\n",
    "# plt.yticks(np.logspace(-10, 0, 6))\n",
    "\n",
    "plt.grid(True, 'major', 'both')\n",
    "\n",
    "plt.title('Boltzmann Distribution for Different Temperature Stages')\n",
    "plt.ylabel('Power Spectral Density (norm.)')\n",
    "plt.xlabel('Frequency (Hz)')\n",
    "# plt.vlines(5.75e9, 0,1, 'grey', alpha=0.45, lw=9)\n",
    "# plt.legend(labels +['Attenuated\\nMicrowave Line'])\n",
    "\n",
    "plt.show()"
   ]
  },
  {
   "cell_type": "code",
   "execution_count": null,
   "metadata": {},
   "outputs": [],
   "source": []
  }
 ],
 "metadata": {
  "interpreter": {
   "hash": "76d294211c072932f937aaab0a08c9e5f55deabab18997bf61f91489dc88ea29"
  },
  "kernelspec": {
   "display_name": "Python 3.7.7 64-bit ('base': conda)",
   "name": "python3"
  },
  "language_info": {
   "codemirror_mode": {
    "name": "ipython",
    "version": 3
   },
   "file_extension": ".py",
   "mimetype": "text/x-python",
   "name": "python",
   "nbconvert_exporter": "python",
   "pygments_lexer": "ipython3",
   "version": "3.7.7"
  },
  "orig_nbformat": 4
 },
 "nbformat": 4,
 "nbformat_minor": 2
}
