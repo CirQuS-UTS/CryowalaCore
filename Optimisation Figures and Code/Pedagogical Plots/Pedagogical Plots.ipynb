{
 "cells": [
  {
   "cell_type": "code",
   "execution_count": 1,
   "metadata": {},
   "outputs": [
    {
     "name": "stderr",
     "output_type": "stream",
     "text": [
      "\n",
      "Bad key text.latex.preview in file C:\\Users\\Adrien\\anaconda3\\lib\\site-packages\\matplotlib\\mpl-data\\stylelib\\_classic_test.mplstyle, line 123 ('text.latex.preview : False')\n",
      "You probably need to get an updated matplotlibrc file from\n",
      "https://github.com/matplotlib/matplotlib/blob/v3.5.1/matplotlibrc.template\n",
      "or from the matplotlib source distribution\n",
      "\n",
      "Bad key mathtext.fallback_to_cm in file C:\\Users\\Adrien\\anaconda3\\lib\\site-packages\\matplotlib\\mpl-data\\stylelib\\_classic_test.mplstyle, line 155 ('mathtext.fallback_to_cm : True  # When True, use symbols from the Computer Modern')\n",
      "You probably need to get an updated matplotlibrc file from\n",
      "https://github.com/matplotlib/matplotlib/blob/v3.5.1/matplotlibrc.template\n",
      "or from the matplotlib source distribution\n",
      "\n",
      "Bad key savefig.jpeg_quality in file C:\\Users\\Adrien\\anaconda3\\lib\\site-packages\\matplotlib\\mpl-data\\stylelib\\_classic_test.mplstyle, line 418 ('savefig.jpeg_quality: 95       # when a jpeg is saved, the default quality parameter.')\n",
      "You probably need to get an updated matplotlibrc file from\n",
      "https://github.com/matplotlib/matplotlib/blob/v3.5.1/matplotlibrc.template\n",
      "or from the matplotlib source distribution\n",
      "\n",
      "Bad key keymap.all_axes in file C:\\Users\\Adrien\\anaconda3\\lib\\site-packages\\matplotlib\\mpl-data\\stylelib\\_classic_test.mplstyle, line 466 ('keymap.all_axes : a                 # enable all axes')\n",
      "You probably need to get an updated matplotlibrc file from\n",
      "https://github.com/matplotlib/matplotlib/blob/v3.5.1/matplotlibrc.template\n",
      "or from the matplotlib source distribution\n",
      "\n",
      "Bad key animation.avconv_path in file C:\\Users\\Adrien\\anaconda3\\lib\\site-packages\\matplotlib\\mpl-data\\stylelib\\_classic_test.mplstyle, line 477 ('animation.avconv_path: avconv     # Path to avconv binary. Without full path')\n",
      "You probably need to get an updated matplotlibrc file from\n",
      "https://github.com/matplotlib/matplotlib/blob/v3.5.1/matplotlibrc.template\n",
      "or from the matplotlib source distribution\n",
      "\n",
      "Bad key animation.avconv_args in file C:\\Users\\Adrien\\anaconda3\\lib\\site-packages\\matplotlib\\mpl-data\\stylelib\\_classic_test.mplstyle, line 479 ('animation.avconv_args:            # Additional arguments to pass to avconv')\n",
      "You probably need to get an updated matplotlibrc file from\n",
      "https://github.com/matplotlib/matplotlib/blob/v3.5.1/matplotlibrc.template\n",
      "or from the matplotlib source distribution\n"
     ]
    }
   ],
   "source": [
    "# from model_functions import *\n",
    "# from param_functions import *\n",
    "import numpy as np\n",
    "import pandas as pd\n",
    "from IPython import display as ipd\n",
    "from matplotlib import pyplot as plt\n",
    "import matplotlib as mpl\n",
    "from matplotlib.colors import LogNorm\n",
    "import string\n",
    "mpl.rcParams['figure.dpi'] = 400\n",
    "\n",
    "%matplotlib qt"
   ]
  },
  {
   "cell_type": "markdown",
   "metadata": {},
   "source": [
    "----------"
   ]
  },
  {
   "cell_type": "markdown",
   "metadata": {},
   "source": [
    "## Noise Spectrum Plots"
   ]
  },
  {
   "cell_type": "code",
   "execution_count": 2,
   "metadata": {},
   "outputs": [
    {
     "name": "stderr",
     "output_type": "stream",
     "text": [
      "C:\\Users\\Adrien\\anaconda3\\lib\\site-packages\\ipykernel_launcher.py:9: RuntimeWarning: overflow encountered in exp\n",
      "  if __name__ == '__main__':\n",
      "C:\\Users\\Adrien\\anaconda3\\lib\\site-packages\\ipykernel_launcher.py:10: RuntimeWarning: overflow encountered in exp\n",
      "  # Remove the CWD from sys.path while we load stuff.\n",
      "C:\\Users\\Adrien\\anaconda3\\lib\\site-packages\\ipykernel_launcher.py:11: RuntimeWarning: overflow encountered in exp\n",
      "  # This is added back by InteractiveShellApp.init_path()\n",
      "C:\\Users\\Adrien\\anaconda3\\lib\\site-packages\\ipykernel_launcher.py:12: RuntimeWarning: overflow encountered in exp\n",
      "  if sys.path[0] == '':\n"
     ]
    }
   ],
   "source": [
    "### GENERATING DATA\n",
    "\n",
    "##Constants\n",
    "h = 6.626e-34\n",
    "k_B = 1.381e-23\n",
    "c = 3e8\n",
    "\n",
    "## Distributions for different noise spectra\n",
    "NPS = lambda T, f: 1 / ( np.exp( h*f / (k_B*T) ) - 1 )                          # noise photons per second\n",
    "Planck = lambda T, f: h*f / ( np.exp( h*f / (k_B*T) ) - 1 )                     # noise power\n",
    "Planck_norm = lambda T, f: ( h*f / (k_B*T) ) / ( np.exp( h*f / (k_B*T) ) - 1 )  # noise power (norm.)    \n",
    "Planck_3d = lambda T, f: 2*(h*f**3/c**2) / ( np.exp( h*f / (k_B*T) ) - 1 )      # 3d blackbody, in W/(sr m^2 Hz)\n",
    "\n",
    "## Setting the frequency range, temperatures and setting labels\n",
    "f = np.logspace(2, 16, 1000)\n",
    "# T = [300, 35, 2.85, 0.882, 0.082, 0.006]\n",
    "T = [300, 46, 3.94, 1.227, 0.150, 0.02]\n",
    "# labels = ['RT', '50K', '4K', 'Still', 'CP', 'MXC']\n",
    "labels = ['300K', '46K', '3.94K', '1.23K', '150mK', '20mK']\n",
    "\n",
    "## Calculating the spectra\n",
    "nps_data = [NPS(t, f) for t in T]               # noise photons per second\n",
    "data = [Planck(t, f) for t in T]                # noise power spectral density\n",
    "data_norm = [Planck_norm(t, f) for t in T]      # normalised noise power\n",
    "data_3d = [Planck_3d(t, f) for t in T]          # 3d black body\n",
    "data_3d_norm = [d / np.max(d) for d in data_3d] # 3d black body normalised"
   ]
  },
  {
   "cell_type": "code",
   "execution_count": 3,
   "metadata": {},
   "outputs": [],
   "source": [
    "### PLOTTING\n",
    "\n",
    "fig, axs = plt.subplots(3, 1, sharex=True, figsize=(6.5, 8.5))\n",
    "\n",
    "# setting colours for each distribution\n",
    "c = ['#FF0000', '#FF6400', '#FFCB37', '#1ADA00', '#00D5E6', '#0042E6']\n",
    "\n",
    "# plotting noise power noise power \n",
    "for i in range(len(T)): \n",
    "    axs[0].plot(f, data[i], c=c[i])\n",
    "\n",
    "# marking the critical point for each temperature (h*omega) / (k_B*T)\n",
    "axs[0].vlines([k_B*t/h for t in T], [1e-26, 1e-25, 1e-24, 1e-23, 1e-22, 1e-21][::-1], [1e-24, 1e-23, 1e-22, 1e-21, 1e-20, 1e-19][::-1], colors=c, linestyle='dashed', alpha=0.6)\n",
    "\n",
    "# plotting noise power (norm.)\n",
    "for i in range(len(T)): \n",
    "    axs[1].plot(f, data_norm[i], c=c[i])\n",
    "\n",
    "axs[1].vlines([k_B*t/h for t in T], 0.4, 0.7, colors=c, linestyle='dashed', alpha=0.6)\n",
    "\n",
    "# plotting noise photons\n",
    "for i in range(len(T)): \n",
    "    axs[2].plot(f, nps_data[i], c=c[i])\n",
    "\n",
    "# marking the critical point for each temperature (h*omega) / (k_B*T)\n",
    "axs[2].vlines([k_B*t/h for t in T], 2, 0.1, colors=c, linestyle='dashed', alpha=0.6)\n",
    "\n",
    "#setting yaxis scales and limits\n",
    "axs[0].set_yscale('log')\n",
    "axs[2].set_yscale('log')\n",
    "axs[0].set_ylim((1e-33, 1e-18))\n",
    "axs[0].set_yticks(np.logspace(-33, -18, 6), minor=False)\n",
    "axs[2].set_ylim((1e-6, 1e9))\n",
    "\n",
    "# setting x scales and marking qubit transition frequency\n",
    "for ax in axs:\n",
    "    ax.set_xscale('log')\n",
    "    ax.set_xlim((1e3, 1e15))\n",
    "    ax.set_xticks(np.logspace(3, 15, 13), minor=True)\n",
    "    # ax.set_xticks([10**i for i in range(3, 15+1, 3)], minor=False)\n",
    "    # ax.tick_params(axis='x', which='major', width=1)\n",
    "    ax.grid(True, 'both', 'both')\n",
    "    rec = mpl.patches.Rectangle((4e9, ax.get_ylim()[0]), 4e9, ax.get_ylim()[1]-ax.get_ylim()[0], facecolor='k', lw=2, alpha=0.2, zorder=-1)\n",
    "    ax.add_patch(rec)\n",
    "\n",
    "axs2 = axs[0].twinx()\n",
    "axs2.set_yscale('log')\n",
    "axs2.set_ylim(np.array(axs[0].get_ylim())*4/50)\n",
    "axs2.set_yticks(np.array(axs[0].get_yticks()[1::])*4/50/8)\n",
    "axs2.set_ylabel('Noise Current Spectral Density,\\n' + r'$I^2(\\omega)$, $(\\mathrm{A}^2/\\mathrm{Hz})$', rotation=90)\n",
    "\n",
    "axs[-1].set_xlabel(r'Frequency, $\\omega/2\\pi$ (Hz)')\n",
    "\n",
    "axs[0].set_ylabel('Noise Power Spectral Density,\\n' + r'$N(\\omega)$, (W/Hz)')\n",
    "axs[1].set_ylabel('Noise Power Spectral Density,\\n' + r'$N(\\omega)/N_\\mathrm{max}$')\n",
    "axs[2].set_ylabel('Noise Photons, ' + r'$\\bar{n}(\\omega)$' + '\\n' + r'($\\mathrm{s}^{-1}\\mathrm{Hz}^{-1}$)')\n",
    "\n",
    "# axs[0].set_xticklabels\n",
    "\n",
    "# plt.yscale('linear')\n",
    "# plt.ylim((0, 1e9))\n",
    "# # plt.yticks(np.logspace(-6, 9, 6))\n",
    "\n",
    "# plt.yticks(np.logspace(-6, 9, 6))\n",
    "\n",
    "# plt.title('Bose-Einstein Distribution')\n",
    "# plt.ylabel(r'Noise Photons per second ($s^{-1}$)')\n",
    "# plt.xlabel('Frequency (Hz)')\n",
    "# plt.vlines(5.75e9, 0,1, 'grey', alpha=0.45, lw=9)\n",
    "\n",
    "# adding the lettering\n",
    "for n, ax in enumerate(axs.flatten('F')):\n",
    "    ax.text(-0.05, 1.1, string.ascii_lowercase[n]+')', \n",
    "    transform=ax.transAxes, \n",
    "    size=12, weight='bold')\n",
    "axs[1].legend(labels)\n",
    "plt.tight_layout()\n",
    "\n",
    "# plt.savefig('21.10.28/Noise Spectra.png', dpi=400)\n",
    "\n",
    "plt.show()"
   ]
  },
  {
   "cell_type": "markdown",
   "metadata": {},
   "source": [
    "## Noise Saturation"
   ]
  },
  {
   "cell_type": "code",
   "execution_count": 5,
   "metadata": {},
   "outputs": [],
   "source": [
    "h = 6.626e-34\n",
    "k_B = 1.381e-23\n",
    "c = 3e8\n",
    "\n",
    "n_dist = lambda T, f: 1 / ( np.exp( h*f / (k_B*T) ) - 1 )                          # noise photons per second\n",
    "I_dist = lambda T: 4*k_B*T/50                  # noise power\n",
    "\n",
    "T = [46, 3.94, 1.227, 0.150, 0.02]\n",
    "# labels = ['RT', '50K', '4K', 'Still', 'CP', 'MXC']\n",
    "labels = ['46K', '3.94K', '1.23K', '150mK', '20mK']\n",
    "\n",
    "A = np.linspace(0, 60, 200)\n",
    "n = lambda a, t: n_dist(300, 6e9)*10**(-a/10) + (1-10**(-a/10))*n_dist(t, 6e9)\n",
    "I = lambda a, t: I_dist(300)*10**(-a/10) + (1-10**(-a/10))*I_dist(t)\n",
    "\n",
    "n_data = [[n(a, t) for a in A] for t in T]\n",
    "I_data = [[I(a, t) for a in A] for t in T]\n",
    "\n",
    "n_sat = [n_dist(t, 6e9) for t in T[:-1]]\n",
    "I_sat = [I_dist(t) for t in T]"
   ]
  },
  {
   "cell_type": "code",
   "execution_count": 7,
   "metadata": {},
   "outputs": [],
   "source": [
    "fig, axs = plt.subplots(2, 1, sharex=True, figsize=(6, 6))\n",
    "\n",
    "c = ['#FF0000', '#FF6400', '#FFCB37', '#1ADA00', '#00D5E6', '#0042E6']\n",
    "\n",
    "for i in range(len(n_data)-1, -1, -1):\n",
    "    axs[0].plot(A, n_data[i], c=c[i+1])\n",
    "\n",
    "# axs[0].hlines(n_sat, 0, 60, linestyle='dashed', linewidth=0.75)\n",
    "\n",
    "for i in range(len(I_data)-1, -1, -1):\n",
    "    axs[1].plot(A, I_data[i], c=c[i+1])\n",
    "\n",
    "# axs[1].hlines(I_sat, 0, 60, linestyle='dashed', linewidth=0.75)\n",
    "\n",
    "for ax in axs:\n",
    "    ax.set_yscale('log')\n",
    "    locmin = mpl.ticker.LogLocator(base=10.0,subs=[0.1*(i+1) for i in range(9)],numticks=12)\n",
    "    ax.yaxis.set_minor_locator(locmin)\n",
    "    ax.grid(True, 'major', 'both')\n",
    "    axs2 = ax.twinx()\n",
    "    axs2.set_yscale('log')\n",
    "    axs2.set_ylim(ax.get_ylim())\n",
    "\n",
    "axs[0].set_ylabel('Noise Photons, ' + r'$\\bar{n}$'+ ' ' + r'($\\mathrm{s}^{-1}\\mathrm{Hz}^{-1}$)')\n",
    "axs[1].set_ylabel('Noise Current, ' + r'$I^2$' + r'($\\mathrm{A}^{2}/\\mathrm{Hz}$)')\n",
    "axs[-1].set_xlabel('Attenuation (dB)')\n",
    "axs[0].legend(fridge_ours['labels'])\n",
    "\n",
    "for n, ax in enumerate(axs.flatten('F')):\n",
    "    ax.text(-0.05, 1.05, string.ascii_lowercase[n]+')', \n",
    "    transform=ax.transAxes, \n",
    "    size=12, weight='bold')\n",
    "\n",
    "plt.tight_layout()\n",
    "\n",
    "# plt.savefig('21.10.28/NoiseSaturation.png', dpi=400)\n",
    "\n",
    "plt.show()"
   ]
  },
  {
   "cell_type": "code",
   "execution_count": 13,
   "metadata": {},
   "outputs": [],
   "source": [
    "T = [300, 46, 3.94, 1.227, 0.150, 0.02]\n",
    "# labels = ['RT', '50K', '4K', 'Still', 'CP', 'MXC']\n",
    "labels = ['300K', '46K', '3.94K', '1.23K', '150mK', '20mK']\n",
    "\n",
    "A = np.linspace(0, 40, 200)\n",
    "n = lambda a, t1, t2: n_dist(t1, 6e9)*10**(-a/10) + (1-10**(-a/10))*n_dist(t2, 6e9)\n",
    "I = lambda a, t1, t2: I_dist(t1)*10**(-a/10) + (1-10**(-a/10))*I_dist(t2)\n",
    "\n",
    "n_data2 = [[n(a, T[i-1], T[i]) for a in A] for i in range(1, len(T))]\n",
    "I_data2 = [[I(a, T[i-1], T[i]) for a in A] for i in range(1, len(T))]"
   ]
  },
  {
   "cell_type": "code",
   "execution_count": 14,
   "metadata": {},
   "outputs": [],
   "source": [
    "fig, axs = plt.subplots(2, 2, sharex=True, figsize=(6.5, 8))\n",
    "\n",
    "c = ['#FF0000', '#FF6400', '#FFCB37', '#1ADA00', '#00D5E6', '#0042E6']\n",
    "\n",
    "for i in range(len(n_data)-1, -1, -1):\n",
    "    axs[0, 0].plot(A, n_data[i], c=c[i+1])\n",
    "\n",
    "for i in range(len(I_data)-1, -1, -1):\n",
    "    axs[1, 0].plot(A, I_data[i], c=c[i+1])\n",
    "\n",
    "for i in range(len(n_data2)-1, -1, -1):\n",
    "    axs[0, 1].plot(A, n_data2[i], c=c[i+1])\n",
    "\n",
    "for i in range(len(I_data2)-1, -1, -1):\n",
    "    axs[1, 1].plot(A, I_data2[i], c=c[i+1])\n",
    "\n",
    "for ax in axs.flatten():\n",
    "    ax.set_yscale('log')\n",
    "\n",
    "# axs[0, 1].set_xlabel()\n",
    "\n",
    "plt.show()"
   ]
  },
  {
   "cell_type": "markdown",
   "metadata": {},
   "source": [
    "## Noise through sequence of attenuators"
   ]
  },
  {
   "cell_type": "code",
   "execution_count": 5,
   "metadata": {},
   "outputs": [
    {
     "name": "stderr",
     "output_type": "stream",
     "text": [
      "C:\\Users\\Adrien\\anaconda3\\lib\\site-packages\\ipykernel_launcher.py:10: RuntimeWarning: overflow encountered in exp\n",
      "  # Remove the CWD from sys.path while we load stuff.\n",
      "C:\\Users\\Adrien\\anaconda3\\lib\\site-packages\\ipykernel_launcher.py:9: RuntimeWarning: overflow encountered in exp\n",
      "  if __name__ == '__main__':\n"
     ]
    }
   ],
   "source": [
    "## GENERATING DATA\n",
    "\n",
    "## Constants\n",
    "h = 6.626e-34\n",
    "k_B = 1.381e-23\n",
    "c = 3e8\n",
    "\n",
    "# Distributions\n",
    "n_dist = lambda T, f: 1 / ( np.exp( h*f / (k_B*T) ) - 1 )       # noise photons distribution\n",
    "P_dist = lambda T, f: h*f / ( np.exp( h*f / (k_B*T) ) - 1 )     # noise power distribution\n",
    "I_dist = lambda T: 4*k_B*T/50                                   # low frequency current distribution\n",
    "\n",
    "# Setting temperatures\n",
    "T = [46, 3.94, 1.227, 0.150, 0.02]\n",
    "# labels = ['RT', '50K', '4K', 'Still', 'CP', 'MXC']\n",
    "labels = ['46K', '3.94K', '1.23K', '150mK', '20mK']\n",
    "\n",
    "# Setting frequency range AND atttenuation distribution\n",
    "f = np.logspace(3, 15, 1000)\n",
    "A = [20, 20, 20, 20, 20]\n",
    "# n = lambda a, t: n_dist(300, 6e9)*10**(-a/10) + (1-10**(-a/10))*n_dist(t, 6e9)\n",
    "# P = lambda a, t: P_dist(300, 6e9)*10**(-a/10) + (1-10**(-a/10))*n_dist(t, 6e9)\n",
    "# I = lambda a, t: I_dist(300)*10**(-a/10) + (1-10**(-a/10))*I_dist(t)\n",
    "\n",
    "# Calcaulting the noise power generated by each stage and the outgoing noise on each stage\n",
    "P_stage = [P_dist(t, f) for t in T]\n",
    "P_out = [P_dist(300, f)]\n",
    "for i in range(len(T)):\n",
    "    # formula to determine outgoing noise power based on impinging noise and noise generated by stage\n",
    "    P_out.append(P_out[i]*10**(-A[i]/10)+(1-10**(-A[i]/10))*P_stage[i])\n",
    "\n",
    "# Calculating the noise photons generated by each stage and the outgoing noise on each stage\n",
    "n_stage = [n_dist(t, f) for t in T]\n",
    "n_out = [n_dist(300, f)]\n",
    "for i in range(5):\n",
    "    # formula to determine outgoing noise power based on impinging noise and noise generated by stage\n",
    "    n_out.append(\n",
    "        n_out[i]*10**(-A[i]/10) + (1-10**(-A[i]/10))*n_stage[i]\n",
    "        )\n",
    "\n",
    "# n_data = [[n(a, t) for a in A] for t in T]\n",
    "# I_data = [[I(a, t) for a in A] for t in T]\n",
    "\n",
    "# n_sat = [n_dist(t, 6e9) for t in T[:-1]]\n",
    "# I_sat = [I_dist(t) for t in T]"
   ]
  },
  {
   "cell_type": "code",
   "execution_count": 6,
   "metadata": {},
   "outputs": [],
   "source": [
    "# PLOTTING INCOMING, OUTGOING NOISE AND NOISE GENERATED BY EACH STAGE, FOR EACH STAGE\n",
    "fig, axs = plt.subplots(6, 2, sharex=True, figsize=(10, 9))\n",
    "\n",
    "c = ['#FF0000', '#FF6400', '#FFCB37', '#1ADA00', '#00D5E6', '#0042E6']\n",
    "\n",
    "rec1 = mpl.patches.Rectangle((4e9, 1e-4), 4e9, 1e4-1e-4, facecolor='k', lw=2, alpha=0.2, zorder=-1)\n",
    "rec2 = mpl.patches.Rectangle((4e9, 1e-27), 4e9, 1e-19-1e-27, facecolor='k', lw=2, alpha=0.2, zorder=-1)\n",
    "\n",
    "ylim1 = (1e-8, 1e2)\n",
    "ylim2 = (1e-32, 1e-19)\n",
    "\n",
    "yticks1 = [1e-6, 1e-3, 1e0]\n",
    "yticks2 = [1e-30, 1e-27, 1e-24, 1e-21]\n",
    "\n",
    "# INCOMING, OUTGOING, AND STAGE NOISE POWER\n",
    "for i in range(5):\n",
    "    axs[i, 0].plot(f, n_out[i])     #incoming noise power\n",
    "    axs[i, 0].plot(f, n_stage[i])   #stage noise power\n",
    "    axs[i, 0].plot(f, n_out[i+1])   #outgoing noise power\n",
    "\n",
    "    #formatting\n",
    "    axs[i, 0].set_xscale('log')\n",
    "    axs[i, 0].set_yscale('log')\n",
    "    axs[i, 0].set_xlim((1e3, 1e15))\n",
    "    axs[i, 0].set_ylim(ylim1)\n",
    "    rec1 = mpl.patches.Rectangle((4e9, ylim1[0]), 4e9, ylim1[1]-ylim1[0], facecolor='k', lw=2, alpha=0.2, zorder=-1)\n",
    "    axs[i, 0].add_patch(rec1)\n",
    "    axs[i, 0].set_yticks(yticks1)\n",
    "    axs[i, 0].set_xticks(np.logspace(3, 15, 13), minor=True)\n",
    "    axs[i, 0].set_xticks([10**i for i in range(3, 15+1, 3)], minor=False)\n",
    "    # ax.set_xticklabels([], minor=True)\n",
    "    axs[i, 0].grid(True, 'major', 'both')\n",
    "\n",
    "axs[2, 0].set_ylabel('Noise Photons,\\n' + r'$\\bar{n}(\\omega)$ ($\\mathrm{s}^{-1}\\mathrm{Hz}^{-1}$)')\n",
    "\n",
    "# INCOMING, OUTGOING, AND STAGE NOISE POWER\n",
    "for i in range(5):\n",
    "    axs[i, 1].plot(f, P_out[i])     #incoming noise power\n",
    "    axs[i, 1].plot(f, P_stage[i])   #stage noise power\n",
    "    axs[i, 1].plot(f, P_out[i+1])   #outgoing noise power\n",
    "\n",
    "    #formatting\n",
    "    axs[i, 1].set_xscale('log')\n",
    "    axs[i, 1].set_yscale('log')\n",
    "    axs[i, 1].set_xlim((1e3, 1e15))\n",
    "    axs[i, 1].set_ylim(ylim2)\n",
    "    rec2 = mpl.patches.Rectangle((4e9, ylim2[0]), 4e9, ylim2[1]-ylim2[0], facecolor='k', lw=2, alpha=0.2, zorder=-1)\n",
    "    axs[i, 1].add_patch(rec2)\n",
    "    axs[i, 1].set_yticks(yticks2)\n",
    "    axs[i, 1].set_xticks(np.logspace(3, 15, 13), minor=True)\n",
    "    axs[i, 1].set_xticks([10**i for i in range(3, 15+1, 3)], minor=False)\n",
    "    # ax.set_xticklabels([], minor=True)\n",
    "    axs[i, 1].grid(True, 'major', 'both')\n",
    "    axs2 = axs[i, 1].twinx()\n",
    "    axs2.set_yscale('log')\n",
    "    axs2.set_ylim(np.array(ylim2)*4/50)\n",
    "    axs2.set_yticks(np.array(yticks2+[1e-18])*4/50/8)\n",
    "    if i == 2: axs2.set_ylabel('Noise Current\\nSpectral Density,\\n' + r'$I^2(\\omega)$, $(\\mathrm{A}^2/\\mathrm{Hz})$')\n",
    "axs[2, 1].set_ylabel('Noise Power\\nSpectral Density,\\n' + r'$N(\\omega)$, (W/Hz)')\n",
    "\n",
    "#formatting\n",
    "for ax in axs[5, :].flatten():\n",
    "    ax.set_xscale('log')\n",
    "    ax.set_yscale('log')\n",
    "    ax.set_xlim((1e3, 1e15))\n",
    "    ax.set_xticks(np.logspace(3, 15, 13), minor=True)\n",
    "    ax.set_xticks([10**i for i in range(3, 15+1, 3)], minor=False)\n",
    "    ax.set_xticklabels([], minor=True)\n",
    "    ax.grid(True, 'major', 'both')\n",
    "    ax.set_xlabel(r'Frequency, $\\omega/2\\pi$ (GHz)')\n",
    "\n",
    "axs[5, 0].plot(f, n_out[0], c=c[0])\n",
    "for i in range(5): axs[5, 0].plot(f, n_stage[i], c=c[i+1])\n",
    "axs[5, 0].plot(f, n_out[-1], c='k', linewidth=2)\n",
    "\n",
    "axs[5, 1].plot(f, P_out[0], c=c[0])\n",
    "for i in range(5): axs[5, 1].plot(f, P_stage[i], c=c[i+1])\n",
    "axs[5, 1].plot(f, P_out[-1], c='k', linewidth=2)\n",
    "    \n",
    "axs[5, 0].set_ylim(ylim1)\n",
    "axs[5, 1].set_ylim(ylim2)\n",
    "axs[5, 0].set_yticks(yticks1)\n",
    "axs[5, 1].set_yticks(yticks2)\n",
    "\n",
    "rec1 = mpl.patches.Rectangle((4e9, ylim1[0]), 4e9, ylim1[1]-ylim1[0], facecolor='k', lw=2, alpha=0.2, zorder=-1)\n",
    "rec2 = mpl.patches.Rectangle((4e9, ylim2[0]), 4e9, ylim2[1]-ylim2[0], facecolor='k', lw=2, alpha=0.2, zorder=-1)\n",
    "axs[5, 0].add_patch(rec1)\n",
    "axs[5, 1].add_patch(rec2)\n",
    "axs2 = axs[5, 1].twinx()\n",
    "axs2.set_yscale('log')\n",
    "axs2.set_ylim(np.array(ylim2)*4/50)\n",
    "axs2.set_yticks(np.array(yticks2+[1e-18])*4/50/8)\n",
    "\n",
    "axs[2, 0].legend(['Incident', 'From Stage', 'Outgoing'], fontsize=8)\n",
    "# axs[2, 1].legend(['Incident', 'From Stage', 'Outgoing'])\n",
    "axs[5, 0].legend(['RT']+labels+['At Device'], fontsize=8, loc=(-0.5, -0.01))\n",
    "# axs[]\n",
    "\n",
    "#lettering\n",
    "for n, ax in enumerate(axs.flatten('F')):\n",
    "    ax.text(-0.1, 0.95, string.ascii_lowercase[n]+')', \n",
    "    transform=ax.transAxes, \n",
    "    size=12, weight='bold')\n",
    "\n",
    "plt.tight_layout()\n",
    "\n",
    "# plt.savefig('21.10.28/NoiseDownFridge.png', dpi=400)\n",
    "\n",
    "plt.show()"
   ]
  },
  {
   "cell_type": "markdown",
   "metadata": {},
   "source": [
    "## Attenuator Dissipation"
   ]
  },
  {
   "cell_type": "code",
   "execution_count": 10,
   "metadata": {},
   "outputs": [],
   "source": [
    "A = [20, 0, 20, 0, 20]\n",
    "P = [1e-3*10**(0)]\n",
    "P_diss = []\n",
    "\n",
    "for i in range(5):\n",
    "    P_diss.append((1-10**(-A[i]/10)) * P[i])\n",
    "    P.append(10**(-A[i]/10) * P[i])"
   ]
  },
  {
   "cell_type": "code",
   "execution_count": 36,
   "metadata": {},
   "outputs": [],
   "source": [
    "fig, axs = plt.subplots(1, 1, figsize=(4, 6))\n",
    "\n",
    "axs.barh([-i*3 for i in range(5)], P[1:], height=1, color='b')\n",
    "axs.barh([-i*3 for i in range(5)], P_diss, height=1, left=P[1:], color='r')\n",
    "axs.set_xscale('log')\n",
    "axs.set_xlim(1e-10, 1e-2)\n",
    "axs.set_xticks([10**i for i in range(-10, -1)], minor=True)\n",
    "axs.set_xticks([10**i for i in range(-9, -1, 2)], minor=False)\n",
    "axs.set_xticklabels([], minor=True)\n",
    "\n",
    "axs2 = axs.twiny()\n",
    "axs2.set_xscale('log')\n",
    "axs2.set_xlim(np.array(axs.get_xlim())*4/50)\n",
    "axs2.set_xticks([10**i*4/50/8 for i in range(-9, -1)], minor=True)\n",
    "axs2.set_xticks(np.array(axs.get_xticks())*4/50/8, minor=False)\n",
    "axs2.set_xticklabels([], minor=True)\n",
    "\n",
    "axs2.set_xlabel(r'Current Squared, $I^2$ $(\\mathrm{A}^2)$')\n",
    "\n",
    "axs.set_yticks([-i*3 for i in range(5)])\n",
    "axs.set_yticklabels(fridge_ours['labels'])\n",
    "axs.grid(True, 'major', 'x', alpha=0.4)\n",
    "axs.set_xlabel(r'Power, $P$ (W)')\n",
    "axs.legend(['Transmitted', 'Dissipated'])\n",
    "\n",
    "plt.tight_layout(True)\n",
    "\n",
    "plt.savefig('21.10.28/AttenuatorDissipation.png', dpi=400)\n",
    "\n",
    "plt.show()"
   ]
  },
  {
   "cell_type": "code",
   "execution_count": 13,
   "metadata": {},
   "outputs": [
    {
     "data": {
      "text/plain": [
       "([0.001, 1e-05, 1e-05, 1.0000000000000001e-07, 1.0000000000000001e-07, 1e-09],\n",
       " [0.00099, 0.0, 9.9e-06, 0.0, 9.900000000000001e-08])"
      ]
     },
     "execution_count": 13,
     "metadata": {},
     "output_type": "execute_result"
    }
   ],
   "source": [
    "P, P_diss"
   ]
  },
  {
   "cell_type": "markdown",
   "metadata": {},
   "source": [
    "## Cable Dissipation - Drive"
   ]
  },
  {
   "cell_type": "code",
   "execution_count": 2,
   "metadata": {},
   "outputs": [
    {
     "data": {
      "text/plain": [
       "6.380000000000001"
      ]
     },
     "execution_count": 2,
     "metadata": {},
     "output_type": "execute_result"
    }
   ],
   "source": [
    "coax_co_params['219-SS-SS']['att_4'](6)"
   ]
  },
  {
   "cell_type": "code",
   "execution_count": 16,
   "metadata": {},
   "outputs": [],
   "source": [
    "att = np.array([0, 20, 0, 20, 20])\n",
    "c_att = coax_co_params['219-SS-SS']['att_4'](6) * np.array(fridge_ours['lengths'])\n",
    "total_att = np.sum(att + c_att)\n",
    "\n",
    "p_in = 1e-3*10**(-5/10)\n",
    "\n",
    "p = [p_in]\n",
    "for i in range(0, 4):\n",
    "    p.append(p[i]*10**(-(att+c_att)[i]/10))\n",
    "\n",
    "a_ac = np.array(p) * (1 - 10**(-c_att/10))\n",
    "# a_ac = pd.Series(a_ac, index=fridge_ours['labels'])\n",
    "a_att = np.array(p) * (1 - 10**(-att/10))\n",
    "a_up = a_ac[1:].tolist() + [0]\n",
    "a_down = a_ac\n",
    "a_split = (a_up+a_down)/2\n",
    "a_inner = []\n",
    "acc = 0\n",
    "for i in range(5):\n",
    "    if att[i] > 0:\n",
    "        a_inner.append(a_ac[i])\n",
    "        acc = 0\n",
    "    else:\n",
    "        a_inner.append(0)\n",
    "        acc += a_ac[i]\n"
   ]
  },
  {
   "cell_type": "code",
   "execution_count": 25,
   "metadata": {},
   "outputs": [],
   "source": [
    "fig, axs = plt.subplots(1, 1, figsize=(5, 5))\n",
    "\n",
    "axs.plot([i for i in range(5)], a_att+np.array(a_up))\n",
    "axs.plot([i for i in range(5)], a_att+np.array(a_down))\n",
    "axs.plot([i for i in range(5)], a_att+np.array(a_split))\n",
    "# axs.plot([i for i in range(5)], a_att+np.array(a_inner))\n",
    "axs.set_yscale('log')\n",
    "axs.set_xticks([i for i in range(5)])\n",
    "axs.set_xticklabels(fridge_ours['labels'])\n",
    "axs.set_xlabel('Stage')\n",
    "axs.set_ylabel('Power Dissipated, $P$ (W)')\n",
    "axs.set_title('Power Dissipated by Drive Lines')\n",
    "axs.grid(True, 'major', 'y')\n",
    "\n",
    "axs.legend(['Upper Stage', 'Lower Stage', 'Split'])\n",
    "\n",
    "plt.tight_layout(True)\n",
    "\n",
    "plt.savefig('21.10.28/DriveCableHeat.png', dpi=400)\n",
    "\n",
    "plt.show()"
   ]
  },
  {
   "cell_type": "markdown",
   "metadata": {},
   "source": [
    "## Passive Load From three sections"
   ]
  },
  {
   "cell_type": "code",
   "execution_count": 3,
   "metadata": {},
   "outputs": [],
   "source": [
    "therm_scheme_drive = [[False, True, False, True, True], #inner\n",
    "                  [False, True, False, True, True], #dielectric\n",
    "                  [True, True, True, True, True]]   #outer\n",
    "\n",
    "therm_scheme_flux = [[False, True, False, False, True], #inner\n",
    "                  [False, True, False, False, True], #dielectric\n",
    "                  [True, True, True, True, True]]   #outer\n",
    "\n",
    "therm_scheme_output = [[True, True, False, False, True], #inner\n",
    "                  [True, True, False, False, True], #dielectric\n",
    "                  [True, True, True, True, True]]   #outer"
   ]
  },
  {
   "cell_type": "code",
   "execution_count": 5,
   "metadata": {},
   "outputs": [
    {
     "ename": "NameError",
     "evalue": "name 'therm_scheme_drive' is not defined",
     "output_type": "error",
     "traceback": [
      "\u001b[1;31m---------------------------------------------------------------------------\u001b[0m",
      "\u001b[1;31mNameError\u001b[0m                                 Traceback (most recent call last)",
      "\u001b[1;32m<ipython-input-5-677e8e3bef52>\u001b[0m in \u001b[0;36m<module>\u001b[1;34m\u001b[0m\n\u001b[0;32m      8\u001b[0m         \u001b[0mlengths\u001b[0m\u001b[1;33m=\u001b[0m\u001b[0mfridge_ours\u001b[0m\u001b[1;33m[\u001b[0m\u001b[1;34m'lengths'\u001b[0m\u001b[1;33m]\u001b[0m\u001b[1;33m,\u001b[0m\u001b[1;33m\u001b[0m\u001b[1;33m\u001b[0m\u001b[0m\n\u001b[0;32m      9\u001b[0m         \u001b[0mtherm_cond\u001b[0m\u001b[1;33m=\u001b[0m\u001b[1;33m[\u001b[0m\u001b[0mcoax_co_params\u001b[0m\u001b[1;33m[\u001b[0m\u001b[0mc_drive\u001b[0m\u001b[1;33m]\u001b[0m\u001b[1;33m[\u001b[0m\u001b[1;34m'tc'\u001b[0m\u001b[1;33m]\u001b[0m\u001b[1;33m,\u001b[0m \u001b[1;32mlambda\u001b[0m \u001b[0mt\u001b[0m\u001b[1;33m:\u001b[0m \u001b[1;36m0\u001b[0m\u001b[1;33m,\u001b[0m \u001b[0mcoax_co_params\u001b[0m\u001b[1;33m[\u001b[0m\u001b[0mc_drive\u001b[0m\u001b[1;33m]\u001b[0m\u001b[1;33m[\u001b[0m\u001b[1;34m'tc'\u001b[0m\u001b[1;33m]\u001b[0m\u001b[1;33m]\u001b[0m\u001b[1;33m,\u001b[0m\u001b[1;33m\u001b[0m\u001b[1;33m\u001b[0m\u001b[0m\n\u001b[1;32m---> 10\u001b[1;33m         \u001b[0mtherm_scheme\u001b[0m\u001b[1;33m=\u001b[0m\u001b[0mtherm_scheme_drive\u001b[0m\u001b[1;33m,\u001b[0m\u001b[1;33m\u001b[0m\u001b[1;33m\u001b[0m\u001b[0m\n\u001b[0m\u001b[0;32m     11\u001b[0m         stage_temps=fridge_ours['temps'])\n",
      "\u001b[1;31mNameError\u001b[0m: name 'therm_scheme_drive' is not defined"
     ]
    }
   ],
   "source": [
    "c_drive = '219-SS-SS'\n",
    "\n",
    "d = coax_co_params[c_drive]['d']\n",
    "A =  cs_areas['219']\n",
    "\n",
    "p_drive = passive_load(stage_labels=fridge_ours['labels'], \n",
    "        diameters=coax_co_params[c_drive]['d'],\n",
    "        lengths=fridge_ours['lengths'],\n",
    "        therm_cond=[coax_co_params[c_drive]['tc'], lambda t: 0, coax_co_params[c_drive]['tc']],\n",
    "        therm_scheme=therm_scheme_drive,\n",
    "        stage_temps=fridge_ours['temps'])"
   ]
  },
  {
   "cell_type": "code",
   "execution_count": 2,
   "metadata": {},
   "outputs": [],
   "source": [
    "c = '219-SS-SS'\n",
    "\n",
    "A = cs_areas['219']\n",
    "L = fridge_ours['lengths']\n",
    "T = [300] + fridge_ours['temps']\n",
    "s_c = coax_co_params[c]['tc']\n",
    "s_d = gen_therm_cond(PTFE_fit, 4)\n",
    "\n",
    "def pazz(a):\n",
    "    P = []\n",
    "    acc_d, acc_i = 0, 0\n",
    "    for i in range(5):\n",
    "        dat = []\n",
    "        T_range = np.linspace(T[i+1], T[i], 1000)\n",
    "        dT = T_range[1]-T_range[0]\n",
    "        dat.append(A[2]/L[i] * np.sum(s_c(T_range)*dT))\n",
    "        acc_d += A[1]/L[i] * np.sum(s_d(T_range)*dT) * 10**-2\n",
    "        acc_i += A[0]/L[i] * np.sum(s_c(T_range)*dT)\n",
    "        if a[i]:\n",
    "            dat.append(acc_d)\n",
    "            dat.append(acc_i)\n",
    "            acc_d, acc_i = 0, 0\n",
    "        else:\n",
    "            dat.append(0)\n",
    "            dat.append(0)\n",
    "        P.append(dat)\n",
    "    return P\n",
    "\n",
    "A1 = [True, True, True, True, True]\n",
    "A2 = [True, False, True, False, True]\n",
    "P1 = np.array(pazz(A1))\n",
    "P2 = np.array(pazz(A2))"
   ]
  },
  {
   "cell_type": "code",
   "execution_count": 6,
   "metadata": {},
   "outputs": [],
   "source": [
    "fig, axs = plt.subplots(1, 2, sharey=True, figsize=(6, 5))\n",
    "\n",
    "P = [P1, P2]\n",
    "c = ['r', 'g', 'b']\n",
    "\n",
    "for i in range(2):\n",
    "    axs[i].barh([-iii*4-1 for iii in range(5)], np.sum(P[i], axis=1), height=3, alpha=0.5, color='dodgerblue')\n",
    "    for ii in range(3):\n",
    "        axs[i].barh([-iii*4-ii for iii in range(5)], P[i][:, ii], height=1, color=c[ii])\n",
    "    axs[i].set_xscale('log')\n",
    "    axs[i].set_xlim(10**(-11.5), 10**-1.5)\n",
    "    axs[i].set_xticks([10**iii for iii in range(-11, -1, 3)], minor=False)\n",
    "    axs[i].set_xticks([10**iii for iii in range(-11, -1)], minor=True)\n",
    "    axs[i].set_xticklabels([], minor=True)\n",
    "    axs[i].set_xlabel(r'Passive Load, $P_\\mathrm{passive}$ (W)')\n",
    "    axs[i].set_yticks([-iii*4-1 for iii in range(5)])\n",
    "    axs[i].set_yticklabels(fridge_ours['labels'])\n",
    "    axs[i].grid(True, 'both', 'x', alpha=0.4)\n",
    "\n",
    "axs[1].legend(['Total', 'Outer Cond.', 'Dielectric', 'Inner Cond.'], fontsize = 9)\n",
    "\n",
    "for n, ax in enumerate(axs.flatten('F')):\n",
    "    ax.text(-0.05, 1.02, string.ascii_lowercase[n]+')', \n",
    "    transform=ax.transAxes, \n",
    "    size=12, weight='bold')\n",
    "\n",
    "plt.tight_layout(True)\n",
    "\n",
    "plt.savefig('21.10.28/PassiveLoads.png', dpi=400)\n",
    "\n",
    "plt.show()"
   ]
  },
  {
   "cell_type": "code",
   "execution_count": 22,
   "metadata": {},
   "outputs": [
    {
     "data": {
      "text/plain": [
       "array([2.05846851e-02, 3.72462636e-04, 3.04818829e-06, 6.44960584e-07,\n",
       "       6.49402698e-09])"
      ]
     },
     "execution_count": 22,
     "metadata": {},
     "output_type": "execute_result"
    }
   ],
   "source": [
    "np.sum(P, axis=1)"
   ]
  },
  {
   "cell_type": "code",
   "execution_count": 18,
   "metadata": {},
   "outputs": [
    {
     "data": {
      "text/plain": [
       "50K      1.994248e-02\n",
       "4K       3.336059e-04\n",
       "Still    2.504977e-06\n",
       "CP       5.293405e-07\n",
       "MXC      5.330329e-09\n",
       "Name: Passive Load (W), dtype: float64"
      ]
     },
     "execution_count": 18,
     "metadata": {},
     "output_type": "execute_result"
    }
   ],
   "source": [
    "passive_load(stage_labels=fridge_ours['labels'], \n",
    "        diameters=coax_co_params[c]['d'],\n",
    "        lengths=fridge_ours['lengths'],\n",
    "        therm_cond=[coax_co_params[c]['tc'], lambda t: 0, coax_co_params[c]['tc']],\n",
    "        therm_scheme=[[True]*5]*3,\n",
    "        stage_temps=fridge_ours['temps'])\n"
   ]
  },
  {
   "cell_type": "code",
   "execution_count": null,
   "metadata": {},
   "outputs": [],
   "source": []
  },
  {
   "cell_type": "markdown",
   "metadata": {},
   "source": [
    "## T2 from drive noise"
   ]
  },
  {
   "cell_type": "code",
   "execution_count": 2,
   "metadata": {},
   "outputs": [],
   "source": [
    "chi = 43e6**2/1e9\n",
    "\n",
    "h = 6.626e-34\n",
    "k_B = 1.381e-23\n",
    "c = 3e8\n",
    "\n",
    "n_BE = lambda T, f: 1 / ( np.exp( h*f / (k_B*T) ) - 1 )   \n",
    "T2 = lambda n: 1/(n*(n+1)*(chi)**2)\n",
    "\n",
    "# T = [300]+fridge_ours['temps']\n",
    "T_data = np.logspace(np.log10(0.01), np.log10(600), 300)\n",
    "n_data = [n_BE(t, 6e9) for t in T_data]\n",
    "T2_data = [T2(n) for n in n_data]"
   ]
  },
  {
   "cell_type": "code",
   "execution_count": 3,
   "metadata": {},
   "outputs": [],
   "source": [
    "fig, axs = plt.subplots(figsize=(6, 6))\n",
    "axs.plot(T_data, n_data)\n",
    "axs.set_xscale('log')\n",
    "axs.set_yscale('log')\n",
    "\n",
    "axs2 = axs.twinx()\n",
    "axs2.plot(T_data, T2_data, c='r')\n",
    "axs2.set_xscale('log')\n",
    "axs2.set_yscale('log')\n",
    "\n",
    "axs.set_xlabel('Temperature')\n",
    "axs.set_ylabel('Noise Photons')\n",
    "axs2.set_ylabel('T2')\n",
    "\n",
    "# axs.set_yticks([1e-1, 1e0, 1e1, 1e2, 1e3])\n",
    "# axs.set_xlabel('Noise Temperature (K)')\n",
    "# axs.set_ylabel(r'Dephasing Rate from Current Noise $\\Gamma_{\\phi}  (s^{-1})$')\n",
    "\n",
    "# axs2 = axs.twinx()\n",
    "# axs3 = axs.twiny()\n",
    "\n",
    "# axs2.set_yscale('log')\n",
    "# axs2.set_ylim(1 / np.array(axs.get_ylim()))\n",
    "# axs2.set_yticks([1/i for i in axs.get_yticks()])\n",
    "# axs2.set_ylabel(r'Maximum $T_2$ (s)')\n",
    "\n",
    "# axs3.set_xscale('log')\n",
    "# axs3.set_xlim(S_eff(np.array(axs.get_xlim())))\n",
    "# # axs3.set_xticks([S_eff(i) for i in axs.get_xticks()])\n",
    "# axs3.set_xlabel(r'Noise Current, $I^2   (A^2/Hz)$')\n",
    "\n",
    "# temps = [(7e-3, 20e-3), (70e-3, 150e-3), (3.5, 4), (1.1, 1.227), (45, 50), (290, 300)]\n",
    "# h = axs.get_ylim()[1] - axs.get_ylim()[0]\n",
    "# hm = (axs.get_ylim()[1] + axs.get_ylim()[0])/2\n",
    "# for i in range(6):\n",
    "#     w = temps[i][1] - temps[i][0]\n",
    "#     wm = (temps[i][1] + temps[i][0]) / 2\n",
    "#     b = mpl.patches.Rectangle((wm-w/2, hm-h/2), w, h, facecolor='r', lw=2, alpha=0.5, zorder=-1)\n",
    "#     axs.add_patch(b)\n",
    "\n",
    "# axs.annotate('MXC', (0.023, 1e3))\n",
    "# axs.annotate('CP', (0.153, 0.5e3))\n",
    "# axs.annotate('Still', (1.25, 0.1e3))\n",
    "# axs.annotate('4K', (4.2, 0.1e2))\n",
    "# axs.annotate('50K', (52, 0.3e1))\n",
    "# axs.annotate('RT', (150, 0.5e0))\n",
    "\n",
    "# axs.set_title('Noise temperature vs. Qubit Dephasing')\n",
    "plt.tight_layout(True)\n",
    "\n",
    "# plt.savefig('21.10.18/Flux Noise Temp.png')\n",
    "\n",
    "plt.show()"
   ]
  },
  {
   "cell_type": "code",
   "execution_count": null,
   "metadata": {},
   "outputs": [],
   "source": []
  },
  {
   "cell_type": "markdown",
   "metadata": {},
   "source": [
    "## Energy Distribution of qubit VS LC oscillator"
   ]
  },
  {
   "cell_type": "code",
   "execution_count": 26,
   "metadata": {},
   "outputs": [
    {
     "data": {
      "text/plain": [
       "[0.5183635586365642,\n",
       " 0.902376727811947,\n",
       " 1.1868606805188016,\n",
       " 1.3976115761755956,\n",
       " 1.5537396797031404]"
      ]
     },
     "execution_count": 26,
     "metadata": {},
     "output_type": "execute_result"
    }
   ],
   "source": [
    "e = [2*(1-np.exp(-0.3*i)) for i in range(1, 6)]\n",
    "[np.arccos(1-i)for i in e]\n",
    "e\n"
   ]
  },
  {
   "cell_type": "code",
   "execution_count": 44,
   "metadata": {},
   "outputs": [],
   "source": [
    "## qubit\n",
    "f = lambda x: 1-np.cos(x)\n",
    "x = np.linspace(-3.5, 3.5, 100)\n",
    "x1 = np.linspace(-3.75, -3.5, 50)\n",
    "\n",
    "e = [2*(1-np.exp(-0.3*i)) for i in range(1, 6)]\n",
    "ex = [np.arccos(1-i)for i in e]\n",
    "\n",
    "fig, axs = plt.subplots(figsize=(7, 5))\n",
    "axs.plot(x, f(x), c='b', linewidth=4)\n",
    "axs.plot(x1, f(x1), linestyle='dashed', c='b', linewidth=2)\n",
    "axs.plot(-1*x1, f(-1*x1), linestyle='dashed', c='b', linewidth=2)\n",
    "\n",
    "axs.hlines(e, -1*np.array(ex), ex, linewidth=2)\n",
    "plt.savefig('21.10.28/Qubitenergies.png', dpi=400)\n",
    "plt.show()"
   ]
  },
  {
   "cell_type": "code",
   "execution_count": 45,
   "metadata": {},
   "outputs": [],
   "source": [
    "## LC oscillator\n",
    "f = lambda x: x**2\n",
    "x = np.linspace(-1.5, 1.5, 100)\n",
    "x1 = np.linspace(-1.65, -1.5, 50)\n",
    "\n",
    "e = [0.4*i for i in range(1, 6)]\n",
    "ex = [np.sqrt(i) for i in e]\n",
    "\n",
    "fig, axs = plt.subplots(figsize=(5, 5))\n",
    "axs.plot(x, f(x), c='b', linewidth=4)\n",
    "axs.plot(x1, f(x1), linestyle='dashed', c='b', linewidth=2)\n",
    "axs.plot(-1*x1, f(-1*x1), linestyle='dashed', c='b', linewidth=2)\n",
    "\n",
    "axs.hlines(e, -1*np.array(ex), ex, linewidth=2)\n",
    "plt.savefig('21.10.28/LCenergies.png', dpi=400)\n",
    "plt.show()"
   ]
  },
  {
   "cell_type": "code",
   "execution_count": null,
   "metadata": {},
   "outputs": [],
   "source": []
  },
  {
   "cell_type": "markdown",
   "metadata": {},
   "source": [
    "## Cable Attenuation Plots"
   ]
  },
  {
   "cell_type": "code",
   "execution_count": 2,
   "metadata": {},
   "outputs": [],
   "source": [
    "# cablesSS = ['119-SS-SS', '219-SS-SS', '119-AgSS-SS', '219-AgSS-SS']\n",
    "# cablesCuNi = ['119-CuNi-CuNi', '219-CuNi-CuNi', '119-AgCuNi-CuNi', '219-AgCuNi-CuNi']\n",
    "# cablesNbTi = ['119-NbTi-NbTi', '219-NbTi-NbTi']\n",
    "\n",
    "cablesdf = ['219-CuNi-CuNi', '219-SS-SS', '119-CuNi-CuNi', '119-SS-SS']\n",
    "cablesout = ['219-AgCuNi-CuNi', '219-AgSS-SS', '119-AgCuNi-CuNi', '119-AgSS-SS']\n",
    "cablessuper = ['119-NbTi-NbTi', '219-NbTi-NbTi'][::-1]\n",
    "\n",
    "f = [0.5, 1, 5, 10, 19.99]"
   ]
  },
  {
   "cell_type": "code",
   "execution_count": 15,
   "metadata": {},
   "outputs": [],
   "source": [
    "fig, axs = plt.subplots(2, 3, sharey=True, sharex=True, figsize=(9, 5))\n",
    "\n",
    "for c in cablesdf:\n",
    "    # for fi in f:\n",
    "    #     print(fi)\n",
    "    #     print(-1*coax_co_params[c]['att_300'](fi))\n",
    "    d300 = [-1*coax_co_params[c]['att_300'](fi) for fi in f]\n",
    "    d4 = [-1*coax_co_params[c]['att_4'](fi) for fi in f]\n",
    "    axs[0, 0].plot(f, d300)\n",
    "    axs[1, 0].plot(f, d4)\n",
    "\n",
    "for c in cablesout:\n",
    "    d300 = [-1*coax_co_params[c]['att_300'](fi) for fi in f]\n",
    "    d4 = [-1*coax_co_params[c]['att_4'](fi) for fi in f]\n",
    "    axs[0, 1].plot(f, d300)\n",
    "    axs[1, 1].plot(f, d4)\n",
    "\n",
    "for c in cablessuper:\n",
    "    d300 = [-1*coax_co_params[c]['att_300'](fi) for fi in f]\n",
    "    d4 = [-1*coax_co_params[c]['att_4'](fi) for fi in f]\n",
    "    axs[0, 2].plot(f, d300)\n",
    "    axs[1, 2].plot(f, d4)\n",
    "\n",
    "for i in range(3):\n",
    "    axs[1, i].set_xlabel(r'Frequency, $\\omega/2\\pi$ (GHz)')\n",
    "\n",
    "# for in range\n",
    "\n",
    "axs[0, 0].legend(cablesdf, loc=(0.2, 1.05))\n",
    "axs[0, 1].legend(cablesout, loc=(0.2, 1.05))\n",
    "axs[0, 2].legend(cablessuper, loc=(0.2, 1.05))\n",
    "    \n",
    "\n",
    "axs[0, 0].set_ylabel('Cable Attenuation\\nat 300K (dB/m)')\n",
    "axs[1, 0].set_ylabel('Cable Attenuation\\nat 4K (dB/m)')\n",
    "\n",
    "for n, ax in enumerate(axs.flatten('F')):\n",
    "    ax.grid(True, 'major', 'both')\n",
    "    ax.text(-0.05, 1.1, string.ascii_lowercase[n]+')', \n",
    "    transform=ax.transAxes, \n",
    "    size=12, weight='bold')\n",
    "\n",
    "plt.tight_layout(True)\n",
    "\n",
    "plt.savefig('21.11.02/CableAttData.png', dpi=400)\n",
    "\n",
    "plt.show()"
   ]
  },
  {
   "cell_type": "markdown",
   "metadata": {},
   "source": []
  },
  {
   "cell_type": "code",
   "execution_count": 40,
   "metadata": {},
   "outputs": [
    {
     "data": {
      "text/plain": [
       "array([[<matplotlib.axes._subplots.AxesSubplot object at 0x000001543B7AE808>,\n",
       "        <matplotlib.axes._subplots.AxesSubplot object at 0x000001543B7AAE88>,\n",
       "        <matplotlib.axes._subplots.AxesSubplot object at 0x000001543B160548>],\n",
       "       [<matplotlib.axes._subplots.AxesSubplot object at 0x000001543B19A788>,\n",
       "        <matplotlib.axes._subplots.AxesSubplot object at 0x000001543B1D2708>,\n",
       "        <matplotlib.axes._subplots.AxesSubplot object at 0x000001543B20A708>]],\n",
       "      dtype=object)"
      ]
     },
     "execution_count": 40,
     "metadata": {},
     "output_type": "execute_result"
    }
   ],
   "source": [
    "axs"
   ]
  },
  {
   "cell_type": "code",
   "execution_count": 14,
   "metadata": {},
   "outputs": [
    {
     "data": {
      "text/plain": [
       "[0.5, 1, 5, 10, 20]"
      ]
     },
     "execution_count": 14,
     "metadata": {},
     "output_type": "execute_result"
    }
   ],
   "source": [
    "f"
   ]
  },
  {
   "cell_type": "code",
   "execution_count": 13,
   "metadata": {},
   "outputs": [
    {
     "data": {
      "text/plain": [
       "'119-SS-SS'"
      ]
     },
     "execution_count": 13,
     "metadata": {},
     "output_type": "execute_result"
    }
   ],
   "source": [
    "c"
   ]
  },
  {
   "cell_type": "code",
   "execution_count": 10,
   "metadata": {},
   "outputs": [
    {
     "data": {
      "text/plain": [
       "-5.3"
      ]
     },
     "execution_count": 10,
     "metadata": {},
     "output_type": "execute_result"
    }
   ],
   "source": [
    "-1*coax_co_params[c]['att_300'](0.5)"
   ]
  },
  {
   "cell_type": "code",
   "execution_count": null,
   "metadata": {},
   "outputs": [],
   "source": []
  }
 ],
 "metadata": {
  "interpreter": {
   "hash": "76d294211c072932f937aaab0a08c9e5f55deabab18997bf61f91489dc88ea29"
  },
  "kernelspec": {
   "display_name": "Python 3.7.7 64-bit ('base': conda)",
   "name": "python3"
  },
  "language_info": {
   "codemirror_mode": {
    "name": "ipython",
    "version": 3
   },
   "file_extension": ".py",
   "mimetype": "text/x-python",
   "name": "python",
   "nbconvert_exporter": "python",
   "pygments_lexer": "ipython3",
   "version": "3.7.7"
  },
  "orig_nbformat": 4
 },
 "nbformat": 4,
 "nbformat_minor": 2
}
