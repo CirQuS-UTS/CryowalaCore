{
 "cells": [
  {
   "cell_type": "code",
   "execution_count": 1,
   "metadata": {},
   "outputs": [
    {
     "name": "stderr",
     "output_type": "stream",
     "text": [
      "\n",
      "Bad key \"text.kerning_factor\" on line 4 in\n",
      "C:\\Users\\Adrien\\anaconda3\\lib\\site-packages\\matplotlib\\mpl-data\\stylelib\\_classic_test_patch.mplstyle.\n",
      "You probably need to get an updated matplotlibrc file from\n",
      "https://github.com/matplotlib/matplotlib/blob/v3.1.3/matplotlibrc.template\n",
      "or from the matplotlib source distribution\n"
     ]
    }
   ],
   "source": [
    "from model_functions import *\n",
    "from param_functions import *\n",
    "import numpy as np\n",
    "import pandas as pd\n",
    "from IPython import display as ipd\n",
    "from matplotlib import pyplot as plt\n",
    "import matplotlib as mpl\n",
    "mpl.rcParams['figure.dpi'] = 100\n",
    "\n",
    "%matplotlib qt"
   ]
  },
  {
   "cell_type": "markdown",
   "metadata": {},
   "source": [
    "--------------------"
   ]
  },
  {
   "cell_type": "markdown",
   "metadata": {},
   "source": [
    "## Original Setup - Drive & Flux"
   ]
  },
  {
   "cell_type": "markdown",
   "metadata": {},
   "source": [
    "### Image"
   ]
  },
  {
   "cell_type": "code",
   "execution_count": null,
   "metadata": {},
   "outputs": [],
   "source": [
    "ipd.Image('D:\\\\Uni\\\\Honours\\\\GitLab\\\\DiLonardo_Adrien\\\\' +\n",
    "            '2021 Honours - Dilution Fridge\\\\Numerical Modeling\\\\' +\n",
    "            'Optimisation Figures and Code\\\\Cable Setup Images\\\\Original.PNG')"
   ]
  },
  {
   "cell_type": "markdown",
   "metadata": {},
   "source": [
    "### Data"
   ]
  },
  {
   "cell_type": "code",
   "execution_count": null,
   "metadata": {},
   "outputs": [],
   "source": [
    "cables = ['219-SS-SS', '219-CuNi-CuNi', '219-AgSS-SS', '219-AgCuNi-CuNi',\n",
    "          '119-SS-SS', '119-CuNi-CuNi', '119-AgSS-SS', '119-AgCuNi-CuNi']\n",
    "\n",
    "therm_scheme_drive = [[False, True, False, True, True], #inner\n",
    "                  [False, True, False, True, True], #dielectric\n",
    "                  [True, True, True, True, True]]   #outer\n",
    "\n",
    "therm_scheme_flux = [[False, True, False, False, True], #inner\n",
    "                  [False, True, False, False, True], #dielectric\n",
    "                  [True, True, True, True, True]]   #outer"
   ]
  },
  {
   "cell_type": "code",
   "execution_count": null,
   "metadata": {},
   "outputs": [],
   "source": [
    "data = []\n",
    "\n",
    "for c in cables:\n",
    "    p_drive = passive_load(stage_labels=fridge_ours['labels'], \n",
    "                diameters=coax_co_params[c]['d'],\n",
    "                lengths=fridge_ours['lengths'],\n",
    "                therm_cond=[coax_co_params[c]['tc'], lambda t: 0, coax_co_params[c]['tc']],\n",
    "                therm_scheme=therm_scheme_drive,\n",
    "                stage_temps=fridge_ours['temps'])\n",
    "\n",
    "    p_flux = passive_load(stage_labels=fridge_ours['labels'], \n",
    "                diameters=coax_co_params[c]['d'],\n",
    "                lengths=fridge_ours['lengths'],\n",
    "                therm_cond=[coax_co_params[c]['tc'], lambda t: 0, coax_co_params[c]['tc']],\n",
    "                therm_scheme=therm_scheme_flux,\n",
    "                stage_temps=fridge_ours['temps'])\n",
    "\n",
    "    a_ac = active_load_AC(stage_labels=fridge_ours['labels'], \n",
    "            signal_p=1e-3*10**(-5/10), \n",
    "            signal_f=6, \n",
    "            att=[0, 20, 0, 20, 20],\n",
    "            cable_att=coax_co_params[c]['att_4'],\n",
    "            lengths=fridge_ours['lengths'])\n",
    "\n",
    "    a_dc = active_load_DC(i_in=20e-3, \n",
    "                    stage_labels=fridge_ours['labels'], \n",
    "                    att=[0, 20, 0, 0, 0], \n",
    "                    cable_rho=coax_co_params[c]['rho'], \n",
    "                    lengths=fridge_ours['lengths'], \n",
    "                    diameters=coax_co_params[c]['d'])\n",
    "\n",
    "    data.append([p_drive, p_flux, a_ac, a_dc])"
   ]
  },
  {
   "cell_type": "markdown",
   "metadata": {},
   "source": [
    "### Plot"
   ]
  },
  {
   "cell_type": "code",
   "execution_count": null,
   "metadata": {},
   "outputs": [],
   "source": [
    "n_drive = 14\n",
    "n_flux = 14\n",
    "dc_drive = 0.33\n",
    "dc_flux = 1\n",
    "\n",
    "edited_loads = [[di[0]*n_drive, \n",
    "                 di[1]*n_flux, \n",
    "                 di[2]*dc_drive*n_drive, \n",
    "                 di[3]*dc_flux*n_flux]\n",
    "                for di in data]\n",
    "\n",
    "figs = []\n",
    "colours = ['red', 'orange', 'green', 'blue']\n",
    "\n",
    "#iterating stages\n",
    "for i in range(5):\n",
    "\n",
    "    fig = plt.figure(figsize=(8, 6))\n",
    "    figs.append(fig)\n",
    "    ax = plt.axes()\n",
    "\n",
    "    #iterating cables\n",
    "    for ii in range(4):\n",
    "        #iterating load type\n",
    "        bot = 0\n",
    "        for iii in range(4):\n",
    "            val = edited_loads[ii][iii][i] / fridge_ours['cool_p'][i]\n",
    "            plt.bar(x=1+ii, \n",
    "                    height=val, \n",
    "                    width=1, \n",
    "                    bottom=bot,\n",
    "                    color=colours[iii])\n",
    "            bot += val\n",
    "\n",
    "    #iterating cables\n",
    "    for ii in range(4, 8):\n",
    "        #iterating load type\n",
    "        bot = 0\n",
    "        for iii in range(4):\n",
    "            val = edited_loads[ii][iii][i] / fridge_ours['cool_p'][i]\n",
    "            plt.bar(x=2+ii, \n",
    "                    height=val, \n",
    "                    width=1, \n",
    "                    bottom=bot,\n",
    "                    color=colours[iii])\n",
    "            bot += val\n",
    "\n",
    "    plt.title('Heat Loads on ' + fridge_100q['labels'][i] + ' Stage\\n' +\n",
    "                'No. Drive = ' + str(n_drive) + ', No. Flux = ' + str(n_flux))\n",
    "    plt.xlabel('Cable Types')\n",
    "    plt.ylabel(r'$P_{total}/P_{cooling}$')\n",
    "    leg_labels = ['Passive (Drive)', 'Passive (Flux)', 'Active (Drive)', 'Active (Flux)']\n",
    "    leg = plt.legend(leg_labels)\n",
    "    plt.legend(leg.legendHandles[::-1], leg_labels[::-1], loc=(1.01, 0.75))\n",
    "    plt.xticks([1, 2, 3, 4, 6, 7, 8, 9], cables, rotation=90)\n",
    "\n",
    "plt.show()"
   ]
  },
  {
   "cell_type": "markdown",
   "metadata": {},
   "source": [
    "## 10 dB from 4K to 50K - Drive & Flux"
   ]
  },
  {
   "cell_type": "markdown",
   "metadata": {},
   "source": [
    "### Image"
   ]
  },
  {
   "cell_type": "code",
   "execution_count": null,
   "metadata": {},
   "outputs": [],
   "source": [
    "ipd.Image('D:\\\\Uni\\\\Honours\\\\GitLab\\\\DiLonardo_Adrien\\\\' +\n",
    "            '2021 Honours - Dilution Fridge\\\\Numerical Modeling\\\\' +\n",
    "            'Optimisation Figures and Code\\\\Cable Setup Images\\\\10db 50K.PNG')"
   ]
  },
  {
   "cell_type": "markdown",
   "metadata": {},
   "source": [
    "### Data"
   ]
  },
  {
   "cell_type": "code",
   "execution_count": null,
   "metadata": {},
   "outputs": [],
   "source": [
    "cables = ['219-SS-SS', '219-CuNi-CuNi', '219-AgSS-SS', '219-AgCuNi-CuNi',\n",
    "          '119-SS-SS', '119-CuNi-CuNi', '119-AgSS-SS', '119-AgCuNi-CuNi']\n",
    "\n",
    "therm_scheme_drive_10 = [[True, True, False, True, True], #inner\n",
    "                  [True, True, False, True, True], #dielectric\n",
    "                  [True, True, True, True, True]]   #outer\n",
    "\n",
    "therm_scheme_flux_10 = [[True, True, False, False, True], #inner\n",
    "                  [True, True, False, False, True], #dielectric\n",
    "                  [True, True, True, True, True]]   #outer"
   ]
  },
  {
   "cell_type": "code",
   "execution_count": null,
   "metadata": {},
   "outputs": [],
   "source": [
    "heat_data_10 = []\n",
    "\n",
    "for c in cables:\n",
    "    p_drive = passive_load(stage_labels=fridge_100q['labels'], \n",
    "                diameters=coax_co_params[c]['d'],\n",
    "                lengths=fridge_100q['lengths'],\n",
    "                therm_cond=[coax_co_params[c]['tc']]*3,\n",
    "                therm_scheme=therm_scheme_drive_10,\n",
    "                stage_temps=fridge_100q['temps'])\n",
    "\n",
    "    p_flux = passive_load(stage_labels=fridge_100q['labels'], \n",
    "                diameters=coax_co_params[c]['d'],\n",
    "                lengths=fridge_100q['lengths'],\n",
    "                therm_cond=[coax_co_params[c]['tc']]*3,\n",
    "                therm_scheme=therm_scheme_flux_10,\n",
    "                stage_temps=fridge_100q['temps'])\n",
    "\n",
    "    a_ac = active_load_AC(stage_labels=fridge_100q['labels'], \n",
    "            signal_p=1e-3*10**(-5/10), \n",
    "            signal_f=6, \n",
    "            att=[10, 10, 0, 20, 20],\n",
    "            cable_att=coax_co_params[c]['att_4'],\n",
    "            lengths=fridge_100q['lengths'])\n",
    "\n",
    "    a_dc = active_load_DC(i_in=20e-3, \n",
    "                    stage_labels=fridge_100q['labels'], \n",
    "                    att=[10, 10, 0, 0, 0], \n",
    "                    cable_rho=coax_co_params[c]['rho'], \n",
    "                    lengths=fridge_100q['lengths'], \n",
    "                    diameters=coax_co_params[c]['d'])\n",
    "\n",
    "    heat_data_10.append([p_drive, p_flux, a_ac, a_dc])"
   ]
  },
  {
   "cell_type": "markdown",
   "metadata": {},
   "source": [
    "### Comparison Plot"
   ]
  },
  {
   "cell_type": "code",
   "execution_count": null,
   "metadata": {},
   "outputs": [],
   "source": [
    "n_drive = 14\n",
    "n_flux = 14\n",
    "dc_drive = 0.33\n",
    "dc_flux = 1\n",
    "\n",
    "edited_loads = [[di[0]*n_drive, \n",
    "                 di[1]*n_flux, \n",
    "                 di[2]*dc_drive*n_drive, \n",
    "                 di[3]*dc_flux*n_flux]\n",
    "                for di in data]\n",
    "\n",
    "edited_loads_10 = [[di[0]*n_drive, \n",
    "                 di[1]*n_flux, \n",
    "                 di[2]*dc_drive*n_drive, \n",
    "                 di[3]*dc_flux*n_flux]\n",
    "                for di in heat_data_10]\n",
    "\n",
    "figs = []\n",
    "colours = ['red', 'orange', 'green', 'blue']\n",
    "\n",
    "#iterating stages\n",
    "for i in range(5):\n",
    "\n",
    "    fig = plt.figure(figsize=(7, 5))\n",
    "    figs.append(fig)\n",
    "    ax = plt.axes()\n",
    "\n",
    "    #iterating cables\n",
    "    for ii in range(8):\n",
    "        #iterating load type\n",
    "        bot = 0\n",
    "        bot_10 = 0\n",
    "        for iii in range(4):\n",
    "            val = edited_loads[ii][iii][i] / fridge_ours['cool_p'][i]\n",
    "            plt.bar(x=1+3*ii, \n",
    "                    height=val, \n",
    "                    width=1, \n",
    "                    bottom=bot,\n",
    "                    color=colours[iii])\n",
    "            bot += val\n",
    "\n",
    "        for iii in range(4):\n",
    "            val_10 = edited_loads_10[ii][iii][i] / fridge_ours['cool_p'][i]\n",
    "            plt.bar(x=2+3*ii, \n",
    "                    height=val_10, \n",
    "                    width=1, \n",
    "                    bottom=bot_10,\n",
    "                    color=colours[iii])\n",
    "            bot_10 += val_10\n",
    "\n",
    "    plt.title('Heat Loads on ' + fridge_100q['labels'][i] + ' Stage\\n' +\n",
    "                'No. Drive = ' + str(n_drive) + ', No. Flux = ' + str(n_flux))\n",
    "    plt.xlabel('Cable Types')\n",
    "    plt.ylabel(r'$P_{total}/P_{cooling}$')\n",
    "    leg_labels = ['Passive (Drive)', 'Passive (Flux)', 'Active (Drive)', 'Active (Flux)']\n",
    "    leg = plt.legend(leg_labels)\n",
    "    plt.legend(leg.legendHandles[::-1], leg_labels[::-1], loc=(1.01, 0.75))\n",
    "\n",
    "    plt.xticks([1+3*i for i in range(8)] + [2+3*i for i in range(8)], \n",
    "                [c + r' $A_{50K}=0$' for c in cables] + [c + r' $A_{50K}=10$' for c in cables],\n",
    "                rotation=90)\n",
    "\n",
    "plt.show()"
   ]
  },
  {
   "cell_type": "markdown",
   "metadata": {},
   "source": [
    "### Noise Plots"
   ]
  },
  {
   "cell_type": "code",
   "execution_count": null,
   "metadata": {},
   "outputs": [],
   "source": [
    "noise_data_d = [drive_noise(f=6e9, \n",
    "                      stage_labels=fridge_ours['labels'], \n",
    "                      stage_temps=fridge_ours['temps'], \n",
    "                      att=[0, 20, 0, 20, 20], \n",
    "                      cable_att=[0, 0, 0, 0, 0], \n",
    "                      lengths=fridge_ours['lengths'])[-1],\n",
    "                drive_noise(f=6e9, \n",
    "                      stage_labels=fridge_ours['labels'], \n",
    "                      stage_temps=fridge_ours['temps'], \n",
    "                      att=[10, 10, 0, 20, 20], \n",
    "                      cable_att=[0, 0, 0, 0, 0], \n",
    "                      lengths=fridge_ours['lengths'])[-1]]\n",
    "\n",
    "noise_data_f = [np.sqrt(flux_noise(f=6e9, \n",
    "                      stage_labels=fridge_ours['labels'], \n",
    "                      stage_temps=fridge_ours['temps'], \n",
    "                      att=[0, 20, 0, 0, 0], \n",
    "                      cable_att=[0, 0, 0, 0, 0], \n",
    "                      lengths=fridge_ours['lengths'])[-1]),\n",
    "                np.sqrt(flux_noise(f=6e9, \n",
    "                      stage_labels=fridge_ours['labels'], \n",
    "                      stage_temps=fridge_ours['temps'], \n",
    "                      att=[10, 10, 0, 0, 0], \n",
    "                      cable_att=[0, 0, 0, 0, 0], \n",
    "                      lengths=fridge_ours['lengths'])[-1])]"
   ]
  },
  {
   "cell_type": "code",
   "execution_count": null,
   "metadata": {},
   "outputs": [],
   "source": [
    "fig = plt.figure(figsize=(7, 5))\n",
    "ax1 = plt.axes()\n",
    "ax2 = ax1.twinx()\n",
    "\n",
    "ax1.bar(1, noise_data_d[0], width=1, color='red')\n",
    "ax1.bar(2, noise_data_d[1], width=1, color='blue')\n",
    "ax2.bar([4, 5], noise_data_f, width=1, color=['red', 'blue'])\n",
    "\n",
    "ax2.set_ylim(0, max(noise_data_f)*1.05)\n",
    "\n",
    "plt.xticks([1.5, 4.5], ['Drive Line\\nNoise Photons', 'Flux Line\\nNoise Current'])\n",
    "ax1.legend([r'$A_{40K}=20dB, A_{50K}=0dB$', r'$A_{4K}=0dB, A_{50K}=10dB$'], loc='lower left')\n",
    "plt.title(\"Drive and Flux Line Noise\")\n",
    "ax1.set_ylabel(r'Noise Photon Number ($Hz^{-1}s^{-1}$)')\n",
    "ax2.set_ylabel(r'Noise Current ($A/\\sqrt{Hz}$)')\n",
    "\n",
    "plt.show()"
   ]
  },
  {
   "cell_type": "markdown",
   "metadata": {},
   "source": [
    "## Full Fridge Setup"
   ]
  },
  {
   "cell_type": "markdown",
   "metadata": {},
   "source": [
    "### Image"
   ]
  },
  {
   "cell_type": "code",
   "execution_count": null,
   "metadata": {},
   "outputs": [],
   "source": [
    "ipd.Image('D:\\\\Uni\\\\Honours\\\\GitLab\\\\DiLonardo_Adrien\\\\' +\n",
    "            '2021 Honours - Dilution Fridge\\\\Numerical Modeling\\\\' +\n",
    "            'Optimisation Figures and Code\\\\Cable Setup Images\\\\Full.PNG')"
   ]
  },
  {
   "cell_type": "markdown",
   "metadata": {},
   "source": [
    "### Data"
   ]
  },
  {
   "cell_type": "code",
   "execution_count": 2,
   "metadata": {},
   "outputs": [],
   "source": [
    "therm_scheme_drive = [[True, True, False, True, True], #inner\n",
    "                  [True, True, False, True, True], #dielectric\n",
    "                  [True, True, True, True, True]]   #outer\n",
    "\n",
    "therm_scheme_flux = [[True, True, False, False, True], #inner\n",
    "                  [True, True, False, False, True], #dielectric\n",
    "                  [True, True, True, True, True]]   #outer\n",
    "\n",
    "therm_scheme_output = [[True, True, False, False, True], #inner\n",
    "                  [True, True, False, False, True], #dielectric\n",
    "                  [True, True, True, True, True]]   #outer"
   ]
  },
  {
   "cell_type": "code",
   "execution_count": 3,
   "metadata": {},
   "outputs": [],
   "source": [
    "c_drive = '119-SS-SS'\n",
    "c_flux = '119-SS-SS'\n",
    "c_out_upper = '119-AgCuNi-CuNi'\n",
    "c_out_lower = '119-NbTi-NbTi'\n",
    "\n",
    "p_drive = passive_load(stage_labels=fridge_ours['labels'], \n",
    "        diameters=coax_co_params[c_drive]['d'],\n",
    "        lengths=fridge_ours['lengths'],\n",
    "        therm_cond=[coax_co_params[c_drive]['tc'], lambda t: 0, coax_co_params[c_drive]['tc']],\n",
    "        therm_scheme=therm_scheme_drive,\n",
    "        stage_temps=fridge_ours['temps'])\n",
    "\n",
    "p_flux = passive_load(stage_labels=fridge_ours['labels'], \n",
    "        diameters=coax_co_params[c_flux]['d'],\n",
    "        lengths=fridge_ours['lengths'],\n",
    "        therm_cond=[coax_co_params[c_flux]['tc'], lambda t: 0, coax_co_params[c_flux]['tc']],\n",
    "        therm_scheme=therm_scheme_flux,\n",
    "        stage_temps=fridge_ours['temps'])\n",
    "\n",
    "p_out_lower = passive_load(stage_labels=fridge_100q['labels'], \n",
    "        diameters=coax_co_params[c_out_lower]['d'],\n",
    "        lengths=fridge_100q['lengths'],\n",
    "        therm_cond=[coax_co_params[c_out_lower]['tc'], lambda t: 0, coax_co_params[c_out_lower]['tc']],\n",
    "        therm_scheme=therm_scheme_output,\n",
    "        stage_temps=fridge_ours['temps'])\n",
    "\n",
    "p_out_upper = passive_load(stage_labels=fridge_ours['labels'], \n",
    "        diameters=coax_co_params[c_out_upper]['d'],\n",
    "        lengths=fridge_ours['lengths'],\n",
    "        therm_cond=[coax_co_params[c_out_upper]['tc'], lambda t: 0, coax_co_params[c_out_upper]['tc']],\n",
    "        therm_scheme=therm_scheme_output,\n",
    "        stage_temps=fridge_ours['temps'])\n",
    "\n",
    "p_out = p_out_upper[0:2].append(p_out_lower[2:])\n",
    "\n",
    "a_ac = active_load_AC(stage_labels=fridge_ours['labels'], \n",
    "        signal_p=1e-3*10**(-5/10), \n",
    "        signal_f=6, \n",
    "        att=[10, 10, 0, 20, 20],\n",
    "        cable_att=coax_co_params[c_drive]['att_4'],\n",
    "        lengths=fridge_ours['lengths'])\n",
    "\n",
    "a_dc = active_load_DC(i_in=20e-3, \n",
    "                stage_labels=fridge_ours['labels'], \n",
    "                att=[10, 10, 0, 0, 0], \n",
    "                cable_rho=coax_co_params[c_flux]['rho'], \n",
    "                lengths=fridge_ours['lengths'], \n",
    "                diameters=coax_co_params[c_flux]['d'])\n"
   ]
  },
  {
   "cell_type": "code",
   "execution_count": 4,
   "metadata": {},
   "outputs": [
    {
     "data": {
      "text/html": [
       "<div>\n",
       "<style scoped>\n",
       "    .dataframe tbody tr th:only-of-type {\n",
       "        vertical-align: middle;\n",
       "    }\n",
       "\n",
       "    .dataframe tbody tr th {\n",
       "        vertical-align: top;\n",
       "    }\n",
       "\n",
       "    .dataframe thead th {\n",
       "        text-align: right;\n",
       "    }\n",
       "</style>\n",
       "<table border=\"1\" class=\"dataframe\">\n",
       "  <thead>\n",
       "    <tr style=\"text-align: right;\">\n",
       "      <th></th>\n",
       "      <th>50K</th>\n",
       "      <th>4K</th>\n",
       "      <th>Still</th>\n",
       "      <th>CP</th>\n",
       "      <th>MXC</th>\n",
       "    </tr>\n",
       "  </thead>\n",
       "  <tbody>\n",
       "    <tr>\n",
       "      <th>Passive (Drive)</th>\n",
       "      <td>0.008571</td>\n",
       "      <td>0.002867</td>\n",
       "      <td>0.000311</td>\n",
       "      <td>0.010104</td>\n",
       "      <td>0.001145</td>\n",
       "    </tr>\n",
       "    <tr>\n",
       "      <th>Passive (Flux)</th>\n",
       "      <td>0.008571</td>\n",
       "      <td>0.002867</td>\n",
       "      <td>0.000311</td>\n",
       "      <td>0.006567</td>\n",
       "      <td>0.036557</td>\n",
       "    </tr>\n",
       "    <tr>\n",
       "      <th>Passive (Output)</th>\n",
       "      <td>0.019293</td>\n",
       "      <td>0.006455</td>\n",
       "      <td>0.000061</td>\n",
       "      <td>0.000946</td>\n",
       "      <td>0.007222</td>\n",
       "    </tr>\n",
       "    <tr>\n",
       "      <th>Active (Drive)</th>\n",
       "      <td>0.000138</td>\n",
       "      <td>0.000152</td>\n",
       "      <td>0.000060</td>\n",
       "      <td>0.005030</td>\n",
       "      <td>0.000512</td>\n",
       "    </tr>\n",
       "    <tr>\n",
       "      <th>Active (Flux)</th>\n",
       "      <td>0.025200</td>\n",
       "      <td>0.050400</td>\n",
       "      <td>0.000000</td>\n",
       "      <td>0.219299</td>\n",
       "      <td>2.111311</td>\n",
       "    </tr>\n",
       "  </tbody>\n",
       "</table>\n",
       "</div>"
      ],
      "text/plain": [
       "                       50K        4K     Still        CP       MXC\n",
       "Passive (Drive)   0.008571  0.002867  0.000311  0.010104  0.001145\n",
       "Passive (Flux)    0.008571  0.002867  0.000311  0.006567  0.036557\n",
       "Passive (Output)  0.019293  0.006455  0.000061  0.000946  0.007222\n",
       "Active (Drive)    0.000138  0.000152  0.000060  0.005030  0.000512\n",
       "Active (Flux)     0.025200  0.050400  0.000000  0.219299  2.111311"
      ]
     },
     "execution_count": 4,
     "metadata": {},
     "output_type": "execute_result"
    }
   ],
   "source": [
    "c_p = np.array(fridge_ours['cool_p'])\n",
    "load_matrix_SS = pd.DataFrame(\n",
    "    [p_drive*14/c_p, p_flux*14/c_p, p_out*4/c_p, a_ac*14*0.33/c_p, a_dc*14*1/c_p], \n",
    "    index=['Passive (Drive)', 'Passive (Flux)', 'Passive (Output)', 'Active (Drive)', 'Active (Flux)']\n",
    ")\n",
    "load_matrix_SS"
   ]
  },
  {
   "cell_type": "code",
   "execution_count": 5,
   "metadata": {},
   "outputs": [
    {
     "data": {
      "text/html": [
       "<div>\n",
       "<style scoped>\n",
       "    .dataframe tbody tr th:only-of-type {\n",
       "        vertical-align: middle;\n",
       "    }\n",
       "\n",
       "    .dataframe tbody tr th {\n",
       "        vertical-align: top;\n",
       "    }\n",
       "\n",
       "    .dataframe thead th {\n",
       "        text-align: right;\n",
       "    }\n",
       "</style>\n",
       "<table border=\"1\" class=\"dataframe\">\n",
       "  <thead>\n",
       "    <tr style=\"text-align: right;\">\n",
       "      <th></th>\n",
       "      <th>50K</th>\n",
       "      <th>4K</th>\n",
       "      <th>Still</th>\n",
       "      <th>CP</th>\n",
       "      <th>MXC</th>\n",
       "    </tr>\n",
       "  </thead>\n",
       "  <tbody>\n",
       "    <tr>\n",
       "      <th>Passive (Drive)</th>\n",
       "      <td>0.006122</td>\n",
       "      <td>0.000102</td>\n",
       "      <td>6.659572e-07</td>\n",
       "      <td>2.165147e-07</td>\n",
       "      <td>1.636287e-09</td>\n",
       "    </tr>\n",
       "    <tr>\n",
       "      <th>Passive (Flux)</th>\n",
       "      <td>0.006122</td>\n",
       "      <td>0.000102</td>\n",
       "      <td>6.659572e-07</td>\n",
       "      <td>1.407271e-07</td>\n",
       "      <td>5.222393e-08</td>\n",
       "    </tr>\n",
       "    <tr>\n",
       "      <th>Passive (Output)</th>\n",
       "      <td>0.048233</td>\n",
       "      <td>0.000807</td>\n",
       "      <td>4.564834e-07</td>\n",
       "      <td>7.092795e-08</td>\n",
       "      <td>3.610935e-08</td>\n",
       "    </tr>\n",
       "    <tr>\n",
       "      <th>Active (Drive)</th>\n",
       "      <td>0.000099</td>\n",
       "      <td>0.000005</td>\n",
       "      <td>1.276981e-07</td>\n",
       "      <td>1.077860e-07</td>\n",
       "      <td>7.314197e-10</td>\n",
       "    </tr>\n",
       "    <tr>\n",
       "      <th>Active (Flux)</th>\n",
       "      <td>0.018000</td>\n",
       "      <td>0.001800</td>\n",
       "      <td>0.000000e+00</td>\n",
       "      <td>4.699262e-06</td>\n",
       "      <td>3.016159e-06</td>\n",
       "    </tr>\n",
       "  </tbody>\n",
       "</table>\n",
       "</div>"
      ],
      "text/plain": [
       "                       50K        4K         Still            CP           MXC\n",
       "Passive (Drive)   0.006122  0.000102  6.659572e-07  2.165147e-07  1.636287e-09\n",
       "Passive (Flux)    0.006122  0.000102  6.659572e-07  1.407271e-07  5.222393e-08\n",
       "Passive (Output)  0.048233  0.000807  4.564834e-07  7.092795e-08  3.610935e-08\n",
       "Active (Drive)    0.000099  0.000005  1.276981e-07  1.077860e-07  7.314197e-10\n",
       "Active (Flux)     0.018000  0.001800  0.000000e+00  4.699262e-06  3.016159e-06"
      ]
     },
     "execution_count": 5,
     "metadata": {},
     "output_type": "execute_result"
    }
   ],
   "source": [
    "pd.DataFrame(\n",
    "    [p_drive, p_flux, p_out, a_ac*0.33, a_dc], \n",
    "    index=['Passive (Drive)', 'Passive (Flux)', 'Passive (Output)', 'Active (Drive)', 'Active (Flux)']\n",
    ")"
   ]
  },
  {
   "cell_type": "code",
   "execution_count": null,
   "metadata": {},
   "outputs": [],
   "source": [
    "c_drive = '119-CuNi-CuNi'\n",
    "c_flux = '119-CuNi-CuNi'\n",
    "c_out_upper = '119-AgCuNi-CuNi'\n",
    "c_out_lower = '119-NbTi-NbTi'\n",
    "\n",
    "p_drive = passive_load(stage_labels=fridge_ours['labels'], \n",
    "            diameters=coax_co_params[c_drive]['d'],\n",
    "            lengths=fridge_ours['lengths'],\n",
    "            therm_cond=[coax_co_params[c_drive]['tc'], lambda t: 0, coax_co_params[c_drive]['tc']],\n",
    "            therm_scheme=therm_scheme_drive,\n",
    "            stage_temps=fridge_ours['temps'])\n",
    "\n",
    "p_flux = passive_load(stage_labels=fridge_ours['labels'], \n",
    "            diameters=coax_co_params[c_flux]['d'],\n",
    "            lengths=fridge_ours['lengths'],\n",
    "            therm_cond=[coax_co_params[c_flux]['tc'], lambda t: 0, coax_co_params[c_flux]['tc']],\n",
    "            therm_scheme=therm_scheme_flux,\n",
    "            stage_temps=fridge_ours['temps'])\n",
    "\n",
    "p_out_lower = passive_load(stage_labels=fridge_100q['labels'], \n",
    "            diameters=coax_co_params[c_out_lower]['d'],\n",
    "            lengths=fridge_100q['lengths'],\n",
    "            therm_cond=[coax_co_params[c_out_lower]['tc'], lambda t: 0, coax_co_params[c_out_lower]['tc']],\n",
    "            therm_scheme=therm_scheme_output,\n",
    "            stage_temps=fridge_ours['temps'])\n",
    "\n",
    "p_out_upper = passive_load(stage_labels=fridge_ours['labels'], \n",
    "            diameters=coax_co_params[c_out_upper]['d'],\n",
    "            lengths=fridge_ours['lengths'],\n",
    "            therm_cond=[coax_co_params[c_out_upper]['tc'], lambda t: 0, coax_co_params[c_out_upper]['tc']],\n",
    "            therm_scheme=therm_scheme_output,\n",
    "            stage_temps=fridge_ours['temps'])\n",
    "\n",
    "p_out = p_out_upper[0:2].append(p_out_lower[2:])\n",
    "\n",
    "a_ac = active_load_AC(stage_labels=fridge_ours['labels'], \n",
    "        signal_p=1e-3*10**(-5/10), \n",
    "        signal_f=6, \n",
    "        att=[10, 10, 0, 20, 20],\n",
    "        cable_att=coax_co_params[c_drive]['att_4'],\n",
    "        lengths=fridge_ours['lengths'])\n",
    "\n",
    "a_dc = active_load_DC(i_in=20e-3, \n",
    "                stage_labels=fridge_ours['labels'], \n",
    "                att=[10, 10, 0, 0, 0], \n",
    "                cable_rho=coax_co_params[c_flux]['rho'], \n",
    "                lengths=fridge_ours['lengths'], \n",
    "                diameters=coax_co_params[c_flux]['d'])"
   ]
  },
  {
   "cell_type": "code",
   "execution_count": null,
   "metadata": {},
   "outputs": [],
   "source": [
    "c_p = np.array(fridge_ours['cool_p'])\n",
    "load_matrix_CuNi = pd.DataFrame(\n",
    "    [p_drive*14/c_p, p_flux*14/c_p, p_out*4/c_p, a_ac*14*0.33/c_p, a_dc*14*1/c_p], \n",
    "    index=['Passive (Drive)', 'Passive (Flux)', 'Passive (Output)', 'Active (Drive)', 'Active (Flux)']\n",
    ")\n",
    "load_matrix_CuNi"
   ]
  },
  {
   "cell_type": "markdown",
   "metadata": {},
   "source": [
    "### Plot"
   ]
  },
  {
   "cell_type": "code",
   "execution_count": null,
   "metadata": {},
   "outputs": [],
   "source": [
    "#one cable type on its own - change 'load_matrix' to the relevant cable load matrix\n",
    "colour = ['red', 'orange', 'yellowgreen', 'green', 'blue']\n",
    "\n",
    "##iterate stage\n",
    "for i in range(5):\n",
    "    bot = 0\n",
    "    #iterate load type\n",
    "    for ii in range(5):\n",
    "        val = load_matrix.iloc[ii, i]\n",
    "        plt.bar(2*i+1, load_matrix.iloc[ii, i], width=1, bottom=bot, color=colour[ii])\n",
    "        bot += val\n",
    "\n",
    "plt.title('Heat Loads on Each Stage')\n",
    "plt.xlabel('Stage')\n",
    "plt.ylabel(r'$P/P_{cooling}$')\n",
    "\n",
    "plt.xticks([1, 3, 5, 7, 9], fridge_ours['labels'])\n",
    "plt.legend(['Passive (Drive)', 'Passive (Flux)', 'Passive (Output)', 'Active (Drive)', 'Active (Flux)'])\n",
    "\n",
    "plt.savefig('full_setup_SS_drive.png', dpi=200)\n",
    "plt.show()"
   ]
  },
  {
   "cell_type": "code",
   "execution_count": null,
   "metadata": {},
   "outputs": [],
   "source": [
    "#comparison plot - run the data for both cable sets\n",
    "colour = ['red', 'orange', 'yellowgreen', 'green', 'blue']\n",
    "\n",
    "##iterate stage\n",
    "for i in range(5):\n",
    "    bot = 0\n",
    "    #iterate load type\n",
    "    for ii in range(5):\n",
    "        val = load_matrix_SS.iloc[ii, i]\n",
    "        plt.bar(3*i+1, val, width=1, bottom=bot, color=colour[ii])\n",
    "        bot += val\n",
    "\n",
    "    bot = 0\n",
    "    for ii in range(5):\n",
    "        val = load_matrix_CuNi.iloc[ii, i]\n",
    "        plt.bar(3*i+2, val, width=1, bottom=bot, color=colour[ii])\n",
    "        bot += val\n",
    "\n",
    "plt.title('Heat Loads on Each Stage')\n",
    "plt.xlabel('Stage')\n",
    "plt.ylabel(r'$P/P_{cooling}$')\n",
    "\n",
    "plt.xticks([1, 4, 7, 10, 13] + [2, 5, 8, 11, 14], \n",
    "           [l + '- SS' for l in fridge_ours['labels']] + [l + '- CuNi' for l in fridge_ours['labels']],\n",
    "           rotation=90)\n",
    "plt.legend(['Passive (Drive)', 'Passive (Flux)', 'Passive (Output)', 'Active (Drive)', 'Active (Flux)'])\n",
    "\n",
    "# plt.savefig('full_setup_SS_drive.png', dpi=200)\n",
    "plt.show()"
   ]
  },
  {
   "cell_type": "markdown",
   "metadata": {},
   "source": [
    "### CuNi for lower drive and lower flux"
   ]
  },
  {
   "cell_type": "markdown",
   "metadata": {},
   "source": [
    "#### CP-MXC"
   ]
  },
  {
   "cell_type": "code",
   "execution_count": null,
   "metadata": {},
   "outputs": [],
   "source": [
    "total_load_matrix_CP_MXC = pd.concat([load_matrix_SS[['50K', '4K', 'Still', 'CP']], load_matrix_CuNi[['MXC']]], \n",
    "                    axis=1)\n",
    "total_load_matrix_CP_MXC.iloc[1, 4] = 0.0401\n",
    "total_load_matrix_CP_MXC"
   ]
  },
  {
   "cell_type": "markdown",
   "metadata": {},
   "source": [
    "#### Still-MXC"
   ]
  },
  {
   "cell_type": "code",
   "execution_count": null,
   "metadata": {},
   "outputs": [],
   "source": [
    "#process load matrix SS and load matrix CuNi first\n",
    "total_load_matrix_Still_MXC = pd.concat([load_matrix_SS[['50K', '4K', 'Still']], load_matrix_CuNi[['CP', 'MXC']]], \n",
    "                    axis=1)\n",
    "total_load_matrix_Still_MXC.iloc[0, 3] = 0.01255\n",
    "total_load_matrix_Still_MXC.iloc[1, 4] = 0.0425\n",
    "total_load_matrix_Still_MXC"
   ]
  },
  {
   "cell_type": "code",
   "execution_count": null,
   "metadata": {},
   "outputs": [],
   "source": [
    "colour = ['red', 'orange', 'yellowgreen', 'green', 'blue']\n",
    "\n",
    "##iterate stage\n",
    "for i in range(5):\n",
    "    bot = 0\n",
    "    #iterate load type\n",
    "    for ii in range(5):\n",
    "        val = total_load_matrix.iloc[ii, i]\n",
    "        plt.bar(2*i+1, total_load_matrix.iloc[ii, i], width=1, bottom=bot, color=colour[ii])\n",
    "        bot += val\n",
    "\n",
    "plt.title('Heat Loads on Each Stage')\n",
    "plt.xlabel('Stage')\n",
    "plt.ylabel(r'$P/P_{cooling}$')\n",
    "\n",
    "plt.xticks([1, 3, 5, 7, 9], fridge_ours['labels'])\n",
    "plt.legend(['Passive (Drive)', 'Passive (Flux)', 'Passive (Output)', 'Active (Drive)', 'Active (Flux)'])\n",
    "\n",
    "plt.savefig('full_setup_SS_drive.png', dpi=200)\n",
    "plt.show()"
   ]
  },
  {
   "cell_type": "code",
   "execution_count": null,
   "metadata": {},
   "outputs": [],
   "source": [
    "#comparison plot - run the data for both cable sets\n",
    "colour = ['red', 'orange', 'yellowgreen', 'green', 'blue']\n",
    "\n",
    "##iterate stage\n",
    "for i in range(5):\n",
    "    bot = 0\n",
    "    #iterate load type\n",
    "    for ii in range(5):\n",
    "        val = total_load_matrix_CP_MXC.iloc[ii, i]\n",
    "        plt.bar(3*i+1, val, width=1, bottom=bot, color=colour[ii])\n",
    "        bot += val\n",
    "\n",
    "    bot = 0\n",
    "    for ii in range(5):\n",
    "        val = total_load_matrix_Still_MXC.iloc[ii, i]\n",
    "        plt.bar(3*i+2, val, width=1, bottom=bot, color=colour[ii])\n",
    "        bot += val\n",
    "\n",
    "plt.title('Heat Loads on Each Stage')\n",
    "plt.xlabel('Stage')\n",
    "plt.ylabel(r'$P/P_{cooling}$')\n",
    "\n",
    "plt.xticks([1, 4, 7, 10, 13] + [2, 5, 8, 11, 14], \n",
    "           [l + '- CP-MXC' for l in fridge_ours['labels']] + [l + '- Still-MXC' for l in fridge_ours['labels']],\n",
    "           rotation=90)\n",
    "plt.legend(['Passive (Drive)', 'Passive (Flux)', 'Passive (Output)', 'Active (Drive)', 'Active (Flux)'])\n",
    "\n",
    "# plt.savefig('full_setup_SS_drive.png', dpi=200)\n",
    "plt.show()"
   ]
  },
  {
   "cell_type": "code",
   "execution_count": null,
   "metadata": {},
   "outputs": [],
   "source": [
    "#comparison 2\n",
    "colour = ['red', 'orange', 'yellowgreen', 'green', 'blue']\n",
    "\n",
    "##iterate stage\n",
    "for i in range(5):\n",
    "    bot = 0\n",
    "    #iterate load type\n",
    "    for ii in range(5):\n",
    "        val = total_load_matrix_CP_MXC.iloc[ii, i]\n",
    "        plt.bar(4*i+1, val, width=1, bottom=bot, color=colour[ii])\n",
    "        bot += val\n",
    "\n",
    "    bot = 0\n",
    "    for ii in range(5):\n",
    "        val = total_load_matrix_Still_MXC.iloc[ii, i]\n",
    "        plt.bar(4*i+2, val, width=1, bottom=bot, color=colour[ii])\n",
    "        bot += val\n",
    "\n",
    "    bot = 0\n",
    "    for ii in range(5):\n",
    "        val = load_matrix_CuNi.iloc[ii, i]\n",
    "        plt.bar(4*i+3, val, width=1, bottom=bot, color=colour[ii])\n",
    "        bot += val\n",
    "\n",
    "\n",
    "plt.title('Heat Loads on Each Stage')\n",
    "plt.xlabel('Stage')\n",
    "plt.ylabel(r'$P/P_{cooling}$')\n",
    "\n",
    "plt.xticks([4*i+1 for i in range(5)] + [4*i+2 for i in range(5)] + [4*i+3 for i in range(5)], \n",
    "           [l + '- CP-MXC' for l in fridge_ours['labels']] \n",
    "           + [l + '- Still-MXC' for l in fridge_ours['labels']]\n",
    "           + [l + '- Full CuNi' for l in fridge_ours['labels']],\n",
    "           rotation=90)\n",
    "plt.legend(['Passive (Drive)', 'Passive (Flux)', 'Passive (Output)', 'Active (Drive)', 'Active (Flux)'])\n",
    "\n",
    "# plt.savefig('full_setup_SS_drive.png', dpi=200)\n",
    "plt.show()"
   ]
  },
  {
   "cell_type": "markdown",
   "metadata": {},
   "source": [
    "## Passive + Active Flux, All Stages, All Cables, One Plot"
   ]
  },
  {
   "cell_type": "code",
   "execution_count": null,
   "metadata": {},
   "outputs": [],
   "source": [
    "# Parameters\n",
    "\n",
    "therm_scheme "
   ]
  },
  {
   "cell_type": "markdown",
   "metadata": {},
   "source": [
    "## Testing"
   ]
  },
  {
   "cell_type": "code",
   "execution_count": null,
   "metadata": {},
   "outputs": [],
   "source": [
    "m_SS = coax_co_params['119-SS-SS']['tc'](1)\n",
    "m_CN = coax_co_params['119-CuNi-CuNi']['tc'](1)\n",
    "L_SS = fridge_ours['lengths'][2]\n",
    "L_CN = fridge_ours['lengths'][3]\n",
    "\n",
    "np.sqrt((4**2*m_SS/L_SS + 0.1**2*m_CN/L_CN)/(m_CN/L_CN + m_SS/L_SS))"
   ]
  },
  {
   "cell_type": "code",
   "execution_count": null,
   "metadata": {},
   "outputs": [],
   "source": [
    "np.sqrt((4**2*m_SS/L_SS + 0.1**2*m_SS/L_CN)/(m_SS/L_CN + m_SS/L_SS))"
   ]
  },
  {
   "cell_type": "code",
   "execution_count": null,
   "metadata": {},
   "outputs": [],
   "source": [
    "np.sqrt((4**2*m_CN/L_SS + 0.1**2*m_SS/L_CN)/(m_SS/L_CN + m_CN/L_SS))"
   ]
  },
  {
   "cell_type": "code",
   "execution_count": null,
   "metadata": {},
   "outputs": [],
   "source": [
    "mxc_flux_out = (\n",
    "    cs_areas['119'][2] / fridge_ours['lengths'][-1] *\n",
    "    coax_co_params['119-CuNi-CuNi']['tc'](1) / 2 *\n",
    "    (fridge_ours['temps'][3]**2 - fridge_ours['temps'][4]**2)\n",
    ")\n",
    "\n",
    "alpha_1 = (\n",
    "    (cs_areas['119'][0] + cs_areas['119'][1]) * coax_co_params['119-CuNi-CuNi']['tc'](1) / \n",
    "    (fridge_ours['lengths'][2] + fridge_ours['lengths'][3])\n",
    ")\n",
    "\n",
    "alpha_2 = (\n",
    "    (cs_areas['119'][0] + cs_areas['119'][1]) * coax_co_params['119-CuNi-CuNi']['tc'](1) / \n",
    "    fridge_ours['lengths'][4]\n",
    ")\n",
    "\n",
    "mxc_flux_in = (\n",
    "    alpha_1 * alpha_2 /\n",
    "    (2 * (alpha_1 + alpha_2)) *\n",
    "    (fridge_ours['temps'][1]**2 - fridge_ours['temps'][4]**2)\n",
    ")\n",
    "\n",
    "(mxc_flux_out + mxc_flux_in) * 14 / 20e-6"
   ]
  },
  {
   "cell_type": "code",
   "execution_count": null,
   "metadata": {},
   "outputs": [],
   "source": [
    "p_flux*14"
   ]
  },
  {
   "cell_type": "code",
   "execution_count": null,
   "metadata": {},
   "outputs": [],
   "source": [
    "outer =  (\n",
    "    cs_areas['119'][2] / fridge_ours['lengths'][1] *\n",
    "    coax_co_params['119-CuNi-CuNi']['tc'](1) / 2 *\n",
    "    (fridge_ours['temps'][0]**2 - fridge_ours['temps'][1]**2)\n",
    ")\n",
    "inner = (\n",
    "    (cs_areas['119'][0]+cs_areas['119'][1]) / fridge_ours['lengths'][1] *\n",
    "    coax_co_params['119-CuNi-CuNi']['tc'](1) / 2 *\n",
    "    (fridge_ours['temps'][0]**2 - fridge_ours['temps'][1]**2)\n",
    ")\n",
    "\n",
    "outer+inner"
   ]
  },
  {
   "cell_type": "code",
   "execution_count": null,
   "metadata": {},
   "outputs": [],
   "source": [
    "(outer+inner-p_flux[1])/p_flux[1]"
   ]
  },
  {
   "cell_type": "code",
   "execution_count": null,
   "metadata": {},
   "outputs": [],
   "source": [
    "A = (cs_areas['119'][2] + cs_areas['119'][1] + cs_areas['119'][0])\n",
    "L = fridge_ours['lengths'][1]\n",
    "m = coax_co_params['119-CuNi-CuNi']['tc'](4)\n",
    "\n",
    "(A-np.pi*(1.19/2/1000)**2)/A, L, m"
   ]
  },
  {
   "cell_type": "code",
   "execution_count": null,
   "metadata": {},
   "outputs": [],
   "source": [
    "therm_cond_coaxco['119-CuNi-CuNi'](4)"
   ]
  },
  {
   "cell_type": "code",
   "execution_count": null,
   "metadata": {},
   "outputs": [],
   "source": [
    "1.74e-5/100 / (np.pi*(1.19/2/1000)**2)"
   ]
  },
  {
   "cell_type": "code",
   "execution_count": null,
   "metadata": {},
   "outputs": [],
   "source": [
    "(np.pi*(1.19/2/1000)**2)"
   ]
  },
  {
   "cell_type": "code",
   "execution_count": null,
   "metadata": {},
   "outputs": [],
   "source": [
    "1.74e-5/100 / sum(cs_areas['119'])"
   ]
  },
  {
   "cell_type": "code",
   "execution_count": null,
   "metadata": {},
   "outputs": [],
   "source": [
    "p_flux"
   ]
  },
  {
   "cell_type": "code",
   "execution_count": null,
   "metadata": {},
   "outputs": [],
   "source": [
    "coax_co_params['119-SS-SS']['tc'](1) * (cs_areas['119'][0] + cs_areas['119'][2])"
   ]
  },
  {
   "cell_type": "code",
   "execution_count": null,
   "metadata": {},
   "outputs": [],
   "source": [
    "coax_co_params['119-CuNi-CuNi']['tc'](4) * cs_areas['119'][2]"
   ]
  },
  {
   "cell_type": "code",
   "execution_count": null,
   "metadata": {},
   "outputs": [],
   "source": [
    "coax_co_params['119-CuNi-CuNi']['tc'](1)"
   ]
  },
  {
   "cell_type": "code",
   "execution_count": null,
   "metadata": {},
   "outputs": [],
   "source": [
    "coax_co_params['119-SS-SS']['tc'](1)"
   ]
  },
  {
   "cell_type": "code",
   "execution_count": null,
   "metadata": {},
   "outputs": [],
   "source": [
    "cs_areas['119'][0], cs_areas['119'][2]"
   ]
  },
  {
   "cell_type": "code",
   "execution_count": null,
   "metadata": {},
   "outputs": [],
   "source": []
  }
 ],
 "metadata": {
  "interpreter": {
   "hash": "76d294211c072932f937aaab0a08c9e5f55deabab18997bf61f91489dc88ea29"
  },
  "kernelspec": {
   "display_name": "Python 3.7.7 64-bit ('base': conda)",
   "name": "python3"
  },
  "language_info": {
   "codemirror_mode": {
    "name": "ipython",
    "version": 3
   },
   "file_extension": ".py",
   "mimetype": "text/x-python",
   "name": "python",
   "nbconvert_exporter": "python",
   "pygments_lexer": "ipython3",
   "version": "3.7.7"
  },
  "orig_nbformat": 4
 },
 "nbformat": 4,
 "nbformat_minor": 2
}
