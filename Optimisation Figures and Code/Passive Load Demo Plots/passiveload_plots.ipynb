{
 "cells": [
  {
   "cell_type": "code",
   "execution_count": null,
   "metadata": {},
   "outputs": [],
   "source": [
    "from model_functions import *\n",
    "from param_functions import *\n",
    "import numpy as np\n",
    "import pandas as pd\n",
    "from IPython import display as ipd\n",
    "from matplotlib import pyplot as plt\n",
    "import matplotlib as mpl\n",
    "mpl.rcParams['figure.dpi'] = 100\n",
    "\n",
    "%matplotlib qt"
   ]
  },
  {
   "cell_type": "markdown",
   "metadata": {},
   "source": [
    "----------------------"
   ]
  },
  {
   "cell_type": "markdown",
   "metadata": {},
   "source": [
    "## Passive Load vs. Parameters (diameter, length, therm cond, temp diff)"
   ]
  },
  {
   "cell_type": "code",
   "execution_count": null,
   "metadata": {},
   "outputs": [],
   "source": [
    "dt = 0.005\n",
    "x = np.linspace(dt, 1+dt, 100)"
   ]
  },
  {
   "cell_type": "code",
   "execution_count": null,
   "metadata": {},
   "outputs": [],
   "source": [
    "#cable diameter\n",
    "d_vals = np.array([\n",
    "    passive_load(\n",
    "        stage_labels=[\"one stage\"],\n",
    "        diameters=[0, 0, di],\n",
    "        lengths=[1],\n",
    "        therm_cond=[lambda t: 1]*3,\n",
    "        therm_scheme=[[True]*5]*3,\n",
    "        stage_temps=[1]       \n",
    ")[0]\n",
    "for di in x\n",
    "])\n",
    "\n",
    "d_vals = d_vals/d_vals.max()"
   ]
  },
  {
   "cell_type": "code",
   "execution_count": null,
   "metadata": {},
   "outputs": [],
   "source": [
    "#cable length\n",
    "l_vals = np.array([\n",
    "    passive_load(\n",
    "        stage_labels=[\"one stage\"],\n",
    "        diameters=[0, 0, 1],\n",
    "        lengths=[li],\n",
    "        therm_cond=[lambda t: 1]*3,\n",
    "        therm_scheme=[[True]*5]*3,\n",
    "        stage_temps=[1]       \n",
    ")[0]\n",
    "for li in x\n",
    "])\n",
    "\n",
    "l_vals = l_vals/l_vals.max()"
   ]
  },
  {
   "cell_type": "code",
   "execution_count": null,
   "metadata": {},
   "outputs": [],
   "source": [
    "#cable thermcond\n",
    "s_vals = np.array([\n",
    "    passive_load(\n",
    "        stage_labels=[\"one stage\"],\n",
    "        diameters=[0, 0, 1],\n",
    "        lengths=[1],\n",
    "        therm_cond=[lambda t: si]*3,\n",
    "        therm_scheme=[[True]*5]*3,\n",
    "        stage_temps=[1]       \n",
    ")[0]\n",
    "for si in x\n",
    "])\n",
    "\n",
    "s_vals = s_vals/s_vals.max()"
   ]
  },
  {
   "cell_type": "code",
   "execution_count": null,
   "metadata": {},
   "outputs": [],
   "source": [
    "#temp_diff\n",
    "t_vals = np.array([\n",
    "    passive_load(\n",
    "        stage_labels=[\"one stage\"],\n",
    "        diameters=[0, 0, 1],\n",
    "        lengths=[1],\n",
    "        therm_cond=[lambda t: 1]*3,\n",
    "        therm_scheme=[[True]*5]*3,\n",
    "        stage_temps=[300-ti*100]       \n",
    ")[0]\n",
    "for ti in x\n",
    "])\n",
    "\n",
    "t_vals = t_vals/t_vals.max()"
   ]
  },
  {
   "cell_type": "code",
   "execution_count": null,
   "metadata": {},
   "outputs": [],
   "source": [
    "fig, axs = plt.subplots(1, 4, sharey=True, figsize=(12, 3))\n",
    "\n",
    "axs[0].plot(x, d_vals, c='r')\n",
    "axs[1].plot(x, l_vals, c='r')\n",
    "axs[2].plot(x, s_vals, c='r')\n",
    "axs[3].plot(x, t_vals, c='r')\n",
    "\n",
    "axs[0].set_ylabel('Heat Transfer (arb.)')\n",
    "\n",
    "axs[0].set_xlabel(r'Cable Diameter, $d$ (arb.)')\n",
    "axs[1].set_xlabel(r'Cable Length, $L$ (arb.)')\n",
    "axs[2].set_xlabel(r'Cable Thermal Conductivity, $\\sigma$ (arb.)')\n",
    "axs[3].set_xlabel(r'Temperature Difference, $\\Delta T$ (arb.)')\n",
    "\n",
    "letters = ['a', 'b', 'c', 'd']\n",
    "\n",
    "for ax, let in zip(axs, letters):\n",
    "    ax.set_xticks([0, 0.5, 1])\n",
    "    ax.annotate(let, (0.05, 0.95), fontweight='bold')\n",
    "\n",
    "plt.tight_layout()\n",
    "\n",
    "plt.savefig(\"passiveload_vs_params.png\")\n",
    "\n",
    "plt.show()"
   ]
  },
  {
   "cell_type": "code",
   "execution_count": null,
   "metadata": {},
   "outputs": [],
   "source": []
  }
 ],
 "metadata": {
  "interpreter": {
   "hash": "76d294211c072932f937aaab0a08c9e5f55deabab18997bf61f91489dc88ea29"
  },
  "kernelspec": {
   "display_name": "Python 3.7.7 64-bit ('base': conda)",
   "name": "python3"
  },
  "language_info": {
   "codemirror_mode": {
    "name": "ipython",
    "version": 3
   },
   "file_extension": ".py",
   "mimetype": "text/x-python",
   "name": "python",
   "nbconvert_exporter": "python",
   "pygments_lexer": "ipython3",
   "version": "3.7.7"
  },
  "orig_nbformat": 4
 },
 "nbformat": 4,
 "nbformat_minor": 2
}
