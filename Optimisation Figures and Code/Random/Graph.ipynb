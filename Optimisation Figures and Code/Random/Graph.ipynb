{
 "cells": [
  {
   "cell_type": "code",
   "execution_count": 1,
   "metadata": {},
   "outputs": [
    {
     "name": "stderr",
     "output_type": "stream",
     "text": [
      "\n",
      "Bad key \"text.kerning_factor\" on line 4 in\n",
      "C:\\Users\\Adrien\\anaconda3\\lib\\site-packages\\matplotlib\\mpl-data\\stylelib\\_classic_test_patch.mplstyle.\n",
      "You probably need to get an updated matplotlibrc file from\n",
      "https://github.com/matplotlib/matplotlib/blob/v3.1.3/matplotlibrc.template\n",
      "or from the matplotlib source distribution\n"
     ]
    }
   ],
   "source": [
    "from model_functions import *\n",
    "from param_functions import *\n",
    "import numpy as np\n",
    "import pandas as pd\n",
    "from IPython import display as ipd\n",
    "from matplotlib import pyplot as plt\n",
    "import matplotlib as mpl\n",
    "from matplotlib.colors import LogNorm\n",
    "import string\n",
    "mpl.rcParams['figure.dpi'] = 400\n",
    "\n",
    "%matplotlib qt\n"
   ]
  },
  {
   "cell_type": "code",
   "execution_count": 11,
   "metadata": {},
   "outputs": [],
   "source": [
    "d = pd.read_csv('Lesson titration data.csv')\n",
    "\n",
    "fig, axs = plt.subplots(figsize=(6, 4))\n",
    "axs.plot(d['x'], d['y'])\n",
    "axs.set_xticks([i for i in range(16)], minor=False)\n",
    "# axs.set_xticks([i*5 for i in range(4)], minor=False)\n",
    "axs.set_ylim(0, 14)\n",
    "axs.set_yticks([i for i in range(15)])\n",
    "axs.grid(True, 'major', 'both', alpha=0.5)\n",
    "axs.set_xlabel('Added NaOH (mL)')\n",
    "axs.set_ylabel('pH')\n",
    "\n",
    "plt.savefig('Pic.png')\n",
    "\n",
    "plt.show()"
   ]
  },
  {
   "cell_type": "code",
   "execution_count": 7,
   "metadata": {},
   "outputs": [],
   "source": [
    "d = pd.read_csv('Phosphoric.csv')\n",
    "\n",
    "fig, axs = plt.subplots(figsize=(4, 4))\n",
    "axs.plot(d['x'], d['y'])\n",
    "# axs.set_xticks([i for i in range(16)], minor=False)\n",
    "axs.set_xticks([i for i in range(0, 36, 5)], minor=False)\n",
    "axs.set_ylim(0, 14)\n",
    "axs.set_yticks([i for i in range(15)])\n",
    "axs.grid(True, 'major', 'both', alpha=0.5)\n",
    "axs.set_xlabel('Added NaOH (mL)')\n",
    "axs.set_ylabel('pH')\n",
    "\n",
    "plt.savefig('Phosphoric.png')\n",
    "\n",
    "plt.show()"
   ]
  },
  {
   "cell_type": "code",
   "execution_count": null,
   "metadata": {},
   "outputs": [],
   "source": [
    "d = pd.read_csv('Nitric.csv')\n",
    "\n",
    "fig, axs = plt.subplots(figsize=(4, 4))\n",
    "axs.plot(d['x'], d['y'])\n",
    "# axs.set_xticks([i for i in range(16)], minor=False)\n",
    "axs.set_xticks([i for i in range(0, 36, 5)], minor=False)\n",
    "axs.set_ylim(0, 14)\n",
    "axs.set_yticks([i for i in range(15)])\n",
    "axs.grid(True, 'major', 'both', alpha=0.5)\n",
    "axs.set_xlabel('Added NaOH (mL)')\n",
    "axs.set_ylabel('pH')\n",
    "\n",
    "plt.savefig('Nitric.png')\n",
    "\n",
    "plt.show()"
   ]
  }
 ],
 "metadata": {
  "interpreter": {
   "hash": "76d294211c072932f937aaab0a08c9e5f55deabab18997bf61f91489dc88ea29"
  },
  "kernelspec": {
   "display_name": "Python 3.7.7 64-bit ('base': conda)",
   "language": "python",
   "name": "python3"
  },
  "language_info": {
   "codemirror_mode": {
    "name": "ipython",
    "version": 3
   },
   "file_extension": ".py",
   "mimetype": "text/x-python",
   "name": "python",
   "nbconvert_exporter": "python",
   "pygments_lexer": "ipython3",
   "version": "3.7.7"
  },
  "orig_nbformat": 4
 },
 "nbformat": 4,
 "nbformat_minor": 2
}
