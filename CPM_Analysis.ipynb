{
 "cells": [
  {
   "cell_type": "code",
   "execution_count": 1,
   "metadata": {},
   "outputs": [],
   "source": [
    "import numpy as np\n",
    "import pandas as pd\n",
    "from matplotlib import pyplot as plt\n",
    "import matplotlib as mpl\n",
    "from scipy.optimize import least_squares"
   ]
  },
  {
   "cell_type": "code",
   "execution_count": 2,
   "metadata": {},
   "outputs": [
    {
     "data": {
      "text/html": [
       "<div>\n",
       "<style scoped>\n",
       "    .dataframe tbody tr th:only-of-type {\n",
       "        vertical-align: middle;\n",
       "    }\n",
       "\n",
       "    .dataframe tbody tr th {\n",
       "        vertical-align: top;\n",
       "    }\n",
       "\n",
       "    .dataframe thead th {\n",
       "        text-align: right;\n",
       "    }\n",
       "</style>\n",
       "<table border=\"1\" class=\"dataframe\">\n",
       "  <thead>\n",
       "    <tr style=\"text-align: right;\">\n",
       "      <th></th>\n",
       "      <th>Time</th>\n",
       "      <th>P_50K</th>\n",
       "      <th>P_4K</th>\n",
       "      <th>P_Still</th>\n",
       "      <th>P_CP</th>\n",
       "      <th>P_MXC</th>\n",
       "      <th>T_50K</th>\n",
       "      <th>T_4K</th>\n",
       "      <th>T_Still</th>\n",
       "      <th>T_CP</th>\n",
       "      <th>T_MXC</th>\n",
       "      <th>P2</th>\n",
       "      <th>P3</th>\n",
       "      <th>P4</th>\n",
       "      <th>P5</th>\n",
       "      <th>Flow</th>\n",
       "      <th>Comment</th>\n",
       "    </tr>\n",
       "  </thead>\n",
       "  <tbody>\n",
       "    <tr>\n",
       "      <th>0</th>\n",
       "      <td>2022-02-08 12:40:00</td>\n",
       "      <td>0</td>\n",
       "      <td>0</td>\n",
       "      <td>30</td>\n",
       "      <td>400</td>\n",
       "      <td>10</td>\n",
       "      <td>43.7105</td>\n",
       "      <td>3.26253</td>\n",
       "      <td>1.22060</td>\n",
       "      <td>0.147167</td>\n",
       "      <td>0.014964</td>\n",
       "      <td>0.0428</td>\n",
       "      <td>715.0</td>\n",
       "      <td>837.0</td>\n",
       "      <td>7.92</td>\n",
       "      <td>0.902051</td>\n",
       "      <td>NaN</td>\n",
       "    </tr>\n",
       "    <tr>\n",
       "      <th>1</th>\n",
       "      <td>2022-02-08 12:53:00</td>\n",
       "      <td>0</td>\n",
       "      <td>0</td>\n",
       "      <td>30</td>\n",
       "      <td>300</td>\n",
       "      <td>10</td>\n",
       "      <td>43.4956</td>\n",
       "      <td>3.25518</td>\n",
       "      <td>1.22036</td>\n",
       "      <td>0.134138</td>\n",
       "      <td>0.014862</td>\n",
       "      <td>0.0427</td>\n",
       "      <td>716.0</td>\n",
       "      <td>834.0</td>\n",
       "      <td>7.91</td>\n",
       "      <td>0.895464</td>\n",
       "      <td>NaN</td>\n",
       "    </tr>\n",
       "    <tr>\n",
       "      <th>2</th>\n",
       "      <td>2022-02-08 13:05:00</td>\n",
       "      <td>0</td>\n",
       "      <td>0</td>\n",
       "      <td>30</td>\n",
       "      <td>260</td>\n",
       "      <td>10</td>\n",
       "      <td>43.3244</td>\n",
       "      <td>3.25110</td>\n",
       "      <td>1.22072</td>\n",
       "      <td>0.128596</td>\n",
       "      <td>0.014822</td>\n",
       "      <td>0.0425</td>\n",
       "      <td>716.0</td>\n",
       "      <td>833.0</td>\n",
       "      <td>7.92</td>\n",
       "      <td>0.935441</td>\n",
       "      <td>NaN</td>\n",
       "    </tr>\n",
       "    <tr>\n",
       "      <th>3</th>\n",
       "      <td>2022-02-08 13:17:00</td>\n",
       "      <td>0</td>\n",
       "      <td>0</td>\n",
       "      <td>30</td>\n",
       "      <td>220</td>\n",
       "      <td>10</td>\n",
       "      <td>43.2221</td>\n",
       "      <td>3.24478</td>\n",
       "      <td>1.21983</td>\n",
       "      <td>0.122559</td>\n",
       "      <td>0.014789</td>\n",
       "      <td>0.0425</td>\n",
       "      <td>705.0</td>\n",
       "      <td>830.0</td>\n",
       "      <td>7.91</td>\n",
       "      <td>0.981655</td>\n",
       "      <td>NaN</td>\n",
       "    </tr>\n",
       "    <tr>\n",
       "      <th>4</th>\n",
       "      <td>2022-02-08 13:29:00</td>\n",
       "      <td>0</td>\n",
       "      <td>0</td>\n",
       "      <td>30</td>\n",
       "      <td>180</td>\n",
       "      <td>10</td>\n",
       "      <td>43.1335</td>\n",
       "      <td>3.24066</td>\n",
       "      <td>1.22073</td>\n",
       "      <td>0.116456</td>\n",
       "      <td>0.014740</td>\n",
       "      <td>0.0423</td>\n",
       "      <td>699.0</td>\n",
       "      <td>828.0</td>\n",
       "      <td>7.92</td>\n",
       "      <td>1.008853</td>\n",
       "      <td>NaN</td>\n",
       "    </tr>\n",
       "  </tbody>\n",
       "</table>\n",
       "</div>"
      ],
      "text/plain": [
       "                 Time  P_50K  P_4K  P_Still  P_CP  P_MXC    T_50K     T_4K  \\\n",
       "0 2022-02-08 12:40:00      0     0       30   400     10  43.7105  3.26253   \n",
       "1 2022-02-08 12:53:00      0     0       30   300     10  43.4956  3.25518   \n",
       "2 2022-02-08 13:05:00      0     0       30   260     10  43.3244  3.25110   \n",
       "3 2022-02-08 13:17:00      0     0       30   220     10  43.2221  3.24478   \n",
       "4 2022-02-08 13:29:00      0     0       30   180     10  43.1335  3.24066   \n",
       "\n",
       "   T_Still      T_CP     T_MXC      P2     P3     P4    P5      Flow  Comment  \n",
       "0  1.22060  0.147167  0.014964  0.0428  715.0  837.0  7.92  0.902051      NaN  \n",
       "1  1.22036  0.134138  0.014862  0.0427  716.0  834.0  7.91  0.895464      NaN  \n",
       "2  1.22072  0.128596  0.014822  0.0425  716.0  833.0  7.92  0.935441      NaN  \n",
       "3  1.21983  0.122559  0.014789  0.0425  705.0  830.0  7.91  0.981655      NaN  \n",
       "4  1.22073  0.116456  0.014740  0.0423  699.0  828.0  7.92  1.008853      NaN  "
      ]
     },
     "execution_count": 2,
     "metadata": {},
     "output_type": "execute_result"
    }
   ],
   "source": [
    "cpm_path = \"CPM_data_after_RC3.csv\"\n",
    "\n",
    "cpm_df = pd.read_csv(\n",
    "    cpm_path,\n",
    "    header=0,\n",
    "    parse_dates=[0]\n",
    ")\n",
    "\n",
    "cpm_df[\"T_MXC\"] = cpm_df[\"T_MXC\"].replace(0, np.nan)\n",
    "\n",
    "cpm_df.head(5)"
   ]
  },
  {
   "cell_type": "code",
   "execution_count": 17,
   "metadata": {},
   "outputs": [
    {
     "data": {
      "text/html": [
       "<div>\n",
       "<style scoped>\n",
       "    .dataframe tbody tr th:only-of-type {\n",
       "        vertical-align: middle;\n",
       "    }\n",
       "\n",
       "    .dataframe tbody tr th {\n",
       "        vertical-align: top;\n",
       "    }\n",
       "\n",
       "    .dataframe thead th {\n",
       "        text-align: right;\n",
       "    }\n",
       "</style>\n",
       "<table border=\"1\" class=\"dataframe\">\n",
       "  <thead>\n",
       "    <tr style=\"text-align: right;\">\n",
       "      <th></th>\n",
       "      <th>Time</th>\n",
       "      <th>P_50K</th>\n",
       "      <th>P_4K</th>\n",
       "      <th>P_Still</th>\n",
       "      <th>P_CP</th>\n",
       "      <th>P_MXC</th>\n",
       "      <th>T_50K</th>\n",
       "      <th>T_4K</th>\n",
       "      <th>T_Still</th>\n",
       "      <th>T_CP</th>\n",
       "      <th>T_MXC</th>\n",
       "      <th>P2</th>\n",
       "      <th>P3</th>\n",
       "      <th>P4</th>\n",
       "      <th>P5</th>\n",
       "      <th>Flow</th>\n",
       "      <th>Comment</th>\n",
       "    </tr>\n",
       "  </thead>\n",
       "  <tbody>\n",
       "    <tr>\n",
       "      <th>9</th>\n",
       "      <td>2022-07-28 19:22:00</td>\n",
       "      <td>0</td>\n",
       "      <td>0</td>\n",
       "      <td>30</td>\n",
       "      <td>0</td>\n",
       "      <td>30</td>\n",
       "      <td>42.0982</td>\n",
       "      <td>3.21025</td>\n",
       "      <td>1.22078</td>\n",
       "      <td>0.082387</td>\n",
       "      <td>0.023387</td>\n",
       "      <td>0.0416</td>\n",
       "      <td>691</td>\n",
       "      <td>812</td>\n",
       "      <td>6.20</td>\n",
       "      <td>0.892505</td>\n",
       "      <td>NaN</td>\n",
       "    </tr>\n",
       "    <tr>\n",
       "      <th>16</th>\n",
       "      <td>2022-07-28 21:31:00</td>\n",
       "      <td>0</td>\n",
       "      <td>0</td>\n",
       "      <td>30</td>\n",
       "      <td>0</td>\n",
       "      <td>30</td>\n",
       "      <td>42.2496</td>\n",
       "      <td>3.23983</td>\n",
       "      <td>1.22325</td>\n",
       "      <td>0.082766</td>\n",
       "      <td>0.023378</td>\n",
       "      <td>0.0425</td>\n",
       "      <td>704</td>\n",
       "      <td>820</td>\n",
       "      <td>6.13</td>\n",
       "      <td>0.978134</td>\n",
       "      <td>NaN</td>\n",
       "    </tr>\n",
       "    <tr>\n",
       "      <th>35</th>\n",
       "      <td>2022-07-29 02:11:00</td>\n",
       "      <td>0</td>\n",
       "      <td>0</td>\n",
       "      <td>30</td>\n",
       "      <td>0</td>\n",
       "      <td>30</td>\n",
       "      <td>41.7456</td>\n",
       "      <td>3.20164</td>\n",
       "      <td>1.21950</td>\n",
       "      <td>0.082216</td>\n",
       "      <td>0.023359</td>\n",
       "      <td>0.0411</td>\n",
       "      <td>682</td>\n",
       "      <td>806</td>\n",
       "      <td>6.18</td>\n",
       "      <td>0.961637</td>\n",
       "      <td>NaN</td>\n",
       "    </tr>\n",
       "    <tr>\n",
       "      <th>42</th>\n",
       "      <td>2022-07-29 04:25:00</td>\n",
       "      <td>0</td>\n",
       "      <td>0</td>\n",
       "      <td>30</td>\n",
       "      <td>0</td>\n",
       "      <td>20</td>\n",
       "      <td>42.1104</td>\n",
       "      <td>3.23494</td>\n",
       "      <td>1.22292</td>\n",
       "      <td>0.081834</td>\n",
       "      <td>0.019551</td>\n",
       "      <td>0.0423</td>\n",
       "      <td>709</td>\n",
       "      <td>810</td>\n",
       "      <td>6.22</td>\n",
       "      <td>0.928930</td>\n",
       "      <td>NaN</td>\n",
       "    </tr>\n",
       "    <tr>\n",
       "      <th>61</th>\n",
       "      <td>2022-07-29 09:12:00</td>\n",
       "      <td>0</td>\n",
       "      <td>0</td>\n",
       "      <td>30</td>\n",
       "      <td>0</td>\n",
       "      <td>20</td>\n",
       "      <td>41.7695</td>\n",
       "      <td>3.19539</td>\n",
       "      <td>1.21887</td>\n",
       "      <td>0.081411</td>\n",
       "      <td>0.019530</td>\n",
       "      <td>0.0411</td>\n",
       "      <td>679</td>\n",
       "      <td>796</td>\n",
       "      <td>6.29</td>\n",
       "      <td>0.977679</td>\n",
       "      <td>NaN</td>\n",
       "    </tr>\n",
       "    <tr>\n",
       "      <th>...</th>\n",
       "      <td>...</td>\n",
       "      <td>...</td>\n",
       "      <td>...</td>\n",
       "      <td>...</td>\n",
       "      <td>...</td>\n",
       "      <td>...</td>\n",
       "      <td>...</td>\n",
       "      <td>...</td>\n",
       "      <td>...</td>\n",
       "      <td>...</td>\n",
       "      <td>...</td>\n",
       "      <td>...</td>\n",
       "      <td>...</td>\n",
       "      <td>...</td>\n",
       "      <td>...</td>\n",
       "      <td>...</td>\n",
       "      <td>...</td>\n",
       "    </tr>\n",
       "    <tr>\n",
       "      <th>856</th>\n",
       "      <td>2022-07-15 23:01:00</td>\n",
       "      <td>0</td>\n",
       "      <td>0</td>\n",
       "      <td>30</td>\n",
       "      <td>0</td>\n",
       "      <td>30</td>\n",
       "      <td>41.3573</td>\n",
       "      <td>3.22548</td>\n",
       "      <td>1.22385</td>\n",
       "      <td>0.082476</td>\n",
       "      <td>0.023338</td>\n",
       "      <td>0.0419</td>\n",
       "      <td>694</td>\n",
       "      <td>801</td>\n",
       "      <td>3.50</td>\n",
       "      <td>0.882609</td>\n",
       "      <td>NaN</td>\n",
       "    </tr>\n",
       "    <tr>\n",
       "      <th>857</th>\n",
       "      <td>2022-07-15 23:14:00</td>\n",
       "      <td>0</td>\n",
       "      <td>0</td>\n",
       "      <td>30</td>\n",
       "      <td>0</td>\n",
       "      <td>30</td>\n",
       "      <td>41.3686</td>\n",
       "      <td>3.22826</td>\n",
       "      <td>1.22353</td>\n",
       "      <td>0.082557</td>\n",
       "      <td>0.023315</td>\n",
       "      <td>0.0419</td>\n",
       "      <td>696</td>\n",
       "      <td>800</td>\n",
       "      <td>3.51</td>\n",
       "      <td>0.906103</td>\n",
       "      <td>NaN</td>\n",
       "    </tr>\n",
       "    <tr>\n",
       "      <th>858</th>\n",
       "      <td>2022-07-15 23:26:00</td>\n",
       "      <td>0</td>\n",
       "      <td>0</td>\n",
       "      <td>30</td>\n",
       "      <td>0</td>\n",
       "      <td>30</td>\n",
       "      <td>41.3721</td>\n",
       "      <td>3.22554</td>\n",
       "      <td>1.22401</td>\n",
       "      <td>0.082503</td>\n",
       "      <td>0.023338</td>\n",
       "      <td>0.0420</td>\n",
       "      <td>699</td>\n",
       "      <td>799</td>\n",
       "      <td>3.51</td>\n",
       "      <td>0.961288</td>\n",
       "      <td>NaN</td>\n",
       "    </tr>\n",
       "    <tr>\n",
       "      <th>859</th>\n",
       "      <td>2022-07-15 23:38:00</td>\n",
       "      <td>0</td>\n",
       "      <td>0</td>\n",
       "      <td>30</td>\n",
       "      <td>0</td>\n",
       "      <td>30</td>\n",
       "      <td>41.3720</td>\n",
       "      <td>3.22636</td>\n",
       "      <td>1.22366</td>\n",
       "      <td>0.082464</td>\n",
       "      <td>0.023336</td>\n",
       "      <td>0.0419</td>\n",
       "      <td>705</td>\n",
       "      <td>798</td>\n",
       "      <td>3.51</td>\n",
       "      <td>0.998730</td>\n",
       "      <td>NaN</td>\n",
       "    </tr>\n",
       "    <tr>\n",
       "      <th>860</th>\n",
       "      <td>2022-07-15 23:50:00</td>\n",
       "      <td>0</td>\n",
       "      <td>0</td>\n",
       "      <td>30</td>\n",
       "      <td>0</td>\n",
       "      <td>30</td>\n",
       "      <td>41.4080</td>\n",
       "      <td>3.22171</td>\n",
       "      <td>1.22395</td>\n",
       "      <td>0.082461</td>\n",
       "      <td>0.023344</td>\n",
       "      <td>0.0420</td>\n",
       "      <td>706</td>\n",
       "      <td>798</td>\n",
       "      <td>3.52</td>\n",
       "      <td>0.993387</td>\n",
       "      <td>NaN</td>\n",
       "    </tr>\n",
       "  </tbody>\n",
       "</table>\n",
       "<p>197 rows × 17 columns</p>\n",
       "</div>"
      ],
      "text/plain": [
       "                   Time  P_50K  P_4K  P_Still  P_CP  P_MXC    T_50K     T_4K  \\\n",
       "9   2022-07-28 19:22:00      0     0       30     0     30  42.0982  3.21025   \n",
       "16  2022-07-28 21:31:00      0     0       30     0     30  42.2496  3.23983   \n",
       "35  2022-07-29 02:11:00      0     0       30     0     30  41.7456  3.20164   \n",
       "42  2022-07-29 04:25:00      0     0       30     0     20  42.1104  3.23494   \n",
       "61  2022-07-29 09:12:00      0     0       30     0     20  41.7695  3.19539   \n",
       "..                  ...    ...   ...      ...   ...    ...      ...      ...   \n",
       "856 2022-07-15 23:01:00      0     0       30     0     30  41.3573  3.22548   \n",
       "857 2022-07-15 23:14:00      0     0       30     0     30  41.3686  3.22826   \n",
       "858 2022-07-15 23:26:00      0     0       30     0     30  41.3721  3.22554   \n",
       "859 2022-07-15 23:38:00      0     0       30     0     30  41.3720  3.22636   \n",
       "860 2022-07-15 23:50:00      0     0       30     0     30  41.4080  3.22171   \n",
       "\n",
       "     T_Still      T_CP     T_MXC      P2   P3   P4    P5      Flow  Comment  \n",
       "9    1.22078  0.082387  0.023387  0.0416  691  812  6.20  0.892505      NaN  \n",
       "16   1.22325  0.082766  0.023378  0.0425  704  820  6.13  0.978134      NaN  \n",
       "35   1.21950  0.082216  0.023359  0.0411  682  806  6.18  0.961637      NaN  \n",
       "42   1.22292  0.081834  0.019551  0.0423  709  810  6.22  0.928930      NaN  \n",
       "61   1.21887  0.081411  0.019530  0.0411  679  796  6.29  0.977679      NaN  \n",
       "..       ...       ...       ...     ...  ...  ...   ...       ...      ...  \n",
       "856  1.22385  0.082476  0.023338  0.0419  694  801  3.50  0.882609      NaN  \n",
       "857  1.22353  0.082557  0.023315  0.0419  696  800  3.51  0.906103      NaN  \n",
       "858  1.22401  0.082503  0.023338  0.0420  699  799  3.51  0.961288      NaN  \n",
       "859  1.22366  0.082464  0.023336  0.0419  705  798  3.51  0.998730      NaN  \n",
       "860  1.22395  0.082461  0.023344  0.0420  706  798  3.52  0.993387      NaN  \n",
       "\n",
       "[197 rows x 17 columns]"
      ]
     },
     "execution_count": 17,
     "metadata": {},
     "output_type": "execute_result"
    }
   ],
   "source": [
    "temp_df = cpm_df.query(\n",
    "    \"P_50K == 0 &\" +\n",
    "    \"P_4K == 0 &\" +\n",
    "    \"P_Still == 30 &\" +\n",
    "    # \"P_MXC == 30 &\" +\n",
    "    \"P_CP == 0\"\n",
    ")\n",
    "temp_df"
   ]
  },
  {
   "cell_type": "markdown",
   "metadata": {},
   "source": [
    "## Simple Plots"
   ]
  },
  {
   "cell_type": "code",
   "execution_count": 4,
   "metadata": {},
   "outputs": [
    {
     "data": {
      "image/png": "[encoded data removed]",
      "text/plain": [
       "<Figure size 360x360 with 1 Axes>"
      ]
     },
     "metadata": {
      "needs_background": "light"
     },
     "output_type": "display_data"
    }
   ],
   "source": [
    "temp_df = cpm_df.query(\n",
    "    \"P_50K == 0 &\" +\n",
    "    \"P_4K == 0 &\" +\n",
    "    \"P_Still == 30 &\" +\n",
    "    \"P_CP == 100\"\n",
    ")\n",
    "\n",
    "x = temp_df[\"P_MXC\"]\n",
    "y = temp_df[\"T_MXC\"]\n",
    "\n",
    "fig, axs = plt.subplots(figsize=(5, 5))\n",
    "\n",
    "axs.scatter(x, y)\n",
    "axs.set_xlabel(r\"$P_{MXC}$ ($\\mu$W)\")\n",
    "axs.set_ylabel(r\"$T_{MXC}$ (K)\")\n",
    "\n",
    "plt.show()"
   ]
  },
  {
   "cell_type": "code",
   "execution_count": 5,
   "metadata": {},
   "outputs": [
    {
     "data": {
      "image/png": "[encoded data removed]",
      "text/plain": [
       "<Figure size 360x360 with 1 Axes>"
      ]
     },
     "metadata": {
      "needs_background": "light"
     },
     "output_type": "display_data"
    }
   ],
   "source": [
    "temp_df = cpm_df.query(\n",
    "    \"P_50K == 0 &\" +\n",
    "    \"P_Still == 30 &\" +\n",
    "    \"P_MXC == 30 &\" +\n",
    "    \"P_CP == 300\"\n",
    ")\n",
    "\n",
    "x = temp_df[\"P_4K\"]\n",
    "y = temp_df[\"T_MXC\"]\n",
    "\n",
    "fig, axs = plt.subplots(figsize=(5, 5))\n",
    "\n",
    "axs.scatter(x, y)\n",
    "axs.set_xlabel(r\"$P_{4K}$ ($\\mu$W)\")\n",
    "axs.set_ylabel(r\"$T_{MXC}$ (K)\")\n",
    "\n",
    "plt.show()"
   ]
  },
  {
   "cell_type": "code",
   "execution_count": 18,
   "metadata": {},
   "outputs": [
    {
     "name": "stderr",
     "output_type": "stream",
     "text": [
      "<ipython-input-18-e359982ed9eb>:16: SettingWithCopyWarning: \n",
      "A value is trying to be set on a copy of a slice from a DataFrame\n",
      "\n",
      "See the caveats in the documentation: https://pandas.pydata.org/pandas-docs/stable/user_guide/indexing.html#returning-a-view-versus-a-copy\n",
      "  y[y==0] = np.nan\n"
     ]
    },
    {
     "data": {
      "image/png": "[encoded data removed]",
      "text/plain": [
       "<Figure size 720x720 with 1 Axes>"
      ]
     },
     "metadata": {
      "needs_background": "light"
     },
     "output_type": "display_data"
    }
   ],
   "source": [
    "p_cp = [0, 100, 300]\n",
    "\n",
    "fig, axs = plt.subplots(figsize=(10, 10))\n",
    "\n",
    "for p in p_cp:\n",
    "    temp_df = cpm_df.query(\n",
    "        \"P_50K == 0 &\" +\n",
    "        \"P_4K == 0 &\" +\n",
    "        \"P_Still == 30 &\" +\n",
    "        f\"P_CP == {p}\"\n",
    "    )\n",
    "    \n",
    "    x = temp_df[\"P_MXC\"]\n",
    "    y = temp_df[\"T_MXC\"]\n",
    "\n",
    "    y[y==0] = np.nan\n",
    "\n",
    "    axs.scatter(x, y, s=0.5)\n",
    "\n",
    "axs.legend([r\"$P_{CP} = 0\\mu$W\", r\"$P_{CP} = 100\\mu$W\", r\"$P_{CP} = 300\\mu$W\"])\n",
    "axs.set_xlabel(r\"$P_{MXC}$ ($\\mu$W)\")\n",
    "axs.set_ylabel(r\"$T_{MXC}$ (K)\")\n",
    "\n",
    "plt.show()"
   ]
  },
  {
   "cell_type": "code",
   "execution_count": 6,
   "metadata": {},
   "outputs": [
    {
     "data": {
      "image/png": "[encoded data removed]",
      "text/plain": [
       "<Figure size 504x504 with 1 Axes>"
      ]
     },
     "metadata": {
      "needs_background": "light"
     },
     "output_type": "display_data"
    }
   ],
   "source": [
    "p_mxc = [10, 20, 30]\n",
    "\n",
    "fig, axs = plt.subplots(figsize=(7, 7))\n",
    "\n",
    "for p in p_mxc:\n",
    "    temp_df = cpm_df.query(\n",
    "        \"P_50K == 0 &\" +\n",
    "        \"P_4K == 0 &\" +\n",
    "        \"P_CP == 100 &\" +\n",
    "        f\"P_MXC == {p}\"\n",
    "    )\n",
    "    \n",
    "    x = temp_df[\"P_Still\"]\n",
    "    y = temp_df[\"T_MXC\"]\n",
    "\n",
    "    # y[y==0] = np.nan\n",
    "\n",
    "    axs.scatter(x, y)\n",
    "\n",
    "axs.legend([r\"$P_{MXC} = 10\\mu$W\", r\"$P_{MXC} = 20\\mu$W\", r\"$P_{MXC} = 30\\mu$W\"])\n",
    "axs.set_xlabel(r\"$P_{Still}$ ($\\mu$W)\")\n",
    "axs.set_ylabel(r\"$T_{MXC}$ (K)\")\n",
    "\n",
    "plt.show()"
   ]
  },
  {
   "cell_type": "code",
   "execution_count": 4,
   "metadata": {},
   "outputs": [
    {
     "data": {
      "text/plain": [
       "300"
      ]
     },
     "execution_count": 4,
     "metadata": {},
     "output_type": "execute_result"
    }
   ],
   "source": [
    "cpm_df[\"P_4K\"].max()"
   ]
  },
  {
   "cell_type": "code",
   "execution_count": 58,
   "metadata": {},
   "outputs": [
    {
     "data": {
      "text/plain": [
       "0.0"
      ]
     },
     "execution_count": 58,
     "metadata": {},
     "output_type": "execute_result"
    }
   ],
   "source": [
    "y[0].iloc[0]"
   ]
  },
  {
   "cell_type": "code",
   "execution_count": 63,
   "metadata": {},
   "outputs": [
    {
     "data": {
      "text/plain": [
       "522"
      ]
     },
     "execution_count": 63,
     "metadata": {},
     "output_type": "execute_result"
    }
   ],
   "source": [
    "x.idxmin()"
   ]
  },
  {
   "cell_type": "code",
   "execution_count": 5,
   "metadata": {},
   "outputs": [],
   "source": [
    "viridis = mpl.colormaps['viridis']"
   ]
  },
  {
   "cell_type": "code",
   "execution_count": 25,
   "metadata": {},
   "outputs": [
    {
     "name": "stdout",
     "output_type": "stream",
     "text": [
      "(3.09883, 1.0309)\n",
      "(3.11229, 1.06178)\n",
      "(3.13019, 1.0885)\n",
      "(3.15455, 1.09117)\n",
      "(3.13592, 1.06368)\n",
      "(3.11695, 1.03309)\n",
      "(3.09405, 1.03111)\n",
      "(3.11137, 1.06154)\n",
      "(3.12802, 1.08886)\n",
      "(3.16274, 1.09029)\n",
      "(3.14612, 1.06399)\n",
      "(3.12796, 1.03314)\n",
      "(3.09465, 1.03023)\n",
      "(3.11111, 1.06141)\n",
      "(3.12956, 1.0887)\n",
      "(3.16151, 1.091)\n",
      "(3.14243, 1.06439)\n",
      "(3.12317, 1.03339)\n",
      "(3.18821, 1.00665)\n",
      "(3.20894, 1.04056)\n",
      "(3.22854, 1.07159)\n",
      "(3.24708, 1.09721)\n",
      "(3.35123, 1.07993)\n",
      "(3.3386, 1.05029)\n",
      "(3.32075, 1.01861)\n",
      "(3.36761, 1.02106)\n",
      "(3.39579, 1.05524)\n",
      "(3.41305, 1.08315)\n",
      "(3.52779, 1.09192)\n",
      "(3.51567, 1.06336)\n",
      "(3.48484, 1.02902)\n"
     ]
    }
   ],
   "source": [
    "for xi, yi in zip(x, y):\n",
    "    if (yi < 1.1) and (yi > 1):  print((xi, yi))"
   ]
  },
  {
   "cell_type": "code",
   "execution_count": 22,
   "metadata": {},
   "outputs": [
    {
     "data": {
      "image/png": "[encoded data removed]",
      "text/plain": [
       "<Figure size 468x396 with 2 Axes>"
      ]
     },
     "metadata": {
      "needs_background": "light"
     },
     "output_type": "display_data"
    }
   ],
   "source": [
    "fig, axs = plt.subplots(figsize=(6.5, 5.5))\n",
    "\n",
    "temp_df = cpm_df\n",
    "\n",
    "x = temp_df[\"T_4K\"]\n",
    "y = temp_df[\"T_Still\"]\n",
    "# c = temp_df[\"P_4K\"]\n",
    "c = temp_df[\"P_Still\"]\n",
    "\n",
    "# viridis = mpl.colormaps['viridis']\n",
    "# c = viridis(c)\n",
    "\n",
    "s = axs.scatter(x, y, c=c, cmap='viridis')\n",
    "\n",
    "axs.grid(True, \"major\", \"y\", lw=0.5, alpha=0.5)\n",
    "axs.grid(True, \"major\", \"x\", lw=0.5, alpha=0.5)\n",
    "\n",
    "axs.set_xlabel(r\"$T_{4K}$ (K)\")\n",
    "axs.set_ylabel(r\"$T_{Still}$ (K)\")\n",
    "\n",
    "cb = fig.colorbar(s, ax=axs)\n",
    "\n",
    "cb.set_label(r\"$P_{Still}$ (W)\")\n",
    "axs.set_title(\"4K temp vs. Still temp\")\n",
    "\n",
    "plt.show()"
   ]
  },
  {
   "cell_type": "code",
   "execution_count": 24,
   "metadata": {},
   "outputs": [
    {
     "data": {
      "image/png": "[encoded data removed]",
      "text/plain": [
       "<Figure size 396x396 with 2 Axes>"
      ]
     },
     "metadata": {
      "needs_background": "light"
     },
     "output_type": "display_data"
    }
   ],
   "source": [
    "fig, axs = plt.subplots(figsize=(5.5, 5.5))\n",
    "\n",
    "stages = [\"50K\", \"4K\", \"Still\", \"CP\", \"MXC\"]\n",
    "\n",
    "temp_df = cpm_df.query(\n",
    "    # \"P_50K == 0 &\" +\n",
    "    \"P_4K == 0 &\" +\n",
    "    \"P_Still == 30 &\" +\n",
    "    \"P_MXC == 30 &\" +\n",
    "    \"P_CP == 0\"\n",
    ")\n",
    "\n",
    "x = temp_df[\"P_50K\"]\n",
    "\n",
    "y = [temp_df[\"T_\"+stage] for stage in stages]\n",
    "x_min_idx = x.idxmin()\n",
    "y_0 = y[0][x_min_idx]\n",
    "y = [yi/yi[x_min_idx]-1 for yi in y]\n",
    "\n",
    "for yi in y:\n",
    "    axs.scatter(x, yi)\n",
    "\n",
    "axs2 = axs.twinx()\n",
    "axs2.set_ylim((np.array(axs.get_ylim())+1)*y_0)\n",
    "\n",
    "axs.yaxis.set_minor_locator(mpl.ticker.AutoMinorLocator(5))\n",
    "axs2.yaxis.set_minor_locator(mpl.ticker.AutoMinorLocator(5))\n",
    "\n",
    "axs.set_xlabel(r\"$P_{50K}$ (W)\")\n",
    "axs.set_ylabel(\"Increase from Base Temp.\")\n",
    "axs2.set_ylabel(r\"$T_{50K}$ (K)\")\n",
    "\n",
    "axs.grid(True, \"minor\", \"y\", lw=0.5, alpha=0.5)\n",
    "axs.grid(True, \"major\", \"y\")\n",
    "axs.legend(stages)\n",
    "\n",
    "plt.savefig(\"CPM Plots/22-08-02/P50KvsAll.png\", dpi=400, bbox_inches=\"tight\")\n",
    "\n",
    "plt.show()\n"
   ]
  },
  {
   "cell_type": "code",
   "execution_count": 25,
   "metadata": {},
   "outputs": [
    {
     "data": {
      "image/png": "[encoded data removed]",
      "text/plain": [
       "<Figure size 396x396 with 2 Axes>"
      ]
     },
     "metadata": {
      "needs_background": "light"
     },
     "output_type": "display_data"
    }
   ],
   "source": [
    "fig, axs = plt.subplots(figsize=(5.5, 5.5))\n",
    "\n",
    "stages = [\"50K\", \"4K\", \"Still\", \"CP\", \"MXC\"]\n",
    "\n",
    "temp_df = cpm_df.query(\n",
    "    \"P_50K == 0 &\" +\n",
    "    # \"P_4K == 100 &\" +\n",
    "    \"P_Still == 30 &\" +\n",
    "    \"P_MXC == 30 &\" +\n",
    "    \"P_CP == 0\"\n",
    ")\n",
    "\n",
    "x = temp_df[\"P_4K\"]\n",
    "\n",
    "y = [temp_df[\"T_\"+stage] for stage in stages]\n",
    "x_min_idx = x.idxmin()\n",
    "y_0 = y[1][x_min_idx]\n",
    "y = [yi/yi[x_min_idx]-1 for yi in y]\n",
    "\n",
    "for yi in y:\n",
    "    axs.scatter(x, yi)\n",
    "\n",
    "axs2 = axs.twinx()\n",
    "axs2.set_ylim((np.array(axs.get_ylim())+1)*y_0)\n",
    "\n",
    "axs.yaxis.set_minor_locator(mpl.ticker.AutoMinorLocator(5))\n",
    "axs2.yaxis.set_minor_locator(mpl.ticker.AutoMinorLocator(5))\n",
    "\n",
    "axs.set_xlabel(r\"$P_{4K}$ (mW)\")\n",
    "axs.set_ylabel(\"Increase from Base Temp.\")\n",
    "axs2.set_ylabel(r\"$T_{4K}$ (K)\")\n",
    "\n",
    "axs.grid(True, \"minor\", \"y\", lw=0.5, alpha=0.5)\n",
    "axs.grid(True, \"major\", \"y\")\n",
    "axs.legend(stages)\n",
    "\n",
    "plt.savefig(\"CPM Plots/22-08-02/P4KvsAll.png\", dpi=400, bbox_inches=\"tight\")\n",
    "\n",
    "plt.show()"
   ]
  },
  {
   "cell_type": "code",
   "execution_count": 15,
   "metadata": {},
   "outputs": [
    {
     "data": {
      "text/html": [
       "<div>\n",
       "<style scoped>\n",
       "    .dataframe tbody tr th:only-of-type {\n",
       "        vertical-align: middle;\n",
       "    }\n",
       "\n",
       "    .dataframe tbody tr th {\n",
       "        vertical-align: top;\n",
       "    }\n",
       "\n",
       "    .dataframe thead th {\n",
       "        text-align: right;\n",
       "    }\n",
       "</style>\n",
       "<table border=\"1\" class=\"dataframe\">\n",
       "  <thead>\n",
       "    <tr style=\"text-align: right;\">\n",
       "      <th></th>\n",
       "      <th>Time</th>\n",
       "      <th>P_50K</th>\n",
       "      <th>P_4K</th>\n",
       "      <th>P_Still</th>\n",
       "      <th>P_CP</th>\n",
       "      <th>P_MXC</th>\n",
       "      <th>T_50K</th>\n",
       "      <th>T_4K</th>\n",
       "      <th>T_Still</th>\n",
       "      <th>T_CP</th>\n",
       "      <th>T_MXC</th>\n",
       "      <th>P2</th>\n",
       "      <th>P3</th>\n",
       "      <th>P4</th>\n",
       "      <th>P5</th>\n",
       "      <th>Flow</th>\n",
       "      <th>Comment</th>\n",
       "    </tr>\n",
       "  </thead>\n",
       "  <tbody>\n",
       "    <tr>\n",
       "      <th>46</th>\n",
       "      <td>2022-07-11 20:52:00</td>\n",
       "      <td>0.0</td>\n",
       "      <td>0.0</td>\n",
       "      <td>45.0</td>\n",
       "      <td>0.0</td>\n",
       "      <td>30.0</td>\n",
       "      <td>41.4363</td>\n",
       "      <td>3.29889</td>\n",
       "      <td>1.27650</td>\n",
       "      <td>0.086174</td>\n",
       "      <td>0.022771</td>\n",
       "      <td>0.0549</td>\n",
       "      <td>828.0</td>\n",
       "      <td>914.0</td>\n",
       "      <td>2.62</td>\n",
       "      <td>1.006819</td>\n",
       "      <td>NaN</td>\n",
       "    </tr>\n",
       "    <tr>\n",
       "      <th>47</th>\n",
       "      <td>2022-07-11 21:22:00</td>\n",
       "      <td>0.0</td>\n",
       "      <td>0.0</td>\n",
       "      <td>40.0</td>\n",
       "      <td>0.0</td>\n",
       "      <td>30.0</td>\n",
       "      <td>41.4465</td>\n",
       "      <td>3.27223</td>\n",
       "      <td>1.28037</td>\n",
       "      <td>0.084830</td>\n",
       "      <td>0.022837</td>\n",
       "      <td>0.0485</td>\n",
       "      <td>763.0</td>\n",
       "      <td>840.0</td>\n",
       "      <td>2.62</td>\n",
       "      <td>1.006819</td>\n",
       "      <td>NaN</td>\n",
       "    </tr>\n",
       "    <tr>\n",
       "      <th>48</th>\n",
       "      <td>2022-07-11 21:41:00</td>\n",
       "      <td>0.0</td>\n",
       "      <td>0.0</td>\n",
       "      <td>35.0</td>\n",
       "      <td>0.0</td>\n",
       "      <td>30.0</td>\n",
       "      <td>41.4016</td>\n",
       "      <td>3.24711</td>\n",
       "      <td>1.26372</td>\n",
       "      <td>0.083945</td>\n",
       "      <td>0.023066</td>\n",
       "      <td>0.0455</td>\n",
       "      <td>717.0</td>\n",
       "      <td>801.0</td>\n",
       "      <td>2.63</td>\n",
       "      <td>1.006819</td>\n",
       "      <td>NaN</td>\n",
       "    </tr>\n",
       "    <tr>\n",
       "      <th>49</th>\n",
       "      <td>2022-07-11 21:54:00</td>\n",
       "      <td>0.0</td>\n",
       "      <td>0.0</td>\n",
       "      <td>30.0</td>\n",
       "      <td>0.0</td>\n",
       "      <td>30.0</td>\n",
       "      <td>41.3947</td>\n",
       "      <td>3.22747</td>\n",
       "      <td>1.22467</td>\n",
       "      <td>0.082587</td>\n",
       "      <td>0.023342</td>\n",
       "      <td>0.0418</td>\n",
       "      <td>694.0</td>\n",
       "      <td>781.0</td>\n",
       "      <td>2.63</td>\n",
       "      <td>1.006819</td>\n",
       "      <td>NaN</td>\n",
       "    </tr>\n",
       "    <tr>\n",
       "      <th>50</th>\n",
       "      <td>2022-07-11 22:08:00</td>\n",
       "      <td>0.0</td>\n",
       "      <td>0.0</td>\n",
       "      <td>26.0</td>\n",
       "      <td>0.0</td>\n",
       "      <td>30.0</td>\n",
       "      <td>41.3478</td>\n",
       "      <td>3.21269</td>\n",
       "      <td>1.18986</td>\n",
       "      <td>0.081261</td>\n",
       "      <td>0.023633</td>\n",
       "      <td>0.0389</td>\n",
       "      <td>679.0</td>\n",
       "      <td>760.0</td>\n",
       "      <td>2.63</td>\n",
       "      <td>1.006819</td>\n",
       "      <td>NaN</td>\n",
       "    </tr>\n",
       "    <tr>\n",
       "      <th>...</th>\n",
       "      <td>...</td>\n",
       "      <td>...</td>\n",
       "      <td>...</td>\n",
       "      <td>...</td>\n",
       "      <td>...</td>\n",
       "      <td>...</td>\n",
       "      <td>...</td>\n",
       "      <td>...</td>\n",
       "      <td>...</td>\n",
       "      <td>...</td>\n",
       "      <td>...</td>\n",
       "      <td>...</td>\n",
       "      <td>...</td>\n",
       "      <td>...</td>\n",
       "      <td>...</td>\n",
       "      <td>...</td>\n",
       "      <td>...</td>\n",
       "    </tr>\n",
       "    <tr>\n",
       "      <th>492</th>\n",
       "      <td>2022-07-16 19:09:00</td>\n",
       "      <td>0.0</td>\n",
       "      <td>0.0</td>\n",
       "      <td>10.0</td>\n",
       "      <td>0.0</td>\n",
       "      <td>30.0</td>\n",
       "      <td>40.8361</td>\n",
       "      <td>3.06801</td>\n",
       "      <td>0.96146</td>\n",
       "      <td>0.072442</td>\n",
       "      <td>0.027248</td>\n",
       "      <td>0.0217</td>\n",
       "      <td>586.0</td>\n",
       "      <td>658.0</td>\n",
       "      <td>3.71</td>\n",
       "      <td>0.618101</td>\n",
       "      <td>NaN</td>\n",
       "    </tr>\n",
       "    <tr>\n",
       "      <th>493</th>\n",
       "      <td>2022-07-16 19:21:00</td>\n",
       "      <td>0.0</td>\n",
       "      <td>0.0</td>\n",
       "      <td>10.0</td>\n",
       "      <td>0.0</td>\n",
       "      <td>30.0</td>\n",
       "      <td>40.8447</td>\n",
       "      <td>3.06835</td>\n",
       "      <td>0.96186</td>\n",
       "      <td>0.072447</td>\n",
       "      <td>0.027234</td>\n",
       "      <td>0.0217</td>\n",
       "      <td>582.0</td>\n",
       "      <td>658.0</td>\n",
       "      <td>3.72</td>\n",
       "      <td>0.629484</td>\n",
       "      <td>NaN</td>\n",
       "    </tr>\n",
       "    <tr>\n",
       "      <th>494</th>\n",
       "      <td>2022-07-16 19:34:00</td>\n",
       "      <td>0.0</td>\n",
       "      <td>0.0</td>\n",
       "      <td>10.0</td>\n",
       "      <td>0.0</td>\n",
       "      <td>30.0</td>\n",
       "      <td>40.8712</td>\n",
       "      <td>3.06368</td>\n",
       "      <td>0.96116</td>\n",
       "      <td>0.072434</td>\n",
       "      <td>0.027252</td>\n",
       "      <td>0.0217</td>\n",
       "      <td>578.0</td>\n",
       "      <td>657.0</td>\n",
       "      <td>3.72</td>\n",
       "      <td>0.604184</td>\n",
       "      <td>NaN</td>\n",
       "    </tr>\n",
       "    <tr>\n",
       "      <th>495</th>\n",
       "      <td>2022-07-16 19:46:00</td>\n",
       "      <td>0.0</td>\n",
       "      <td>0.0</td>\n",
       "      <td>10.0</td>\n",
       "      <td>0.0</td>\n",
       "      <td>30.0</td>\n",
       "      <td>40.8723</td>\n",
       "      <td>3.06461</td>\n",
       "      <td>0.96122</td>\n",
       "      <td>0.072348</td>\n",
       "      <td>0.027288</td>\n",
       "      <td>0.0217</td>\n",
       "      <td>582.0</td>\n",
       "      <td>656.0</td>\n",
       "      <td>3.72</td>\n",
       "      <td>0.582389</td>\n",
       "      <td>NaN</td>\n",
       "    </tr>\n",
       "    <tr>\n",
       "      <th>496</th>\n",
       "      <td>2022-07-16 19:58:00</td>\n",
       "      <td>0.0</td>\n",
       "      <td>0.0</td>\n",
       "      <td>10.0</td>\n",
       "      <td>0.0</td>\n",
       "      <td>30.0</td>\n",
       "      <td>40.8569</td>\n",
       "      <td>3.06482</td>\n",
       "      <td>0.96150</td>\n",
       "      <td>0.072409</td>\n",
       "      <td>0.027267</td>\n",
       "      <td>0.0217</td>\n",
       "      <td>587.0</td>\n",
       "      <td>657.0</td>\n",
       "      <td>3.72</td>\n",
       "      <td>0.559290</td>\n",
       "      <td>NaN</td>\n",
       "    </tr>\n",
       "  </tbody>\n",
       "</table>\n",
       "<p>117 rows × 17 columns</p>\n",
       "</div>"
      ],
      "text/plain": [
       "                   Time  P_50K  P_4K  P_Still  P_CP  P_MXC    T_50K     T_4K  \\\n",
       "46  2022-07-11 20:52:00    0.0   0.0     45.0   0.0   30.0  41.4363  3.29889   \n",
       "47  2022-07-11 21:22:00    0.0   0.0     40.0   0.0   30.0  41.4465  3.27223   \n",
       "48  2022-07-11 21:41:00    0.0   0.0     35.0   0.0   30.0  41.4016  3.24711   \n",
       "49  2022-07-11 21:54:00    0.0   0.0     30.0   0.0   30.0  41.3947  3.22747   \n",
       "50  2022-07-11 22:08:00    0.0   0.0     26.0   0.0   30.0  41.3478  3.21269   \n",
       "..                  ...    ...   ...      ...   ...    ...      ...      ...   \n",
       "492 2022-07-16 19:09:00    0.0   0.0     10.0   0.0   30.0  40.8361  3.06801   \n",
       "493 2022-07-16 19:21:00    0.0   0.0     10.0   0.0   30.0  40.8447  3.06835   \n",
       "494 2022-07-16 19:34:00    0.0   0.0     10.0   0.0   30.0  40.8712  3.06368   \n",
       "495 2022-07-16 19:46:00    0.0   0.0     10.0   0.0   30.0  40.8723  3.06461   \n",
       "496 2022-07-16 19:58:00    0.0   0.0     10.0   0.0   30.0  40.8569  3.06482   \n",
       "\n",
       "     T_Still      T_CP     T_MXC      P2     P3     P4    P5      Flow  \\\n",
       "46   1.27650  0.086174  0.022771  0.0549  828.0  914.0  2.62  1.006819   \n",
       "47   1.28037  0.084830  0.022837  0.0485  763.0  840.0  2.62  1.006819   \n",
       "48   1.26372  0.083945  0.023066  0.0455  717.0  801.0  2.63  1.006819   \n",
       "49   1.22467  0.082587  0.023342  0.0418  694.0  781.0  2.63  1.006819   \n",
       "50   1.18986  0.081261  0.023633  0.0389  679.0  760.0  2.63  1.006819   \n",
       "..       ...       ...       ...     ...    ...    ...   ...       ...   \n",
       "492  0.96146  0.072442  0.027248  0.0217  586.0  658.0  3.71  0.618101   \n",
       "493  0.96186  0.072447  0.027234  0.0217  582.0  658.0  3.72  0.629484   \n",
       "494  0.96116  0.072434  0.027252  0.0217  578.0  657.0  3.72  0.604184   \n",
       "495  0.96122  0.072348  0.027288  0.0217  582.0  656.0  3.72  0.582389   \n",
       "496  0.96150  0.072409  0.027267  0.0217  587.0  657.0  3.72  0.559290   \n",
       "\n",
       "     Comment  \n",
       "46       NaN  \n",
       "47       NaN  \n",
       "48       NaN  \n",
       "49       NaN  \n",
       "50       NaN  \n",
       "..       ...  \n",
       "492      NaN  \n",
       "493      NaN  \n",
       "494      NaN  \n",
       "495      NaN  \n",
       "496      NaN  \n",
       "\n",
       "[117 rows x 17 columns]"
      ]
     },
     "execution_count": 15,
     "metadata": {},
     "output_type": "execute_result"
    }
   ],
   "source": [
    "cpm_path = \"CPM_data_after_RC (corrected).csv\"\n",
    "\n",
    "cpm_df = pd.read_csv(\n",
    "    cpm_path,\n",
    "    header=0,\n",
    "    parse_dates=[0]\n",
    ")\n",
    "\n",
    "cpm_df[\"T_MXC\"] = cpm_df[\"T_MXC\"].replace(0, np.nan)\n",
    "\n",
    "temp_df = cpm_df.query(\n",
    "    \"P_50K == 0 &\" +\n",
    "    \"P_4K == 0 &\" +\n",
    "    # \"P_Still == 30 &\" +\n",
    "    \"P_MXC == 30 &\" +\n",
    "    \"P_CP == 0\"\n",
    ")\n",
    "temp_df"
   ]
  },
  {
   "cell_type": "code",
   "execution_count": 23,
   "metadata": {},
   "outputs": [
    {
     "data": {
      "text/plain": [
       "array([99.2536871 ,  0.70439928, -3.16565894])"
      ]
     },
     "execution_count": 23,
     "metadata": {},
     "output_type": "execute_result"
    }
   ],
   "source": [
    "temp_df = cpm_df.query(\n",
    "    \"P_50K == 0 &\" +\n",
    "    \"P_4K == 0 &\" +\n",
    "    \"P_Still <= 35 &\" +\n",
    "    \"P_MXC == 30 &\" +\n",
    "    \"P_CP == 0\"\n",
    ")\n",
    "\n",
    "y = temp_df[\"P_Still\"]\n",
    "x = temp_df[\"T_Still\"]\n",
    "\n",
    "fit_func = lambda beta, x: beta[0]*(x-beta[1])**2 - beta[2]\n",
    "res_func = lambda beta, x, y: fit_func(beta, x)- y\n",
    "\n",
    "res_lsq = least_squares(res_func, x0=[0, 0, 0], args=(x, y))\n",
    "beta = res_lsq.x\n",
    "beta"
   ]
  },
  {
   "cell_type": "code",
   "execution_count": 26,
   "metadata": {},
   "outputs": [
    {
     "data": {
      "image/png": "[encoded data removed]",
      "text/plain": [
       "<Figure size 396x396 with 1 Axes>"
      ]
     },
     "metadata": {
      "needs_background": "light"
     },
     "output_type": "display_data"
    }
   ],
   "source": [
    "fig, axs = plt.subplots(figsize=(5.5, 5.5))\n",
    "\n",
    "temp_df = cpm_df.query(\n",
    "    \"P_50K == 0 &\" +\n",
    "    \"P_4K == 0 &\" +\n",
    "    \"P_Still <= 35 &\" +\n",
    "    \"P_MXC == 30 &\" +\n",
    "    \"P_CP == 0\"\n",
    ")\n",
    "\n",
    "y = temp_df[\"P_Still\"]\n",
    "x = temp_df[\"T_Still\"]\n",
    "\n",
    "axs.scatter(x, y)\n",
    "\n",
    "x = np.linspace(0.8, 1.3, 100)\n",
    "axs.plot(x, fit_func(beta, x))\n",
    "\n",
    "axs.grid(True, \"major\", \"x\", lw=0.5, alpha=0.5)\n",
    "axs.grid(True, \"major\", \"y\", lw=0.5, alpha=0.5)\n",
    "\n",
    "axs.set_xlabel(r\"$T_{Still}$ (K)\")\n",
    "axs.set_ylabel(r\"$P_{Still}$ (mW)\")\n",
    "\n",
    "plt.show()"
   ]
  },
  {
   "cell_type": "code",
   "execution_count": 28,
   "metadata": {},
   "outputs": [
    {
     "data": {
      "text/plain": [
       "13.759987213353964"
      ]
     },
     "execution_count": 28,
     "metadata": {},
     "output_type": "execute_result"
    }
   ],
   "source": [
    "fit_func(beta, 1.03111)"
   ]
  },
  {
   "cell_type": "code",
   "execution_count": 33,
   "metadata": {},
   "outputs": [
    {
     "data": {
      "text/plain": [
       "0.005636754244035235"
      ]
     },
     "execution_count": 33,
     "metadata": {},
     "output_type": "execute_result"
    }
   ],
   "source": [
    "((15.95477-13.759987)*10**(-3))/(2.45231-2.06294)"
   ]
  },
  {
   "cell_type": "code",
   "execution_count": 26,
   "metadata": {},
   "outputs": [
    {
     "data": {
      "image/png": "[encoded data removed]",
      "text/plain": [
       "<Figure size 396x396 with 2 Axes>"
      ]
     },
     "metadata": {
      "needs_background": "light"
     },
     "output_type": "display_data"
    }
   ],
   "source": [
    "fig, axs = plt.subplots(figsize=(5.5, 5.5))\n",
    "\n",
    "stages = [\"50K\", \"4K\", \"Still\", \"CP\", \"MXC\"]\n",
    "\n",
    "temp_df = cpm_df.query(\n",
    "    \"P_50K == 0 &\" +\n",
    "    \"P_4K == 0 &\" +\n",
    "    # \"P_Still == 30 &\" +\n",
    "    \"P_MXC == 30 &\" +\n",
    "    \"P_CP == 0\"\n",
    ")\n",
    "\n",
    "x = temp_df[\"P_Still\"]\n",
    "\n",
    "y = [temp_df[\"T_\"+stage] for stage in stages]\n",
    "x_min_idx = x.idxmin()\n",
    "y_0 = y[2][x_min_idx]\n",
    "y = [yi/yi[x_min_idx]-1 for yi in y]\n",
    "\n",
    "for yi in y:\n",
    "    axs.scatter(x, yi)\n",
    "\n",
    "axs2 = axs.twinx()\n",
    "axs2.set_ylim((np.array(axs.get_ylim())+1)*y_0)\n",
    "\n",
    "axs.yaxis.set_minor_locator(mpl.ticker.AutoMinorLocator(5))\n",
    "axs2.yaxis.set_minor_locator(mpl.ticker.AutoMinorLocator(5))\n",
    "\n",
    "axs.set_xlabel(r\"$P_{Still}$ (mW)\")\n",
    "axs.set_ylabel(\"Increase from Base Temp.\")\n",
    "axs2.set_ylabel(r\"$T_{Still}$ (K)\")\n",
    "\n",
    "axs.grid(True, \"minor\", \"y\", lw=0.5, alpha=0.5)\n",
    "axs.grid(True, \"major\", \"y\")\n",
    "axs.legend(stages)\n",
    "\n",
    "plt.savefig(\"CPM Plots/22-08-02/PStillvsAll.png\", dpi=400, bbox_inches=\"tight\")\n",
    "\n",
    "plt.show()"
   ]
  },
  {
   "cell_type": "code",
   "execution_count": 4,
   "metadata": {},
   "outputs": [
    {
     "data": {
      "image/png": "[encoded data removed]",
      "text/plain": [
       "<Figure size 396x396 with 2 Axes>"
      ]
     },
     "metadata": {
      "needs_background": "light"
     },
     "output_type": "display_data"
    }
   ],
   "source": [
    "fig, axs = plt.subplots(figsize=(5.5, 5.5))\n",
    "\n",
    "stages = [\"50K\", \"4K\", \"Still\", \"CP\", \"MXC\"]\n",
    "\n",
    "temp_df = cpm_df.query(\n",
    "    \"P_50K == 0 &\" +\n",
    "    \"P_4K == 0 &\" +\n",
    "    \"P_Still == 10 &\" +\n",
    "    # \"P_CP == 300 &\" +\n",
    "    \"P_MXC == 30\"\n",
    ")\n",
    "\n",
    "x = temp_df[\"P_CP\"]\n",
    "\n",
    "y = [temp_df[\"T_\"+stage] for stage in stages]\n",
    "x_min_idx = x.idxmin()\n",
    "y_0 = y[3][x_min_idx]\n",
    "y = [yi/yi[x_min_idx]-1 for yi in y]\n",
    "\n",
    "for yi in y:\n",
    "    axs.scatter(x, yi)\n",
    "\n",
    "axs2 = axs.twinx()\n",
    "axs2.set_ylim((np.array(axs.get_ylim())+1)*y_0)\n",
    "\n",
    "axs.yaxis.set_minor_locator(mpl.ticker.AutoMinorLocator(5))\n",
    "axs2.yaxis.set_minor_locator(mpl.ticker.AutoMinorLocator(5))\n",
    "\n",
    "axs.set_xlabel(r\"$P_{CP}$ (W)\")\n",
    "axs.set_ylabel(\"Increase from Base Temp.\")\n",
    "axs2.set_ylabel(r\"$T_{CP}$ (K)\")\n",
    "\n",
    "axs.grid(True, \"minor\", \"y\", lw=0.5, alpha=0.5)\n",
    "axs.grid(True, \"major\", \"y\")\n",
    "axs.legend(stages)\n",
    "\n",
    "plt.savefig(\"CPM Plots/22-08-08/PCPvsAll.png\", dpi=400, bbox_inches=\"tight\")\n",
    "\n",
    "plt.show()"
   ]
  },
  {
   "cell_type": "code",
   "execution_count": 8,
   "metadata": {},
   "outputs": [
    {
     "data": {
      "image/png": "[encoded data removed]",
      "text/plain": [
       "<Figure size 396x396 with 1 Axes>"
      ]
     },
     "metadata": {
      "needs_background": "light"
     },
     "output_type": "display_data"
    }
   ],
   "source": [
    "fig, axs = plt.subplots(figsize=(5.5, 5.5))\n",
    "\n",
    "stages = [\"50K\", \"4K\", \"Still\", \"CP\", \"MXC\"]\n",
    "\n",
    "temp_df = cpm_df.query(\n",
    "    \"P_50K == 0 &\" +\n",
    "    \"P_4K == 0 &\" +\n",
    "    \"P_Still == 10 &\" +\n",
    "    # \"P_CP == 300 &\" +\n",
    "    \"P_MXC == 30\"\n",
    ")\n",
    "\n",
    "x = temp_df[\"P_CP\"]\n",
    "\n",
    "y = [temp_df[\"T_\"+stage] for stage in stages]\n",
    "x_min_idx = x.idxmin()\n",
    "y_0 = y[3][x_min_idx]\n",
    "y = [yi/yi[x_min_idx]-1 for yi in y]\n",
    "\n",
    "for yi in y:\n",
    "    axs.scatter(x, yi)\n",
    "\n",
    "# axs2 = axs.twinx()\n",
    "# axs2.set_ylim((np.array(axs.get_ylim())+1)*y_0)\n",
    "\n",
    "axs.yaxis.set_minor_locator(mpl.ticker.AutoMinorLocator(5))\n",
    "# axs2.yaxis.set_minor_locator(mpl.ticker.AutoMinorLocator(5))\n",
    "\n",
    "axs.set_xlabel(r\"$P_{CP}$ (W)\")\n",
    "axs.set_ylabel(\"Increase from Base Temp.\")\n",
    "# axs2.set_ylabel(r\"$T_{CP}$ (K)\")\n",
    "\n",
    "axs.grid(True, \"minor\", \"y\", lw=0.5, alpha=0.5)\n",
    "axs.grid(True, \"major\", \"y\")\n",
    "axs.legend(stages)\n",
    "\n",
    "axs.set_ylim(0.006*np.array(axs.get_ylim()))\n",
    "\n",
    "plt.savefig(\"CPM Plots/22-08-08/PCPvsAllZoom.png\", dpi=400, bbox_inches=\"tight\")\n",
    "\n",
    "plt.show()"
   ]
  },
  {
   "cell_type": "code",
   "execution_count": 27,
   "metadata": {},
   "outputs": [
    {
     "data": {
      "image/png": "[encoded data removed]",
      "text/plain": [
       "<Figure size 396x396 with 2 Axes>"
      ]
     },
     "metadata": {
      "needs_background": "light"
     },
     "output_type": "display_data"
    }
   ],
   "source": [
    "fig, axs = plt.subplots(figsize=(5.5, 5.5))\n",
    "\n",
    "stages = [\"50K\", \"4K\", \"Still\", \"CP\", \"MXC\"]\n",
    "\n",
    "temp_df = cpm_df.query(\n",
    "    \"P_50K == 0 &\" +\n",
    "    \"P_4K == 0 &\" +\n",
    "    \"P_Still == 30 &\" +\n",
    "    # \"P_MXC == 30 &\" +\n",
    "    \"P_CP == 0\"\n",
    ")\n",
    "\n",
    "x = temp_df[\"P_MXC\"]\n",
    "\n",
    "y = [temp_df[\"T_\"+stage] for stage in stages]\n",
    "x_min_idx = x[y[4].notna()].idxmin()\n",
    "y_0 = y[4][x_min_idx]\n",
    "y = [yi/yi[x_min_idx]-1 for yi in y]\n",
    "\n",
    "for yi in y:\n",
    "    axs.scatter(x, yi)\n",
    "\n",
    "axs2 = axs.twinx()\n",
    "axs2.set_ylim((np.array(axs.get_ylim())+1)*y_0)\n",
    "\n",
    "axs.yaxis.set_minor_locator(mpl.ticker.AutoMinorLocator(5))\n",
    "axs2.yaxis.set_minor_locator(mpl.ticker.AutoMinorLocator(5))\n",
    "\n",
    "axs.set_xlabel(r\"$P_{MXC}$ (W)\")\n",
    "axs.set_ylabel(\"Increase from Base Temp.\")\n",
    "axs2.set_ylabel(r\"$T_{MXC}$ (K)\")\n",
    "\n",
    "axs.grid(True, \"minor\", \"y\", lw=0.5, alpha=0.5)\n",
    "axs.grid(True, \"major\", \"y\")\n",
    "axs.legend(stages)\n",
    "\n",
    "plt.savefig(\"CPM Plots/22-08-02/PMXCvsAll.png\", dpi=400, bbox_inches=\"tight\")\n",
    "\n",
    "plt.show()"
   ]
  },
  {
   "cell_type": "code",
   "execution_count": 9,
   "metadata": {},
   "outputs": [
    {
     "data": {
      "image/png": "[encoded data removed]",
      "text/plain": [
       "<Figure size 396x396 with 1 Axes>"
      ]
     },
     "metadata": {
      "needs_background": "light"
     },
     "output_type": "display_data"
    }
   ],
   "source": [
    "fig, axs = plt.subplots(figsize=(5.5, 5.5))\n",
    "\n",
    "stages = [\"50K\", \"4K\", \"Still\", \"CP\", \"MXC\"]\n",
    "\n",
    "temp_df = cpm_df.query(\n",
    "    \"P_50K == 0 &\" +\n",
    "    \"P_4K == 0 &\" +\n",
    "    \"P_Still == 30 &\" +\n",
    "    # \"P_MXC == 30 &\" +\n",
    "    \"P_CP == 0\"\n",
    ")\n",
    "\n",
    "x = temp_df[\"P_MXC\"]\n",
    "\n",
    "y = [temp_df[\"T_\"+stage] for stage in stages]\n",
    "x_min_idx = x[y[4].notna()].idxmin()\n",
    "y_0 = y[4][x_min_idx]\n",
    "y = [yi/yi[x_min_idx]-1 for yi in y]\n",
    "\n",
    "for yi in y:\n",
    "    axs.scatter(x, yi)\n",
    "\n",
    "# axs2 = axs.twinx()\n",
    "# axs2.set_ylim((np.array(axs.get_ylim())+1)*y_0)\n",
    "\n",
    "axs.set_ylim(0.0025*np.array(axs.get_ylim()))\n",
    "# axs2.set_ylim(0.025*np.array(axs2.get_ylim()))\n",
    "\n",
    "axs.yaxis.set_minor_locator(mpl.ticker.AutoMinorLocator(5))\n",
    "# axs2.yaxis.set_minor_locator(mpl.ticker.AutoMinorLocator(5))\n",
    "\n",
    "axs.set_xlabel(r\"$P_{MXC}$ (W)\")\n",
    "axs.set_ylabel(\"Increase from Base Temp.\")\n",
    "# axs2.set_ylabel(r\"$T_{MXC}$ (K)\")\n",
    "\n",
    "axs.grid(True, \"minor\", \"y\", lw=0.5, alpha=0.5)\n",
    "axs.grid(True, \"major\", \"y\")\n",
    "axs.legend(stages)\n",
    "\n",
    "plt.savefig(\"CPM Plots/22-08-03/PMXCvsAllZoom2.png\", dpi=400, bbox_inches=\"tight\")\n",
    "\n",
    "plt.show()\n"
   ]
  },
  {
   "cell_type": "code",
   "execution_count": 12,
   "metadata": {},
   "outputs": [
    {
     "data": {
      "image/png": "[encoded data removed]",
      "text/plain": [
       "<Figure size 504x504 with 1 Axes>"
      ]
     },
     "metadata": {
      "needs_background": "light"
     },
     "output_type": "display_data"
    }
   ],
   "source": [
    "fig, axs = plt.subplots(figsize=(7, 7))\n",
    "\n",
    "p_mxc = [10, 20, 30]\n",
    "\n",
    "for p in p_mxc:\n",
    "    temp_df = cpm_df.query(\n",
    "        # \"P_50K == 0 &\" +\n",
    "        # \"P_4K == 0 &\" +\n",
    "        # \"P_CP == 0 &\" +\n",
    "        f\"P_MXC == {p}\"\n",
    "    )\n",
    "    \n",
    "    x = temp_df[\"Flow\"]\n",
    "    y = temp_df[\"T_MXC\"]\n",
    "\n",
    "    # y[y==0] = np.nan\n",
    "\n",
    "    axs.scatter(x, y)\n",
    "\n",
    "axs.legend([r\"$P_{MXC} = 10\\mu$W\", r\"$P_{MXC} = 20\\mu$W\", r\"$P_{MXC} = 30\\mu$W\"])\n",
    "axs.set_xlabel(r\"Flow (mmol/s)\")\n",
    "axs.set_ylabel(r\"$T_{MXC}$ (K)\")\n",
    "\n",
    "plt.savefig(\"CPM Plots/22-08-03/FlowvsMXC.png\", dpi=400, bbox_inches=\"tight\")\n",
    "\n",
    "plt.show()"
   ]
  },
  {
   "cell_type": "markdown",
   "metadata": {},
   "source": [
    "## Regression"
   ]
  },
  {
   "cell_type": "markdown",
   "metadata": {},
   "source": [
    "### Test"
   ]
  },
  {
   "cell_type": "code",
   "execution_count": 2,
   "metadata": {},
   "outputs": [],
   "source": [
    "def generate_data(t, A, sigma, omega, noise=0):\n",
    "    y = A * np.exp(-sigma * t) * np.sin(omega * t)\n",
    "    error = np.random.normal(loc=0.0, scale=noise, size=t.size)\n",
    "    return y + error\n",
    "\n",
    "def fun(x, t, y):\n",
    "    return x[0] * np.exp(-x[1] * t) * np.sin(x[2] * t) - y"
   ]
  },
  {
   "cell_type": "code",
   "execution_count": 4,
   "metadata": {},
   "outputs": [],
   "source": [
    "A = 2\n",
    "sigma = 0.1\n",
    "omega = 0.1 * 2 * np.pi\n",
    "x_true = np.array([A, sigma, omega])\n",
    "\n",
    "noise = 0.1\n",
    "\n",
    "t_min = 0\n",
    "t_max = 30\n",
    "\n",
    "t_train = np.linspace(t_min, t_max, 30)\n",
    "y_train = generate_data(t_train, A, sigma, omega, noise=noise)"
   ]
  },
  {
   "cell_type": "code",
   "execution_count": 5,
   "metadata": {},
   "outputs": [],
   "source": [
    "x0 = np.ones(3)\n",
    "\n",
    "res_lsq = least_squares(fun, x0, args=(t_train, y_train))"
   ]
  },
  {
   "cell_type": "code",
   "execution_count": 6,
   "metadata": {},
   "outputs": [],
   "source": [
    "t_test = np.linspace(t_min, t_max, 300)\n",
    "y_test = generate_data(t_test, A, sigma, omega)\n",
    "y_lsq = generate_data(t_test, *res_lsq.x)"
   ]
  },
  {
   "cell_type": "code",
   "execution_count": 7,
   "metadata": {},
   "outputs": [
    {
     "data": {
      "image/png": "[encoded data removed]",
      "text/plain": [
       "<Figure size 432x288 with 1 Axes>"
      ]
     },
     "metadata": {
      "needs_background": "light"
     },
     "output_type": "display_data"
    }
   ],
   "source": [
    "plt.plot(t_train, y_train, 'o', label='data')\n",
    "plt.plot(t_test, y_test, label='true')\n",
    "plt.plot(t_test, y_lsq, label='lsq')\n",
    "plt.xlabel('$t$')\n",
    "plt.ylabel('$y$')\n",
    "plt.legend()\n",
    "\n",
    "plt.show()"
   ]
  },
  {
   "cell_type": "markdown",
   "metadata": {},
   "source": [
    "### On CPM Data"
   ]
  },
  {
   "cell_type": "code",
   "execution_count": 4,
   "metadata": {},
   "outputs": [],
   "source": [
    "cpm_path = \"CPM_data combined.csv\"\n",
    "\n",
    "cpm_df = pd.read_csv(\n",
    "    cpm_path,\n",
    "    header=0,\n",
    "    parse_dates=[0]\n",
    ")\n",
    "\n",
    "cpm_df[\"T_MXC\"] = cpm_df[\"T_MXC\"].replace(0, np.nan)\n",
    "\n",
    "P = cpm_df[[\"P_50K\", \"P_4K\", \"P_Still\", \"P_CP\", \"P_MXC\"]].to_numpy()\n",
    "T = cpm_df[[\"T_50K\", \"T_4K\", \"T_Still\", \"T_CP\", \"T_MXC\"]].to_numpy()"
   ]
  },
  {
   "cell_type": "code",
   "execution_count": 23,
   "metadata": {},
   "outputs": [],
   "source": [
    "f_T50K = lambda x, P: (\n",
    "    x[0]*P[:, 0] +\n",
    "    x[1]*P[:, 1] + \n",
    "    x[2]*np.sqrt(P[:, 2] + x[6]**2) +\n",
    "    x[3]*P[:, 3] +\n",
    "    x[4]*P[:, 4] +\n",
    "    x[5]\n",
    ")\n",
    "\n",
    "f_T4K = lambda x, P: (\n",
    "    x[0]*P[:, 0] +\n",
    "    x[1]*P[:, 1] + \n",
    "    x[2]*np.sqrt(P[:, 2] + x[6]) +\n",
    "    x[3]*P[:, 3] +\n",
    "    x[4]*P[:, 4] +\n",
    "    x[5]\n",
    ")\n",
    "\n",
    "f_TStill = lambda x, P: (\n",
    "    x[0]*P[:, 0] +\n",
    "    x[1]*P[:, 1] + \n",
    "    x[2]*np.sqrt(P[:, 2] + x[6]) +\n",
    "    x[3]*np.sqrt(P[:, 3] + x[7]) +\n",
    "    x[4]*np.sqrt(P[:, 4] + x[8]) +\n",
    "    x[5]\n",
    ")\n",
    "\n",
    "f_TCP = lambda x, P: (\n",
    "    x[0]*P[:, 0] +\n",
    "    x[1]*P[:, 1] + \n",
    "    x[2]*np.sqrt(P[:, 2] + x[6]) +\n",
    "    x[3]*np.sqrt(P[:, 3] + x[7]) +\n",
    "    x[4]*np.sqrt(P[:, 4] + x[8]) +\n",
    "    x[5]\n",
    ")\n",
    "\n",
    "f_TMXC = lambda x, P: (\n",
    "    x[0]*P[:, 0] +\n",
    "    x[1]*P[:, 1] + \n",
    "    x[2]*np.sqrt(P[:, 2] + x[6]) +\n",
    "    x[3]*np.sqrt(P[:, 3] + x[7]) +\n",
    "    x[4]*np.sqrt(P[:, 4] + x[8]) +\n",
    "    x[5]\n",
    ")"
   ]
  },
  {
   "cell_type": "code",
   "execution_count": 20,
   "metadata": {},
   "outputs": [],
   "source": [
    "def e_T50K(x, P, T):\n",
    "    return f_T50K(x, P) - T\n",
    "    \n",
    "def e_T4K(x, P, T):\n",
    "    return f_T4K(x, P) - T\n",
    "\n",
    "def e_TStill(x, P, T):\n",
    "    return f_TStill(x, P) - T\n",
    "\n",
    "def e_TCP(x, P, T):\n",
    "    return f_TCP(x, P) - T\n",
    "\n",
    "def e_TMXC(x, P, T):\n",
    "    return f_TMXC(x, P) - T"
   ]
  },
  {
   "cell_type": "code",
   "execution_count": 17,
   "metadata": {},
   "outputs": [
    {
     "data": {
      "text/plain": [
       "(1796,)"
      ]
     },
     "execution_count": 17,
     "metadata": {},
     "output_type": "execute_result"
    }
   ],
   "source": [
    "e_T50K([1, 2, 3, 4, 5, 6, 7], P, T[:, 0])"
   ]
  },
  {
   "cell_type": "code",
   "execution_count": 24,
   "metadata": {},
   "outputs": [],
   "source": [
    "res_lsq = least_squares(e_T50K, np.zeros(7), args=(P, T[:, 0]))"
   ]
  },
  {
   "cell_type": "code",
   "execution_count": 25,
   "metadata": {},
   "outputs": [
    {
     "data": {
      "text/plain": [
       "array([ 8.00120657e-01,  1.10434752e-03,  2.59938741e-01,  3.01290524e-03,\n",
       "       -8.30241333e-04,  4.04292604e+01,  0.00000000e+00])"
      ]
     },
     "execution_count": 25,
     "metadata": {},
     "output_type": "execute_result"
    }
   ],
   "source": [
    "res_lsq.x"
   ]
  },
  {
   "cell_type": "code",
   "execution_count": 49,
   "metadata": {},
   "outputs": [
    {
     "data": {
      "text/plain": [
       "array([42.1534])"
      ]
     },
     "execution_count": 49,
     "metadata": {},
     "output_type": "execute_result"
    }
   ],
   "source": [
    "f_T50K(res_lsq.x, np.array([[0, 0, 6, 0, 30]]))"
   ]
  },
  {
   "cell_type": "code",
   "execution_count": 46,
   "metadata": {},
   "outputs": [
    {
     "data": {
      "text/plain": [
       "(array([[  0,   0,   6,   0,  30],\n",
       "        [  0,   0,   8,   0,  30],\n",
       "        [  0,   0,  10,   0,  30],\n",
       "        ...,\n",
       "        [  4, 100,  20,   0,  30],\n",
       "        [  4, 100,  25,   0,  30],\n",
       "        [  4, 100,  30,   0,  30]], dtype=int64),\n",
       " array([[4.21534e+01, 3.03733e+00, 8.67754e-01, 6.92066e-02, 3.04376e-02],\n",
       "        [4.19565e+01, 3.05087e+00, 9.17488e-01, 7.05559e-02, 2.85720e-02],\n",
       "        [4.18688e+01, 3.06907e+00, 9.60468e-01, 7.22262e-02, 2.72972e-02],\n",
       "        ...,\n",
       "        [4.48797e+01, 3.39169e+00, 1.13292e+00, 7.98429e-02, 2.39675e-02],\n",
       "        [4.49872e+01, 3.41914e+00, 1.18626e+00, 8.20197e-02, 2.35598e-02],\n",
       "        [4.51263e+01, 3.45154e+00, 1.23127e+00, 8.36012e-02, 2.32140e-02]]))"
      ]
     },
     "execution_count": 46,
     "metadata": {},
     "output_type": "execute_result"
    }
   ],
   "source": [
    "P, T"
   ]
  },
  {
   "cell_type": "code",
   "execution_count": null,
   "metadata": {},
   "outputs": [],
   "source": []
  },
  {
   "cell_type": "code",
   "execution_count": 50,
   "metadata": {},
   "outputs": [
    {
     "data": {
      "text/plain": [
       "array([-2.76565440e-02, -2.03118172e-02, -1.59735951e-02, ...,\n",
       "       -4.84371843e-05,  6.90318627e-04,  3.16106563e-04])"
      ]
     },
     "execution_count": 50,
     "metadata": {},
     "output_type": "execute_result"
    }
   ],
   "source": [
    "res_lsq.fun/min(T[:, 0])"
   ]
  },
  {
   "cell_type": "code",
   "execution_count": 42,
   "metadata": {},
   "outputs": [
    {
     "data": {
      "text/plain": [
       "'123 '"
      ]
     },
     "execution_count": 42,
     "metadata": {},
     "output_type": "execute_result"
    }
   ],
   "source": [
    "''.join([\"1\", \"2\", \"3 \"])"
   ]
  },
  {
   "cell_type": "code",
   "execution_count": 67,
   "metadata": {},
   "outputs": [
    {
     "data": {
      "image/png": "[encoded data removed]",
      "text/plain": [
       "<Figure size 396x396 with 1 Axes>"
      ]
     },
     "metadata": {
      "needs_background": "light"
     },
     "output_type": "display_data"
    }
   ],
   "source": [
    "fig, axs = plt.subplots(figsize=(5.5, 5.5))\n",
    "\n",
    "stages = [\"50K\", \"4K\", \"Still\", \"CP\", \"MXC\"]\n",
    "\n",
    "temp_df = cpm_df.query(\n",
    "    # \"P_50K == 0 &\" +\n",
    "    \"P_4K == 0 &\" +\n",
    "    \"P_Still == 30 &\" +\n",
    "    \"P_MXC == 30 &\" +\n",
    "    \"P_CP == 0\"\n",
    ")\n",
    "\n",
    "vals = {}\n",
    "\n",
    "x = temp_df[\"P_50K\"]\n",
    "# x = [cpm_df.query(sum[]) for stage in stages]\n",
    "n = 100\n",
    "x2 = np.append(np.linspace(0, 10, n+1).reshape(n+1, 1), np.zeros((n+1, 4)), axis=1)\n",
    "\n",
    "y = temp_df[\"T_50K\"]\n",
    "y2 = f_T50K(res_lsq.x, x2)\n",
    "\n",
    "# y = [temp_df[\"T_\"+stage] for stage in stages]\n",
    "# x_min_idx = x.idxmin()\n",
    "# y_0 = y[0][x_min_idx]\n",
    "# y = [yi/yi[x_min_idx]-1 for yi in y]\n",
    "\n",
    "# for yi in y:\n",
    "#     axs.scatter(x, yi)\n",
    "\n",
    "axs.scatter(x, y)\n",
    "\n",
    "axs.plot(x2[:, 0], y2)\n",
    "\n",
    "# axs2 = axs.twinx()\n",
    "# axs2.set_ylim((np.array(axs.get_ylim())+1)*y_0)\n",
    "\n",
    "axs.yaxis.set_minor_locator(mpl.ticker.AutoMinorLocator(5))\n",
    "# axs2.yaxis.set_minor_locator(mpl.ticker.AutoMinorLocator(5))\n",
    "\n",
    "axs.set_xlabel(r\"$P_{50K}$ (W)\")\n",
    "axs.set_ylabel(\"Increase from Base Temp.\")\n",
    "# axs2.set_ylabel(r\"$T_{50K}$ (K)\")\n",
    "\n",
    "axs.grid(True, \"minor\", \"y\", lw=0.5, alpha=0.5)\n",
    "axs.grid(True, \"major\", \"y\")\n",
    "# axs.legend(stages)\n",
    "\n",
    "# plt.savefig(\"CPM Plots/22-08-02/P50KvsAll.png\", dpi=400, bbox_inches=\"tight\")\n",
    "\n",
    "plt.show()"
   ]
  },
  {
   "cell_type": "code",
   "execution_count": 68,
   "metadata": {},
   "outputs": [],
   "source": [
    "n = 100\n",
    "a = np.zeros((n+1, 5))\n",
    "a[:, 1] = np.linspace(0, 10, n+1)"
   ]
  },
  {
   "cell_type": "code",
   "execution_count": null,
   "metadata": {},
   "outputs": [],
   "source": [
    "fig, axs = plt.subplots(figsize=(5.5, 5.5))\n",
    "\n",
    "stages = [\"50K\", \"4K\", \"Still\", \"CP\", \"MXC\"]\n",
    "\n",
    "temp_df = cpm_df.query(\n",
    "    # \"P_50K == 0 &\" +\n",
    "    \"P_4K == 0 &\" +\n",
    "    \"P_Still == 30 &\" +\n",
    "    \"P_MXC == 30 &\" +\n",
    "    \"P_CP == 0\"\n",
    ")\n",
    "\n",
    "vals = {}\n",
    "\n",
    "x = temp_df[\"P_4K\"]\n",
    "# x = [cpm_df.query(sum[]) for stage in stages]\n",
    "n = 100\n",
    "x2 = np.zeros((n+1, 5))\n",
    "x2[:, 1] = np.linspace(0, 10, n+1)\n",
    "\n",
    "y = temp_df[\"T_50K\"]\n",
    "y2 = f_T50K(res_lsq.x, x2)\n",
    "\n",
    "# y = [temp_df[\"T_\"+stage] for stage in stages]\n",
    "# x_min_idx = x.idxmin()\n",
    "# y_0 = y[0][x_min_idx]\n",
    "# y = [yi/yi[x_min_idx]-1 for yi in y]\n",
    "\n",
    "# for yi in y:\n",
    "#     axs.scatter(x, yi)\n",
    "\n",
    "axs.scatter(x, y)\n",
    "\n",
    "axs.plot(x2[:, 0], y2)\n",
    "\n",
    "# axs2 = axs.twinx()\n",
    "# axs2.set_ylim((np.array(axs.get_ylim())+1)*y_0)\n",
    "\n",
    "axs.yaxis.set_minor_locator(mpl.ticker.AutoMinorLocator(5))\n",
    "# axs2.yaxis.set_minor_locator(mpl.ticker.AutoMinorLocator(5))\n",
    "\n",
    "axs.set_xlabel(r\"$P_{50K}$ (W)\")\n",
    "axs.set_ylabel(\"Increase from Base Temp.\")\n",
    "# axs2.set_ylabel(r\"$T_{50K}$ (K)\")\n",
    "\n",
    "axs.grid(True, \"minor\", \"y\", lw=0.5, alpha=0.5)\n",
    "axs.grid(True, \"major\", \"y\")\n",
    "# axs.legend(stages)\n",
    "\n",
    "# plt.savefig(\"CPM Plots/22-08-02/P50KvsAll.png\", dpi=400, bbox_inches=\"tight\")\n",
    "\n",
    "plt.show()"
   ]
  }
 ],
 "metadata": {
  "kernelspec": {
   "display_name": "base",
   "language": "python",
   "name": "python3"
  },
  "language_info": {
   "codemirror_mode": {
    "name": "ipython",
    "version": 3
   },
   "file_extension": ".py",
   "mimetype": "text/x-python",
   "name": "python",
   "nbconvert_exporter": "python",
   "pygments_lexer": "ipython3",
   "version": "3.9.12"
  },
  "orig_nbformat": 4,
  "vscode": {
   "interpreter": {
    "hash": "79b8bb23219082ad0fc44db01f66d57ee91506d4fab2efee09119b9c83032853"
   }
  }
 },
 "nbformat": 4,
 "nbformat_minor": 2
}
